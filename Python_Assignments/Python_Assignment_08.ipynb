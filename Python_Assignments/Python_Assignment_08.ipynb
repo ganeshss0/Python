{
 "cells": [
  {
   "cell_type": "markdown",
   "metadata": {},
   "source": [
    "# Python Assignment 8"
   ]
  },
  {
   "cell_type": "markdown",
   "metadata": {},
   "source": [
    "### Answer 1"
   ]
  },
  {
   "cell_type": "markdown",
   "metadata": {},
   "source": [
    "Sum of two matrix"
   ]
  },
  {
   "cell_type": "code",
   "execution_count": 1,
   "metadata": {},
   "outputs": [],
   "source": [
    "def add_matrix(matrix_1: list, matrix_2: list) -> list:\n",
    "    '''Return a nested list by adding two maxtrices.'''\n",
    "    return [[sum(col) for col in zip(*row)] for row in zip(matrix_1, matrix_2)]"
   ]
  },
  {
   "cell_type": "code",
   "execution_count": 2,
   "metadata": {},
   "outputs": [
    {
     "name": "stdout",
     "output_type": "stream",
     "text": [
      "[10, 10, 10]\n",
      "[10, 10, 10]\n",
      "[10, 10, 10]\n"
     ]
    }
   ],
   "source": [
    "matrix_1 = [[1,2,3],\n",
    "            [4,5,6],\n",
    "            [7,8,9]]\n\n",
    "matrix_2 = [[9,8,7],\n",
    "            [6,5,4],\n",
    "            [3,2,1]]\n\n",
    "result = add_matrix(matrix_1, matrix_2)                    # return sum of both matrix\n\n",
    "for row in result: print(row)"
   ]
  },
  {
   "cell_type": "markdown",
   "metadata": {},
   "source": [
    "### Answer 2"
   ]
  },
  {
   "cell_type": "markdown",
   "metadata": {},
   "source": [
    "Multiplication of two matrix"
   ]
  },
  {
   "cell_type": "code",
   "execution_count": 3,
   "metadata": {},
   "outputs": [],
   "source": [
    "def multiply_matrix(matrix_1: list, matrix_2: list) -> list:\n",
    "    '''Return a nested list by multiplying two matrices.'''\n",
    "    res = []\n",
    "    i, j, n  = 0, 0 ,len(matrix_2[0])\n",
    "    for row in matrix_1:\n",
    "        temp = []\n",
    "        while j < n:\n",
    "            tmp = []\n",
    "            for col in row:\n",
    "                tmp.append(col * matrix_2[i][j])\n",
    "                i+=1\n",
    "            j+=1\n",
    "            i = 0\n",
    "            temp.append(sum(tmp))\n",
    "        j = 0\n",
    "        res.append(temp)\n",
    "    return res"
   ]
  },
  {
   "cell_type": "code",
   "execution_count": 4,
   "metadata": {},
   "outputs": [
    {
     "name": "stdout",
     "output_type": "stream",
     "text": [
      "[5, 5, 6]\n",
      "[6, 5, 7]\n",
      "[9, 7, 10]\n"
     ]
    }
   ],
   "source": [
    "mat_1 = [[1,2,1],\n",
    "         [2,1,1],\n",
    "         [3,2,1]]\n",
    "\n",
    "mat_2 = [[2,1,2],\n",
    "         [1,1,1],\n",
    "         [1,2,2]]\n",
    "         \n",
    "result = multiply_matrix(mat_1, mat_2)\n",
    "for row in result: print(row)"
   ]
  },
  {
   "cell_type": "markdown",
   "metadata": {},
   "source": [
    "### Answer 3"
   ]
  },
  {
   "cell_type": "markdown",
   "metadata": {},
   "source": [
    "Transpose a matrix"
   ]
  },
  {
   "cell_type": "code",
   "execution_count": 5,
   "metadata": {},
   "outputs": [],
   "source": [
    "def transpose(matrix: list) -> list:\n",
    "    '''Return a list that is transpose of given matrix.'''\n",
    "    i, j, m, n = 0, 0, len(matrix), len(matrix[0])\n",
    "    res, temp = [], []\n",
    "    while j < n:\n",
    "        if i == m:\n",
    "            i = 0\n",
    "            j += 1\n",
    "            res.append(temp)\n",
    "            temp = []\n",
    "        else:\n",
    "            temp.append(matrix[i][j])\n",
    "            i += 1\n",
    "    return res"
   ]
  },
  {
   "cell_type": "code",
   "execution_count": 6,
   "metadata": {},
   "outputs": [
    {
     "name": "stdout",
     "output_type": "stream",
     "text": [
      "[1, 2, 3]\n",
      "[1, 2, 3]\n",
      "[1, 2, 3]\n"
     ]
    }
   ],
   "source": [
    "mat = [[1,1,1],\n",
    "       [2,2,2],\n",
    "       [3,3,3]]\n",
    "\n",
    "result = transpose(mat)                       # transpose of mat\n",
    "for row in result: print(row)"
   ]
  },
  {
   "cell_type": "markdown",
   "metadata": {},
   "source": [
    "### Answer 4"
   ]
  },
  {
   "cell_type": "markdown",
   "metadata": {},
   "source": [
    "Sort word in Alphabet Order"
   ]
  },
  {
   "cell_type": "code",
   "execution_count": 7,
   "metadata": {},
   "outputs": [],
   "source": [
    "def sort_word(words: list) -> list:\n",
    "    '''Sort the original list of words.'''\n",
    "    i, j, n=  0, 0, len(words)\n",
    "    while i < n - 1:\n",
    "        if j < n - 1:\n",
    "            j += 1\n",
    "        else:\n",
    "            i += 1\n",
    "            j = i\n",
    "            continue\n",
    "        if words[i] > words[j]:\n",
    "            words[i], words[j] = words[j], words[i]"
   ]
  },
  {
   "cell_type": "code",
   "execution_count": 8,
   "metadata": {},
   "outputs": [
    {
     "name": "stdout",
     "output_type": "stream",
     "text": [
      "Unsorted:  ['rice', 'ball', 'apple', 'onion', 'python', 'nice', 'cat', 'ok']\n",
      "Sorted:  ['apple', 'ball', 'cat', 'nice', 'ok', 'onion', 'python', 'rice']\n"
     ]
    }
   ],
   "source": [
    "words = ['rice', 'ball', 'apple', 'onion', 'python', 'nice', 'cat', 'ok']\n",
    "print('Unsorted: ', words)\n",
    "sort_word(words)\n",
    "print('Sorted: ', words)"
   ]
  },
  {
   "cell_type": "markdown",
   "metadata": {},
   "source": [
    "### Answer 5"
   ]
  },
  {
   "cell_type": "markdown",
   "metadata": {},
   "source": [
    "Removes Punctuation from a string"
   ]
  },
  {
   "cell_type": "code",
   "execution_count": 9,
   "metadata": {},
   "outputs": [],
   "source": [
    "def remove_punctuatin(strs: str) -> str:\n",
    "    '''Removes Punctuations from a string.'''\n",
    "    from string import punctuation\n",
    "    i = 0\n",
    "    j = len(strs)\n",
    "    while i < j:\n",
    "        if strs[i] in punctuation:\n",
    "            strs = strs[:i] + strs[i+1:]\n",
    "            j -= 1\n",
    "        else:\n",
    "            i += 1\n",
    "    return strs"
   ]
  },
  {
   "cell_type": "code",
   "execution_count": 10,
   "metadata": {},
   "outputs": [
    {
     "data": {
      "text/plain": [
       "'Qwerty7890'"
      ]
     },
     "execution_count": 10,
     "metadata": {},
     "output_type": "execute_result"
    }
   ],
   "source": [
    "remove_punctuatin('*()Qwerty7890@#*$')                              # return only letters and numbers"
   ]
  }
 ],
 "metadata": {
  "kernelspec": {
   "display_name": "Python 3.10.2 64-bit",
   "language": "python",
   "name": "python3"
  },
  "language_info": {
   "codemirror_mode": {
    "name": "ipython",
    "version": 3
   },
   "file_extension": ".py",
   "mimetype": "text/x-python",
   "name": "python",
   "nbconvert_exporter": "python",
   "pygments_lexer": "ipython3",
   "version": "3.10.2"
  },
  "vscode": {
   "interpreter": {
    "hash": "2469a70536e4d2335a2ea8907942d0699c37342a371ac185bdb5b0aa6f073890"
   }
  }
 },
 "nbformat": 4,
 "nbformat_minor": 4
}
