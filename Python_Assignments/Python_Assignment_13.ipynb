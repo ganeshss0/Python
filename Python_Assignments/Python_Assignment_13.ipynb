{
 "cells": [
  {
   "cell_type": "markdown",
   "metadata": {},
   "source": [
    "# Python Assignment 13"
   ]
  },
  {
   "cell_type": "markdown",
   "metadata": {},
   "source": [
    "### Answer 1"
   ]
  },
  {
   "cell_type": "code",
   "execution_count": 1,
   "metadata": {},
   "outputs": [
    {
     "data": {
      "text/plain": [
       "'18,22,24'"
      ]
     },
     "execution_count": 1,
     "metadata": {},
     "output_type": "execute_result"
    }
   ],
   "source": [
    "def Q_sqrt(D: str) -> str:\n",
    "    '''Return a string based on the formulae.'''\n",
    "    C, H = 50, 30\n",
    "    f = lambda d: int(((2 * C * int(d)) / H) ** 0.5)\n",
    "    return ','.join([str(f(d)) for d in D.split(',')], )\n",
    "\n",
    "input_values = '100,150,180'\n",
    "Q_sqrt(D = input_values)                           # return a string "
   ]
  },
  {
   "cell_type": "markdown",
   "metadata": {},
   "source": [
    "### Answer 2"
   ]
  },
  {
   "cell_type": "markdown",
   "metadata": {},
   "source": [
    "2-D Array"
   ]
  },
  {
   "cell_type": "code",
   "execution_count": 2,
   "metadata": {},
   "outputs": [
    {
     "data": {
      "text/plain": [
       "[[0, 0, 0, 0, 0], [0, 1, 2, 3, 4], [0, 2, 4, 6, 8]]"
      ]
     },
     "execution_count": 2,
     "metadata": {},
     "output_type": "execute_result"
    }
   ],
   "source": [
    "def array_maker(row: int, column: int) -> list:\n",
    "    '''Return a 2-Dimensional array of row * columns elements.'''\n",
    "    return [[i*j for j in range(column)] for i in range(row)]\n",
    "\n",
    "array_maker(row = 3, column = 5)"
   ]
  },
  {
   "cell_type": "markdown",
   "metadata": {},
   "source": [
    "### Answer 3"
   ]
  },
  {
   "cell_type": "markdown",
   "metadata": {},
   "source": [
    "Sorting words"
   ]
  },
  {
   "cell_type": "code",
   "execution_count": 3,
   "metadata": {},
   "outputs": [
    {
     "data": {
      "text/plain": [
       "'bag,hello,without,world'"
      ]
     },
     "execution_count": 3,
     "metadata": {},
     "output_type": "execute_result"
    }
   ],
   "source": [
    "def sort_words(sequence: str) -> str:\n",
    "    '''Return a string after sorting the given string.'''\n",
    "    return ','.join(sorted(sequence.split(',')))\n",
    "\n",
    "sort_words('without,hello,bag,world')"
   ]
  },
  {
   "cell_type": "markdown",
   "metadata": {},
   "source": [
    "### Answer 4"
   ]
  },
  {
   "cell_type": "markdown",
   "metadata": {},
   "source": [
    "Remove duplicates and Sort"
   ]
  },
  {
   "cell_type": "code",
   "execution_count": 4,
   "metadata": {},
   "outputs": [
    {
     "data": {
      "text/plain": [
       "'again and hello makes perfect practice world'"
      ]
     },
     "execution_count": 4,
     "metadata": {},
     "output_type": "execute_result"
    }
   ],
   "source": [
    "def remove_duplicate_sort(sequence: str) -> str:\n",
    "    '''Return a string after removing all duplicate words and sorting them.'''\n",
    "    _ = set(sequence.split())\n",
    "    return ' '.join(sorted(_))\n",
    "\n",
    "my_str = 'hello world and practice makes perfect and hello world again'\n",
    "remove_duplicate_sort(my_str)"
   ]
  },
  {
   "cell_type": "markdown",
   "metadata": {},
   "source": [
    "### Answer 5"
   ]
  },
  {
   "cell_type": "markdown",
   "metadata": {},
   "source": [
    "Count Letter and Digits"
   ]
  },
  {
   "cell_type": "code",
   "execution_count": 5,
   "metadata": {},
   "outputs": [
    {
     "data": {
      "text/plain": [
       "{'letters': 10, 'digits': 3}"
      ]
     },
     "execution_count": 5,
     "metadata": {},
     "output_type": "execute_result"
    }
   ],
   "source": [
    "def count_letter_digit(sequence: str) -> dict:\n",
    "    '''Return a dictonary contains all occurance of letter and digits.'''\n",
    "    _ = {'letters' : 0, 'digits' : 0}\n",
    "    for w in sequence:\n",
    "        if w.isalpha():\n",
    "            _['letters'] += 1\n",
    "        elif w.isdigit():\n",
    "            _['digits'] += 1\n",
    "    return _\n",
    "\n",
    "count_letter_digit('hello world! 123')"
   ]
  },
  {
   "cell_type": "markdown",
   "metadata": {},
   "source": [
    "### Answer 6"
   ]
  },
  {
   "cell_type": "markdown",
   "metadata": {},
   "source": [
    "Strong Password"
   ]
  },
  {
   "cell_type": "code",
   "execution_count": 6,
   "metadata": {},
   "outputs": [
    {
     "data": {
      "text/plain": [
       "'ABd1234@1'"
      ]
     },
     "execution_count": 6,
     "metadata": {},
     "output_type": "execute_result"
    }
   ],
   "source": [
    "def password_checker(sequence: str) -> str:\n",
    "    '''Return the password out of comma seperated password that passes all cases.'''\n",
    "    from string import punctuation as PC\n",
    "    import re\n",
    "    passwords = sequence.split(',')\n",
    "    strong_pass = []\n",
    "\n",
    "    for password in passwords:\n",
    "        if 6 < len(password) <= 12:\n",
    "            if re.search('[a-zA-Z0-9]', password):\n",
    "                pattern = '[' + re.escape(PC) + '].?'\n",
    "                if re.search(pattern, password):\n",
    "                    strong_pass.append(password)\n",
    "                    \n",
    "    return ','.join(strong_pass)\n",
    "\n",
    "password_checker('ABd1234@1,a F1#,2w3E*,2We3345')"
   ]
  }
 ],
 "metadata": {
  "kernelspec": {
   "display_name": "Python 3.10.2 64-bit",
   "language": "python",
   "name": "python3"
  },
  "language_info": {
   "codemirror_mode": {
    "name": "ipython",
    "version": 3
   },
   "file_extension": ".py",
   "mimetype": "text/x-python",
   "name": "python",
   "nbconvert_exporter": "python",
   "pygments_lexer": "ipython3",
   "version": "3.10.2"
  },
  "vscode": {
   "interpreter": {
    "hash": "2469a70536e4d2335a2ea8907942d0699c37342a371ac185bdb5b0aa6f073890"
   }
  }
 },
 "nbformat": 4,
 "nbformat_minor": 4
}
