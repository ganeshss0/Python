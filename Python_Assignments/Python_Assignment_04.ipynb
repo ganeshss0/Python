{
 "cells": [
  {
   "cell_type": "markdown",
   "metadata": {},
   "source": [
    "# Python Assignment 4"
   ]
  },
  {
   "cell_type": "markdown",
   "metadata": {},
   "source": [
    "### Answer 1"
   ]
  },
  {
   "cell_type": "markdown",
   "metadata": {},
   "source": [
    "Factorial of a Number"
   ]
  },
  {
   "cell_type": "code",
   "execution_count": 1,
   "metadata": {},
   "outputs": [
    {
     "data": {
      "text/plain": [
       "5040"
      ]
     },
     "execution_count": 1,
     "metadata": {},
     "output_type": "execute_result"
    }
   ],
   "source": [
    "def factorial(n: int) -> int:\n",
    "    '''Return factorial a number.'''\n",
    "    if n < 2:\n",
    "        return 1\n",
    "    return n * factorial(n - 1)\n",
    "\n",
    "factorial(7)"
   ]
  },
  {
   "cell_type": "markdown",
   "metadata": {},
   "source": [
    "### Answer 2"
   ]
  },
  {
   "cell_type": "markdown",
   "metadata": {},
   "source": [
    "Multiply Table"
   ]
  },
  {
   "cell_type": "code",
   "execution_count": 2,
   "metadata": {},
   "outputs": [
    {
     "name": "stdout",
     "output_type": "stream",
     "text": [
      "|  1  |  2  |  3  |  4  |  5  |  6  |  7  |  8  |  9  |  10 |\n",
      "|  2  |  4  |  6  |  8  |  10 |  12 |  14 |  16 |  18 |  20 |\n",
      "|  3  |  6  |  9  |  12 |  15 |  18 |  21 |  24 |  27 |  30 |\n",
      "|  4  |  8  |  12 |  16 |  20 |  24 |  28 |  32 |  36 |  40 |\n",
      "|  5  |  10 |  15 |  20 |  25 |  30 |  35 |  40 |  45 |  50 |\n",
      "|  6  |  12 |  18 |  24 |  30 |  36 |  42 |  48 |  54 |  60 |\n",
      "|  7  |  14 |  21 |  28 |  35 |  42 |  49 |  56 |  63 |  70 |\n",
      "|  8  |  16 |  24 |  32 |  40 |  48 |  56 |  64 |  72 |  80 |\n",
      "|  9  |  18 |  27 |  36 |  45 |  54 |  63 |  72 |  81 |  90 |\n",
      "|  10 |  20 |  30 |  40 |  50 |  60 |  70 |  80 |  90 | 100 |\n",
      "\n"
     ]
    }
   ],
   "source": [
    "def multiply_table(n: int, upto: int) -> str:\n",
    "    table = ''\n",
    "    for i in range(1, n + 1):\n",
    "        table += '|'\n",
    "        for j in range(1, upto + 1):\n",
    "            table += f\"{str(i*j).center(5, ' ')}|\"\n",
    "        else:\n",
    "            table += '\\n'\n",
    "    return table\n",
    "print(multiply_table(10, 10))"
   ]
  },
  {
   "cell_type": "markdown",
   "metadata": {},
   "source": [
    "### Answer 3"
   ]
  },
  {
   "cell_type": "markdown",
   "metadata": {},
   "source": [
    "Fibonacci Series"
   ]
  },
  {
   "cell_type": "code",
   "execution_count": 3,
   "metadata": {},
   "outputs": [
    {
     "data": {
      "text/plain": [
       "[0, 1, 1, 2, 3, 5, 8, 13, 21, 34]"
      ]
     },
     "execution_count": 3,
     "metadata": {},
     "output_type": "execute_result"
    }
   ],
   "source": [
    "def fibonacci(n: int) -> int:\n",
    "    '''Return a fibonacci series upto n.'''\n",
    "    x, y, res = 0, 1, []\n",
    "    for i in range(n):\n",
    "        res.append(x)\n",
    "        x, y = y, x + y\n",
    "    return res\n",
    "\n",
    "fibonacci(10)"
   ]
  },
  {
   "cell_type": "markdown",
   "metadata": {},
   "source": [
    "#### Answer 4"
   ]
  },
  {
   "cell_type": "markdown",
   "metadata": {},
   "source": [
    "Armstrong Number"
   ]
  },
  {
   "cell_type": "code",
   "execution_count": 4,
   "metadata": {},
   "outputs": [],
   "source": [
    "def is_armstrong(n: int) -> bool:\n",
    "    '''Returns True if number is armstrong number else False.'''\n",
    "    digits = str(n)\n",
    "    sums, l = 0, len(digits)\n",
    "    \n",
    "    for digit in digits:\n",
    "        sums += int(digit) ** l\n",
    "    return True if sums == n else False"
   ]
  },
  {
   "cell_type": "code",
   "execution_count": 5,
   "metadata": {},
   "outputs": [
    {
     "data": {
      "text/plain": [
       "True"
      ]
     },
     "execution_count": 5,
     "metadata": {},
     "output_type": "execute_result"
    }
   ],
   "source": [
    "is_armstrong(370)"
   ]
  },
  {
   "cell_type": "code",
   "execution_count": 6,
   "metadata": {},
   "outputs": [
    {
     "data": {
      "text/plain": [
       "False"
      ]
     },
     "execution_count": 6,
     "metadata": {},
     "output_type": "execute_result"
    }
   ],
   "source": [
    "is_armstrong(144)"
   ]
  },
  {
   "cell_type": "markdown",
   "metadata": {},
   "source": [
    "### Answer 5"
   ]
  },
  {
   "cell_type": "markdown",
   "metadata": {},
   "source": [
    "Armstrong Interval"
   ]
  },
  {
   "cell_type": "code",
   "execution_count": 7,
   "metadata": {},
   "outputs": [
    {
     "data": {
      "text/plain": [
       "(1, 2, 3, 4, 5, 6, 7, 8, 9, 153, 370, 371, 407)"
      ]
     },
     "execution_count": 7,
     "metadata": {},
     "output_type": "execute_result"
    }
   ],
   "source": [
    "def range_armstrong(start: int, stop: int) -> filter:\n",
    "    '''Returns a iterator of armstring number'''\n",
    "    return filter(is_armstrong, range(start, stop))                            # is_armstrong returns True if number is armstrong else False\n",
    "\n",
    "tuple(range_armstrong(start = 1, stop = 1000))                                 # armstrong numbers from 1 to 1000"
   ]
  },
  {
   "cell_type": "markdown",
   "metadata": {},
   "source": [
    "### Answer 6"
   ]
  },
  {
   "cell_type": "markdown",
   "metadata": {},
   "source": [
    "Sum of Natural Numbers"
   ]
  },
  {
   "cell_type": "code",
   "execution_count": 8,
   "metadata": {},
   "outputs": [
    {
     "data": {
      "text/plain": [
       "55"
      ]
     },
     "execution_count": 8,
     "metadata": {},
     "output_type": "execute_result"
    }
   ],
   "source": [
    "def arithmetic_sum(start: int, stop: int) -> int:\n",
    "    'Return sum of numbers from start to stop.'\n",
    "    if start == stop:\n",
    "        return stop\n",
    "    return start + arithmetic_sum(start + 1, stop)\n",
    "\n",
    "arithmetic_sum(start = 1, stop = 10)                                   # sum of numbers from 1 to 10"
   ]
  }
 ],
 "metadata": {
  "kernelspec": {
   "display_name": "Python 3 (ipykernel)",
   "language": "python",
   "name": "python3"
  },
  "language_info": {
   "codemirror_mode": {
    "name": "ipython",
    "version": 3
   },
   "file_extension": ".py",
   "mimetype": "text/x-python",
   "name": "python",
   "nbconvert_exporter": "python",
   "pygments_lexer": "ipython3",
   "version": "3.10.6"
  }
 },
 "nbformat": 4,
 "nbformat_minor": 4
}
