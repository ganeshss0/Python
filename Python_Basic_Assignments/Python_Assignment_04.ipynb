{
 "cells": [
  {
   "cell_type": "markdown",
   "metadata": {},
   "source": [
    "\n",
    "# Python Assignments 4"
   ]
  },
  {
   "cell_type": "markdown",
   "metadata": {},
   "source": [
    "### Answer 1 "
   ]
  },
  {
   "cell_type": "markdown",
   "metadata": {},
   "source": [
    "`[]` these are square brackets, in python square brackets are used to create a list datatype. `[]` represents a empty list."
   ]
  },
  {
   "cell_type": "markdown",
   "metadata": {},
   "source": [
    "### Answer 2"
   ]
  },
  {
   "cell_type": "markdown",
   "metadata": {},
   "source": [
    "Solution"
   ]
  },
  {
   "cell_type": "code",
   "execution_count": 6,
   "metadata": {},
   "outputs": [
    {
     "name": "stdout",
     "output_type": "stream",
     "text": [
      "[2, 4, 6, 8, 10]\n",
      "[2, 4, 'hello', 8, 10]\n"
     ]
    }
   ],
   "source": [
    "spam = [2, 4, 6, 8, 10]  # Creating a list spam\n",
    "print(spam)\n",
    "spam[2] = 'hello'        # Assigning 'hello' to the third element in spam\n",
    "print(spam)"
   ]
  },
  {
   "cell_type": "markdown",
   "metadata": {},
   "source": [
    "### Answer 3"
   ]
  },
  {
   "cell_type": "markdown",
   "metadata": {},
   "source": [
    "Give the third element of spam."
   ]
  },
  {
   "cell_type": "code",
   "execution_count": 7,
   "metadata": {},
   "outputs": [
    {
     "data": {
      "text/plain": [
       "'d'"
      ]
     },
     "execution_count": 7,
     "metadata": {},
     "output_type": "execute_result"
    }
   ],
   "source": [
    "spam = ['a', 'b', 'c', 'd']           # Creating a list spam with a, b, c, d inside as in question\n",
    "spam[ int( int( '3' *  2 ) / 11)]     # 'd'"
   ]
  },
  {
   "cell_type": "markdown",
   "metadata": {},
   "source": [
    "### Answer 4"
   ]
  },
  {
   "cell_type": "markdown",
   "metadata": {},
   "source": [
    "Gives the last element of spam."
   ]
  },
  {
   "cell_type": "code",
   "execution_count": 8,
   "metadata": {},
   "outputs": [
    {
     "data": {
      "text/plain": [
       "'d'"
      ]
     },
     "execution_count": 8,
     "metadata": {},
     "output_type": "execute_result"
    }
   ],
   "source": [
    "# spam = ['a', 'b', 'c', 'd']\n",
    "spam[-1]       # 'd'"
   ]
  },
  {
   "cell_type": "markdown",
   "metadata": {},
   "source": [
    "### Answer 5"
   ]
  },
  {
   "cell_type": "markdown",
   "metadata": {},
   "source": [
    "Gives the elements from zeroth position upto first position."
   ]
  },
  {
   "cell_type": "code",
   "execution_count": 9,
   "metadata": {},
   "outputs": [
    {
     "data": {
      "text/plain": [
       "['a', 'b']"
      ]
     },
     "execution_count": 9,
     "metadata": {},
     "output_type": "execute_result"
    }
   ],
   "source": [
    "# spam = ['a', 'b', 'c', 'd']\n",
    "spam[:2]     # ['a', 'b']"
   ]
  },
  {
   "cell_type": "markdown",
   "metadata": {},
   "source": [
    "### Answer 6"
   ]
  },
  {
   "cell_type": "markdown",
   "metadata": {},
   "source": [
    "The index function gives index of first occurance of element."
   ]
  },
  {
   "cell_type": "code",
   "execution_count": 10,
   "metadata": {},
   "outputs": [
    {
     "data": {
      "text/plain": [
       "1"
      ]
     },
     "execution_count": 10,
     "metadata": {},
     "output_type": "execute_result"
    }
   ],
   "source": [
    "bacon = [3.14, 'cat', 11, 'cat', True]   # Creating a list bacon containing 3.14, 'cat', 11, 'cat', True values.\n",
    "bacon.index('cat')                       # index of element 'cat', returns 1"
   ]
  },
  {
   "cell_type": "markdown",
   "metadata": {},
   "source": [
    "### Answer 7"
   ]
  },
  {
   "cell_type": "markdown",
   "metadata": {},
   "source": [
    "The append function adds elements to the end of list."
   ]
  },
  {
   "cell_type": "code",
   "execution_count": 11,
   "metadata": {},
   "outputs": [],
   "source": [
    "# bacon = [3.14, 'cat', 11m 'cat', True]\n",
    "bacon.append('cat')                      # Appending 'cat' to bacon, returns None"
   ]
  },
  {
   "cell_type": "code",
   "execution_count": 12,
   "metadata": {},
   "outputs": [
    {
     "data": {
      "text/plain": [
       "[3.14, 'cat', 11, 'cat', True, 'cat']"
      ]
     },
     "execution_count": 12,
     "metadata": {},
     "output_type": "execute_result"
    }
   ],
   "source": [
    "bacon                                    # [3.14, 'cat', 11, 'cat', True, 'cat']"
   ]
  },
  {
   "cell_type": "markdown",
   "metadata": {},
   "source": [
    "### Answer 8"
   ]
  },
  {
   "cell_type": "markdown",
   "metadata": {},
   "source": [
    "The remove function removes the first occurance of elements."
   ]
  },
  {
   "cell_type": "code",
   "execution_count": 13,
   "metadata": {},
   "outputs": [],
   "source": [
    "# bacon = [3.14, 'cat', 11, 'cat', True]\n",
    "bacon.remove('cat')                      # Removing 'cat', returns None"
   ]
  },
  {
   "cell_type": "code",
   "execution_count": 14,
   "metadata": {},
   "outputs": [
    {
     "data": {
      "text/plain": [
       "[3.14, 11, 'cat', True, 'cat']"
      ]
     },
     "execution_count": 14,
     "metadata": {},
     "output_type": "execute_result"
    }
   ],
   "source": [
    "bacon                                    # [3.14, 11, 'cat', True, 'cat']"
   ]
  },
  {
   "cell_type": "markdown",
   "metadata": {},
   "source": [
    "### Answer 9"
   ]
  },
  {
   "cell_type": "markdown",
   "metadata": {},
   "source": [
    "List concatination : We can apply addition opeator on list which result in joining both list."
   ]
  },
  {
   "cell_type": "code",
   "execution_count": 15,
   "metadata": {},
   "outputs": [
    {
     "data": {
      "text/plain": [
       "[1, 2, 3, 4]"
      ]
     },
     "execution_count": 15,
     "metadata": {},
     "output_type": "execute_result"
    }
   ],
   "source": [
    "[1,2] + [3,4]                            # list concatination [1, 2, 3, 4]"
   ]
  },
  {
   "cell_type": "markdown",
   "metadata": {},
   "source": [
    " List Replication : When multipication operator is applied on list and an integer then it replicate the elements of list times the integer. "
   ]
  },
  {
   "cell_type": "code",
   "execution_count": 16,
   "metadata": {},
   "outputs": [
    {
     "data": {
      "text/plain": [
       "[1, 3, 1, 3, 1, 3]"
      ]
     },
     "execution_count": 16,
     "metadata": {},
     "output_type": "execute_result"
    }
   ],
   "source": [
    "[1,3] * 3                                # list replication [1, 3, 1, 3, 1, 3]"
   ]
  },
  {
   "cell_type": "markdown",
   "metadata": {},
   "source": [
    "### Answer 10"
   ]
  },
  {
   "cell_type": "markdown",
   "metadata": {},
   "source": [
    "`list.append(object)` it adds an elements to end of the list, it return None and updates the existing list.<br />\n",
    "`list.insert(index, object)` it adds an elements to a specific index, and pushes the element to the end that are next to it, it also return None and updates the existing list."
   ]
  },
  {
   "cell_type": "markdown",
   "metadata": {},
   "source": [
    "### Answer 11 \n"
   ]
  },
  {
   "cell_type": "markdown",
   "metadata": {},
   "source": [
    "`list.pop(index)` it removes elements from specific index if index is given, if index is not given it removes the last element of list, returns the deleted element.<br />`list.remove(value)` it removes the first occurance the value, return None and update the list."
   ]
  },
  {
   "cell_type": "markdown",
   "metadata": {},
   "source": [
    "### Answer 12"
   ]
  },
  {
   "cell_type": "markdown",
   "metadata": {},
   "source": [
    "Inside both list and string elements are accessed by indexing, both support slicing, both are iterable, also list and string also support concatination and replication."
   ]
  },
  {
   "cell_type": "code",
   "execution_count": null,
   "metadata": {},
   "outputs": [],
   "source": [
    "some_list = [1, 2, 3, 4]                        # List\n",
    "some_string = 'rice is nice'                    # String\n",
    "\n",
    "print(some_list[3])                             # Accessing forth element of list\n",
    "print(some_string[4])                           # Accessing fifth character of string\n",
    "\n",
    "print(some_list[1:3])                           # Slicing from second element to forth element\n",
    "print(some_string[3:6])                         # Slicing from forth character to seventh character\n",
    "\n",
    "print(iter(some_list))                          # iterator from list\n",
    "print(iter(some_string))                        # iterator from string\n",
    "\n",
    "print(some_list + [5, 6])                       # list concatination\n",
    "print(some_string + 'python is not snake')      # string concatination\n",
    "\n",
    "print(some_list * 3)                            # list replication\n",
    "print(some_string * 5)                          # string replication"
   ]
  },
  {
   "cell_type": "markdown",
   "metadata": {},
   "source": [
    "### Answer 13"
   ]
  },
  {
   "cell_type": "markdown",
   "metadata": {},
   "source": [
    "1. List\n",
    "+ Mutables\n",
    "+ created inside square brackets\n",
    "+ can store any python object\n",
    "+ List is generally slower than tuples\n",
    "+ Takes more space inside memory than tuples\n",
    "2. Tuples\n",
    "+ Immutables\n",
    "+ created with/without parenthese\n",
    "+ can store any python object\n",
    "+ Tuples are faster than list\n",
    "+ Tupes takes less space inside memory than list"
   ]
  },
  {
   "cell_type": "markdown",
   "metadata": {},
   "source": [
    "### Answer 14"
   ]
  },
  {
   "cell_type": "markdown",
   "metadata": {},
   "source": [
    "There are two ways to create a tuple that can only contain integer 42"
   ]
  },
  {
   "cell_type": "code",
   "execution_count": 18,
   "metadata": {},
   "outputs": [
    {
     "name": "stdout",
     "output_type": "stream",
     "text": [
      "(42,) (42,)\n"
     ]
    }
   ],
   "source": [
    "some_tuple = 42,\n",
    "another_tuple = (42,)\n",
    "print(some_tuple, another_tuple)"
   ]
  },
  {
   "cell_type": "markdown",
   "metadata": {},
   "source": [
    "### Answer 15"
   ]
  },
  {
   "cell_type": "markdown",
   "metadata": {},
   "source": [
    "I don't know what is question asking, so i write what i think so."
   ]
  },
  {
   "cell_type": "code",
   "execution_count": null,
   "metadata": {},
   "outputs": [],
   "source": [
    "some_list = [1, 2, 3, 4, 5, 6]\n",
    "print(type(some_list), some_list)\n",
    "some_list = tuple(some_list)\n",
    "print(type(some_list), some_list)"
   ]
  },
  {
   "cell_type": "markdown",
   "metadata": {},
   "source": [
    "### Answer 16"
   ]
  },
  {
   "cell_type": "markdown",
   "metadata": {},
   "source": [
    "They contain the refrence of the values by which that can access the values inside Memory."
   ]
  },
  {
   "cell_type": "markdown",
   "metadata": {},
   "source": [
    "### Answer 17"
   ]
  },
  {
   "cell_type": "markdown",
   "metadata": {},
   "source": [
    "`copy.deepcopy()` is forcly creates a copy of object at it deepest refrences, while `copy.copy()` creates only a surface copy of object."
   ]
  },
  {
   "cell_type": "code",
   "execution_count": 19,
   "metadata": {},
   "outputs": [
    {
     "name": "stdout",
     "output_type": "stream",
     "text": [
      "Original: [1, 2, 3, 4, [1, 2, 3, 4, [1, 2, 3, 4]]]   copy.deepcopy: [1, 2, 3, 4, [1, 2, 3, 4, [1, 2, 3, 'copied']]]\n",
      "Original: [1, 2, 3, 4, [1, 2, 3, 4, [1, 2, 3, 'copied']]]   copy.copy: [1, 2, 3, 4, [1, 2, 3, 4, [1, 2, 3, 'copied']]]\n"
     ]
    }
   ],
   "source": [
    "# Example\n",
    "import copy\n",
    "nice_list = [1, 2, 3, 4, [1, 2, 3, 4, [1, 2, 3, 4]]]\n",
    "copy_list = copy.copy(nice_list)                                   # creating a copy\n",
    "deep_list = copy.deepcopy(nice_list)                               # creating a deepcopy\n",
    "\n",
    "\n",
    "deep_list[4][4][3] = 'copied'\n",
    "print(f'Original: {nice_list}   copy.deepcopy: {deep_list}')         # Both are not same\n",
    "copy_list[4][4][3] = 'copied'\n",
    "print(f'Original: {nice_list}   copy.copy: {copy_list}')             # Both are same"
   ]
  },
  {
   "cell_type": "code",
   "execution_count": null,
   "metadata": {},
   "outputs": [],
   "source": []
  }
 ],
 "metadata": {
  "kernelspec": {
   "display_name": "Python 3 (ipykernel)",
   "language": "python",
   "name": "python3"
  },
  "language_info": {
   "codemirror_mode": {
    "name": "ipython",
    "version": 3
   },
   "file_extension": ".py",
   "mimetype": "text/x-python",
   "name": "python",
   "nbconvert_exporter": "python",
   "pygments_lexer": "ipython3",
   "version": "3.10.2"
  },
  "vscode": {
   "interpreter": {
    "hash": "3ad933181bd8a04b432d3370b9dc3b0662ad032c4dfaa4e4f1596c548f763858"
   }
  }
 },
 "nbformat": 4,
 "nbformat_minor": 4
}
