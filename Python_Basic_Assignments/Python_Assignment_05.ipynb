{
 "cells": [
  {
   "cell_type": "markdown",
   "metadata": {},
   "source": [
    "\n",
    "# Python Assignments 5"
   ]
  },
  {
   "cell_type": "markdown",
   "metadata": {},
   "source": [
    "### Answer 1 "
   ]
  },
  {
   "cell_type": "markdown",
   "metadata": {},
   "source": [
    "Solution"
   ]
  },
  {
   "cell_type": "code",
   "execution_count": null,
   "metadata": {},
   "outputs": [],
   "source": [
    "empty_dict = {}                    # An empty dictonary\n",
    "empty_dict_ = dict()               # An empty dictonary"
   ]
  },
  {
   "cell_type": "markdown",
   "metadata": {},
   "source": [
    "### Answer 2"
   ]
  },
  {
   "cell_type": "markdown",
   "metadata": {},
   "source": [
    "Solution"
   ]
  },
  {
   "cell_type": "code",
   "execution_count": null,
   "metadata": {},
   "outputs": [],
   "source": [
    "some_dict = dict(foo = 42)        # A dictornary with key and value\n",
    "some_dict.values()                # values inside dictonary"
   ]
  },
  {
   "cell_type": "markdown",
   "metadata": {},
   "source": [
    "### Answer 3"
   ]
  },
  {
   "cell_type": "markdown",
   "metadata": {},
   "source": [
    "1. List\n",
    "+ Lists are ordered\n",
    "+ Lists support slicing\n",
    "+ Elements can be accessed by indexes\n",
    "+ Elements are stored in a continous location inside memory\n",
    "2. Dictonary\n",
    "+ Dictonary are unordered\n",
    "+ Dictonary does not support slicing\n",
    "+ Values can be accesed by keys only\n",
    "+ Values are stored using a hash function inside memory"
   ]
  },
  {
   "cell_type": "markdown",
   "metadata": {},
   "source": [
    "### Answer 4"
   ]
  },
  {
   "cell_type": "markdown",
   "metadata": {},
   "source": [
    "In this case we get a `KeyError` as the key is not present inside dictonary."
   ]
  },
  {
   "cell_type": "code",
   "execution_count": null,
   "metadata": {},
   "outputs": [],
   "source": [
    "spam = {'bar' : 100}\n",
    "spam['foo']                      # KeyError"
   ]
  },
  {
   "cell_type": "code",
   "execution_count": null,
   "metadata": {},
   "outputs": [],
   "source": [
    "spam.get('foo')                 # if the key is not present we get None"
   ]
  },
  {
   "cell_type": "markdown",
   "metadata": {},
   "source": [
    "### Answer 5"
   ]
  },
  {
   "cell_type": "markdown",
   "metadata": {},
   "source": [
    "Both `'cat' in spam` and `'cat' in spam.keys()` gives same result as both `'cat'` inside the keys of dictonary."
   ]
  },
  {
   "cell_type": "markdown",
   "metadata": {},
   "source": [
    "### Answer 6"
   ]
  },
  {
   "cell_type": "markdown",
   "metadata": {},
   "source": [
    "Here `'cat' in spam` search the string inside the keys of dictonary while `'cat' in spam.values()` searches the string inside the values of dictonary."
   ]
  },
  {
   "cell_type": "code",
   "execution_count": null,
   "metadata": {},
   "outputs": [],
   "source": [
    "# checks whether string cat is inside spam's keys, spam's values or not in spam\n",
    "spam = {1 : 2, 'cat' : 4, 'other' : None}                  \n",
    "if 'cat' in spam:\n",
    "    print('cat is in spam keys')\n",
    "elif 'cat' in spam.values():\n",
    "    print('cat is in spam values')\n",
    "else:\n",
    "    print('cat is not in spam')   "
   ]
  },
  {
   "cell_type": "markdown",
   "metadata": {},
   "source": [
    "### Answer 7"
   ]
  },
  {
   "cell_type": "code",
   "execution_count": null,
   "metadata": {},
   "outputs": [],
   "source": [
    "# spam = {}\n",
    "spam.setdefault('color', 'black')"
   ]
  },
  {
   "cell_type": "markdown",
   "metadata": {},
   "source": [
    "### Answer 8"
   ]
  },
  {
   "cell_type": "markdown",
   "metadata": {},
   "source": [
    "I know two libaraies from which we can pretty print dictonary."
   ]
  },
  {
   "cell_type": "code",
   "execution_count": null,
   "metadata": {},
   "outputs": [],
   "source": [
    "# Dictonary\n",
    "holy = dict( color = [1,2,3], rice = dict(cloud = [1,2,3,4]), onions = [4, dict(orange = 12)])\n",
    "\n",
    "# Using pprint\n",
    "from pprint import pprint\n",
    "# Using json\n",
    "import json\n",
    "\n",
    "pprint(holy)\n",
    "print(json.dumps(holy, indent = 4))"
   ]
  }
 ],
 "metadata": {
  "kernelspec": {
   "display_name": "Python 3 (ipykernel)",
   "language": "python",
   "name": "python3"
  },
  "language_info": {
   "codemirror_mode": {
    "name": "ipython",
    "version": 3
   },
   "file_extension": ".py",
   "mimetype": "text/x-python",
   "name": "python",
   "nbconvert_exporter": "python",
   "pygments_lexer": "ipython3",
   "version": "3.10.2"
  },
  "vscode": {
   "interpreter": {
    "hash": "3ad933181bd8a04b432d3370b9dc3b0662ad032c4dfaa4e4f1596c548f763858"
   }
  }
 },
 "nbformat": 4,
 "nbformat_minor": 4
}
