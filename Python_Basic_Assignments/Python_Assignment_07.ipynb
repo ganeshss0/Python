{
 "cells": [
  {
   "cell_type": "markdown",
   "metadata": {},
   "source": [
    "# Python Assignment 7"
   ]
  },
  {
   "cell_type": "markdown",
   "metadata": {},
   "source": [
    "### Answer 1"
   ]
  },
  {
   "attachments": {},
   "cell_type": "markdown",
   "metadata": {},
   "source": [
    "The `re.compile()` convert a regular expression into a regex object."
   ]
  },
  {
   "cell_type": "markdown",
   "metadata": {},
   "source": [
    "### Answer 2"
   ]
  },
  {
   "attachments": {},
   "cell_type": "markdown",
   "metadata": {},
   "source": [
    "Both Python strings and regular expression contains special character, so that python don't consider a string a special character regular expression are often raw strings."
   ]
  },
  {
   "cell_type": "markdown",
   "metadata": {},
   "source": [
    "### Answer 3"
   ]
  },
  {
   "attachments": {},
   "cell_type": "markdown",
   "metadata": {},
   "source": [
    "The `search` method inside `re` module return a `Match` object if it found a pattern, if it does not find a matching pattern then it return `None`."
   ]
  },
  {
   "cell_type": "markdown",
   "metadata": {},
   "source": [
    "### Answer 4"
   ]
  },
  {
   "attachments": {},
   "cell_type": "markdown",
   "metadata": {},
   "source": [
    "We can use the `group()` function to see the matching string in a `Match` object."
   ]
  },
  {
   "cell_type": "code",
   "execution_count": 1,
   "metadata": {},
   "outputs": [
    {
     "data": {
      "text/plain": [
       "'nice'"
      ]
     },
     "execution_count": 1,
     "metadata": {},
     "output_type": "execute_result"
    }
   ],
   "source": [
    "from re import search\n",
    "String = 'This is nice like rice.'\n",
    "\n",
    "matches = search('nice', String)\n",
    "matches.group(0)"
   ]
  },
  {
   "cell_type": "markdown",
   "metadata": {},
   "source": [
    "### Answer 5"
   ]
  },
  {
   "attachments": {},
   "cell_type": "markdown",
   "metadata": {},
   "source": [
    "The group zero cover the whole matching pattern like `'123-123-1234'`, the first group cover a three digit number like `'123'`, and second group cover a number like `'123-1234'`."
   ]
  },
  {
   "cell_type": "code",
   "execution_count": 2,
   "metadata": {},
   "outputs": [
    {
     "name": "stdout",
     "output_type": "stream",
     "text": [
      "Group Zero: 123-123-1234\n",
      "Group First: 123\n",
      "Group Second: 123-1234\n"
     ]
    }
   ],
   "source": [
    "from re import search\n",
    "\n",
    "pattern = r'(\\d\\d\\d)-(\\d\\d\\d-\\d\\d\\d\\d)'\n",
    "String = '123-123-1234 123 234-2344 234 234 2342'\n",
    "matches = search(pattern, String)\n",
    "\n",
    "print('Group Zero:', matches.group(0))\n",
    "print('Group First:', matches.group(1))\n",
    "print('Group Second:', matches.group(2))"
   ]
  },
  {
   "cell_type": "markdown",
   "metadata": {},
   "source": [
    "### Answer 6"
   ]
  },
  {
   "attachments": {},
   "cell_type": "markdown",
   "metadata": {},
   "source": [
    "We can use the escape character `'\\'` if we want to use parenthese and period as a part of pattern, or we can use `re.escape` which also escape the special character."
   ]
  },
  {
   "cell_type": "markdown",
   "metadata": {},
   "source": [
    "### Answer 7"
   ]
  },
  {
   "attachments": {},
   "cell_type": "markdown",
   "metadata": {},
   "source": [
    "If the pattern has no group `findall()` return a list of string, if the pattern has multiple groups then it return a list of tuples."
   ]
  },
  {
   "cell_type": "markdown",
   "metadata": {},
   "source": [
    "### Answer 8"
   ]
  },
  {
   "attachments": {},
   "cell_type": "markdown",
   "metadata": {},
   "source": [
    "In python `|` character represent the logical `or` in boolean algebra."
   ]
  },
  {
   "cell_type": "code",
   "execution_count": 3,
   "metadata": {},
   "outputs": [
    {
     "data": {
      "text/plain": [
       "True"
      ]
     },
     "execution_count": 3,
     "metadata": {},
     "output_type": "execute_result"
    }
   ],
   "source": [
    "True | False"
   ]
  },
  {
   "cell_type": "markdown",
   "metadata": {},
   "source": [
    "### Answer 9"
   ]
  },
  {
   "attachments": {},
   "cell_type": "markdown",
   "metadata": {},
   "source": [
    "In regular expression `|` will match either the expression on left side or right side. Like if `X` and `Y` are regular expression then `X|Y` will match either `X` or `Y`."
   ]
  },
  {
   "cell_type": "markdown",
   "metadata": {},
   "source": [
    "### Answer 10"
   ]
  },
  {
   "attachments": {},
   "cell_type": "markdown",
   "metadata": {},
   "source": [
    "1. `*` : match 0 or more repetitions of the preceding regular expression.\n",
    "2. `+` : match 1 or more repetitions of the preceding regular expression."
   ]
  },
  {
   "attachments": {},
   "cell_type": "markdown",
   "metadata": {},
   "source": [
    "### Answer 11"
   ]
  },
  {
   "attachments": {},
   "cell_type": "markdown",
   "metadata": {},
   "source": [
    "The `{4}` try will find  four matching repeatitions of regular expression while `{4, 5}` pattern try for four and five matching  repeatitions of regular expression."
   ]
  },
  {
   "attachments": {},
   "cell_type": "markdown",
   "metadata": {},
   "source": [
    "### Answer 12"
   ]
  },
  {
   "attachments": {},
   "cell_type": "markdown",
   "metadata": {},
   "source": [
    "1. `'\\d'` : any unicode digit from [0-9]\n",
    "2. `'\\w'` : any unicode character include a-z, A-Z, numbers and underscores\n",
    "3. `'\\s'` : any unicode whitespace character like `['\\n', '\\t', '\\r']` and other whitespace character."
   ]
  },
  {
   "attachments": {},
   "cell_type": "markdown",
   "metadata": {},
   "source": [
    "### Answer 13"
   ]
  },
  {
   "attachments": {},
   "cell_type": "markdown",
   "metadata": {},
   "source": [
    "1. `'\\D'` : Opposite of `'\\d'` matches every character that is not decimal\n",
    "2. `'\\W'` : Opposite of `'\\w'` matches every character that is not a word like symbols\n",
    "3. `'\\S'` : Opposite of `'\\s'` matches every character that is not whitespace"
   ]
  },
  {
   "attachments": {},
   "cell_type": "markdown",
   "metadata": {},
   "source": [
    "### Answer 14"
   ]
  },
  {
   "attachments": {},
   "cell_type": "markdown",
   "metadata": {},
   "source": [
    "The `.*?` regular expression matches can return empty matches and may match infintely in some cases. The `'.'` charcter match all character except newline character, the `'*'` character 0 or more occurance of the preceding expression and `'?'` match as few character as possible."
   ]
  },
  {
   "attachments": {},
   "cell_type": "markdown",
   "metadata": {},
   "source": [
    "### Answer 15"
   ]
  },
  {
   "attachments": {},
   "cell_type": "markdown",
   "metadata": {},
   "source": [
    "The syntax for matching both number and lowercase letter is `r'[a-z0-9]+'` or `r'[a-z\\d]+'`."
   ]
  },
  {
   "attachments": {},
   "cell_type": "markdown",
   "metadata": {},
   "source": [
    "### Answer 16"
   ]
  },
  {
   "attachments": {},
   "cell_type": "markdown",
   "metadata": {},
   "source": [
    "We can make any normal expression in a regular expression by making it a raw string `(r'abc')`, or we can use `re.escape(string)` to make it a regular expression."
   ]
  },
  {
   "attachments": {},
   "cell_type": "markdown",
   "metadata": {},
   "source": [
    "### Answer 17"
   ]
  },
  {
   "attachments": {},
   "cell_type": "markdown",
   "metadata": {},
   "source": [
    "The `'.'` character match any character except newline character if the flag is defined as `re.DOTALL` then it matches any character including newline."
   ]
  },
  {
   "attachments": {},
   "cell_type": "markdown",
   "metadata": {},
   "source": [
    "### Answer 18"
   ]
  },
  {
   "attachments": {},
   "cell_type": "markdown",
   "metadata": {},
   "source": [
    "The `re.sub()` method will replace the regular expression with a replacement string. In this case the regular expression will replace all the decimal character with a character `'X'`."
   ]
  },
  {
   "cell_type": "code",
   "execution_count": 4,
   "metadata": {},
   "outputs": [
    {
     "data": {
      "text/plain": [
       "'X drummers, X pipers, five rings, X hen'"
      ]
     },
     "execution_count": 4,
     "metadata": {},
     "output_type": "execute_result"
    }
   ],
   "source": [
    "import re\n",
    "numReg = re.compile(r'\\d+')\n",
    "numReg.sub('X', '11 drummers, 10 pipers, five rings, 4 hen')"
   ]
  },
  {
   "attachments": {},
   "cell_type": "markdown",
   "metadata": {},
   "source": [
    "### Answer 19"
   ]
  },
  {
   "attachments": {},
   "cell_type": "markdown",
   "metadata": {},
   "source": [
    "`re.VERBOSE` allows us to write regular expression that look nice and more readable, we can add comments inside the regular expression by using this attribute."
   ]
  },
  {
   "cell_type": "code",
   "execution_count": 5,
   "metadata": {},
   "outputs": [
    {
     "data": {
      "text/plain": [
       "re.compile(r'\\d+ # decimal numbers', re.UNICODE|re.VERBOSE)"
      ]
     },
     "execution_count": 5,
     "metadata": {},
     "output_type": "execute_result"
    }
   ],
   "source": [
    "import re\n",
    "pattern = re.compile(pattern = r'''\\d+ # decimal numbers''', flags = re.VERBOSE)\n",
    "pattern"
   ]
  },
  {
   "attachments": {},
   "cell_type": "markdown",
   "metadata": {},
   "source": [
    "### Answer 20"
   ]
  },
  {
   "attachments": {},
   "cell_type": "markdown",
   "metadata": {},
   "source": [
    "Match number that have a comma after every three digits."
   ]
  },
  {
   "cell_type": "code",
   "execution_count": 6,
   "metadata": {},
   "outputs": [
    {
     "data": {
      "text/plain": [
       "{'match': ['42', '1,234', '6,368,745'], 'no_match': ['12,34,567', '1234']}"
      ]
     },
     "execution_count": 6,
     "metadata": {},
     "output_type": "execute_result"
    }
   ],
   "source": [
    "Numbers = ['42', '1,234', '6,368,745', '12,34,567', '1234']\n",
    "\n",
    "def match_numbers(data: list) -> dict:\n",
    "    '''Return a dict of match and no match from a specific pattern'''\n",
    "    from re import fullmatch\n",
    "    pattern = r'(\\d{1,3})(,\\d{3})*'\n",
    "    matched = dict( match = [], no_match = [] )\n",
    "\n",
    "    for sentence in data:\n",
    "        if fullmatch(pattern, sentence):\n",
    "            matched['match'].append(sentence)\n",
    "        else:\n",
    "            matched['no_match'].append(sentence)\n",
    "\n",
    "    return matched\n",
    "\n",
    "\n",
    "match_numbers(Numbers)"
   ]
  },
  {
   "attachments": {},
   "cell_type": "markdown",
   "metadata": {},
   "source": [
    "### Answer 21"
   ]
  },
  {
   "attachments": {},
   "cell_type": "markdown",
   "metadata": {},
   "source": [
    "Matches a Full name of a person that matches a specific last name."
   ]
  },
  {
   "cell_type": "code",
   "execution_count": 7,
   "metadata": {},
   "outputs": [
    {
     "data": {
      "text/plain": [
       "{'match': ['Haruto Watanabe', 'Alice Watanabe', 'RoboCop Watanabe'],\n",
       " 'no_match': ['haruto Watanabe',\n",
       "  'Mr. Watanabe',\n",
       "  'Watanabe',\n",
       "  'Haruto watanabe']}"
      ]
     },
     "execution_count": 7,
     "metadata": {},
     "output_type": "execute_result"
    }
   ],
   "source": [
    "Strings = ['Haruto Watanabe',\n",
    "           'Alice Watanabe',\n",
    "           'RoboCop Watanabe',\n",
    "           'haruto Watanabe',\n",
    "           'Mr. Watanabe',\n",
    "           'Watanabe',\n",
    "           'Haruto watanabe']\n",
    "\n",
    "def last_name_matcher(data: list) -> dict:\n",
    "    '''Return a dict of with words that matched and not matched.'''\n",
    "    from re import match\n",
    "    pattern = r'[A-Z][a-zA-Z]* (Watanabe)'                              \n",
    "    matched = dict( match = [], no_match = [] )\n",
    "\n",
    "    for sentence in data:\n",
    "        if match(pattern, sentence):\n",
    "            matched['match'].append(sentence)\n",
    "        else:\n",
    "            matched['no_match'].append(sentence)\n",
    "    return matched\n",
    "\n",
    "\n",
    "last_name_matcher(Strings)"
   ]
  },
  {
   "attachments": {},
   "cell_type": "markdown",
   "metadata": {},
   "source": [
    "### Answer 22"
   ]
  },
  {
   "attachments": {},
   "cell_type": "markdown",
   "metadata": {},
   "source": [
    "Matches some string contains some specific words."
   ]
  },
  {
   "cell_type": "code",
   "execution_count": 8,
   "metadata": {},
   "outputs": [
    {
     "data": {
      "text/plain": [
       "{'match': ['Alice eats apples.',\n",
       "  'Bob pets cats.',\n",
       "  'Carol throws baseballs.',\n",
       "  'Alice throws Apples.',\n",
       "  'BOB EATS CATS.'],\n",
       " 'no_match': ['RoboCop eats apples.',\n",
       "  'ALICE THROWS FOOTBALLS.',\n",
       "  'Carol eats 7 cats.']}"
      ]
     },
     "execution_count": 8,
     "metadata": {},
     "output_type": "execute_result"
    }
   ],
   "source": [
    "Strings = ['Alice eats apples.',\n",
    "            'Bob pets cats.',\n",
    "            'Carol throws baseballs.',\n",
    "            'Alice throws Apples.',\n",
    "            'BOB EATS CATS.',\n",
    "            'RoboCop eats apples.',\n",
    "            'ALICE THROWS FOOTBALLS.',\n",
    "            'Carol eats 7 cats.']\n",
    "\n",
    "def string_matcher(data: list) -> dict:\n",
    "    '''Return a dict of with words that matched and not matched.'''\n",
    "    from re import match, IGNORECASE\n",
    "    pattern = r'(alice|carol|bob) (eats|pets|throws) (apples|cats|baseballs)\\.'\n",
    "    matched = dict( match = [], no_match = [] )\n",
    "\n",
    "    for sentence in data:\n",
    "        if match(pattern, sentence, flags = IGNORECASE):\n",
    "            matched['match'].append(sentence)\n",
    "        else:\n",
    "            matched['no_match'].append(sentence)\n",
    "\n",
    "    return matched\n",
    "\n",
    "\n",
    "string_matcher(Strings)"
   ]
  }
 ],
 "metadata": {
  "kernelspec": {
   "display_name": "Python 3",
   "language": "python",
   "name": "python3"
  },
  "language_info": {
   "codemirror_mode": {
    "name": "ipython",
    "version": 3
   },
   "file_extension": ".py",
   "mimetype": "text/x-python",
   "name": "python",
   "nbconvert_exporter": "python",
   "pygments_lexer": "ipython3",
   "version": "3.10.2"
  },
  "vscode": {
   "interpreter": {
    "hash": "2469a70536e4d2335a2ea8907942d0699c37342a371ac185bdb5b0aa6f073890"
   }
  }
 },
 "nbformat": 4,
 "nbformat_minor": 4
}
