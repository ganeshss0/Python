{
 "cells": [
  {
   "cell_type": "markdown",
   "metadata": {},
   "source": [
    "# Python Assignment 3"
   ]
  },
  {
   "cell_type": "markdown",
   "metadata": {},
   "source": [
    "### Answer 1"
   ]
  },
  {
   "cell_type": "markdown",
   "metadata": {},
   "source": [
    "By using function in our program we decrease the repeatation of our code by not writing the same code over and over again, it also increase the redundancy of our code as we have to write less so there is less chance of mistake."
   ]
  },
  {
   "cell_type": "markdown",
   "metadata": {},
   "source": [
    "### Answer 2"
   ]
  },
  {
   "cell_type": "markdown",
   "metadata": {},
   "source": [
    "The code inside a function runs when we calls the function, if we just create a function and not called it then we had specified a function.<br />\n",
    "When we don't want repeatation of code over and over again we call functions."
   ]
  },
  {
   "cell_type": "markdown",
   "metadata": {},
   "source": [
    "### Answer 3"
   ]
  },
  {
   "cell_type": "markdown",
   "metadata": {},
   "source": [
    "A function creates a statement that can used multiple times without code repeation, a function gives our program a structure and code reproducability much efficient way."
   ]
  },
  {
   "cell_type": "markdown",
   "metadata": {},
   "source": [
    "### Answer 4"
   ]
  },
  {
   "cell_type": "markdown",
   "metadata": {},
   "source": [
    "+ A **function** is structure of code than takes some arguments/no arguments and return some values/none.\n",
    "+ **function call** : When we want to run the code inside function we calls the function which runs the function and return some value/none."
   ]
  },
  {
   "cell_type": "markdown",
   "metadata": {},
   "source": [
    "### Answer 5"
   ]
  },
  {
   "cell_type": "code",
   "execution_count": 1,
   "metadata": {},
   "outputs": [
    {
     "data": {
      "text/plain": [
       "(1, 79)"
      ]
     },
     "execution_count": 1,
     "metadata": {},
     "output_type": "execute_result"
    }
   ],
   "source": [
    "score = 'O'                      # Global Scope\n",
    "len(score), ord(score)           # inbuilt scope"
   ]
  },
  {
   "cell_type": "code",
   "execution_count": 2,
   "metadata": {},
   "outputs": [],
   "source": [
    "def some_function() -> None:\n",
    "    '''prints text.'''\n",
    "    score = 10                    # local scope\n",
    "    print(score)\n",
    "\n",
    "nums = [i for i in range(10)]     # i is enclosed scope"
   ]
  },
  {
   "cell_type": "markdown",
   "metadata": {},
   "source": [
    "### Answer 6"
   ]
  },
  {
   "cell_type": "markdown",
   "metadata": {},
   "source": [
    "When the function returns the value then all of its variables in local scope are destroyed."
   ]
  },
  {
   "cell_type": "code",
   "execution_count": 3,
   "metadata": {},
   "outputs": [
    {
     "name": "stdout",
     "output_type": "stream",
     "text": [
      "20\n",
      "10\n"
     ]
    }
   ],
   "source": [
    "score = 10\n",
    "def six_function() -> int:\n",
    "    '''Return score.'''\n",
    "    score = 20\n",
    "    return score\n",
    "print(six_function())\n",
    "print(score)"
   ]
  },
  {
   "cell_type": "markdown",
   "metadata": {},
   "source": [
    "### Answer 7"
   ]
  },
  {
   "cell_type": "markdown",
   "metadata": {},
   "source": [
    "Function is a piece of code that are supposed to do some action and after action it can some a result, a return value of function is result of function from that excution of code.<br />Yes, functions can return values in expression."
   ]
  },
  {
   "cell_type": "code",
   "execution_count": 4,
   "metadata": {},
   "outputs": [
    {
     "name": "stdout",
     "output_type": "stream",
     "text": [
      "3280.5\n"
     ]
    }
   ],
   "source": [
    "def seven_function() -> float:\n",
    "    '''return the value of (a ** b) / (b - a) expression.'''\n",
    "    a, b = 3, 9\n",
    "    return (a**b) / (b - a)\n",
    "print(seven_function())"
   ]
  },
  {
   "cell_type": "markdown",
   "metadata": {},
   "source": [
    "### Answer 8"
   ]
  },
  {
   "cell_type": "markdown",
   "metadata": {},
   "source": [
    "If a function doesn't have a return statement than python automatically return `None` object."
   ]
  },
  {
   "cell_type": "code",
   "execution_count": 5,
   "metadata": {},
   "outputs": [
    {
     "name": "stdout",
     "output_type": "stream",
     "text": [
      "This function return None\n",
      "<class 'NoneType'>\n"
     ]
    }
   ],
   "source": [
    "def eight_function() -> None:\n",
    "    '''prints text.'''\n",
    "    print('This function return None')\n",
    "print(type(eight_function()))"
   ]
  },
  {
   "cell_type": "markdown",
   "metadata": {},
   "source": [
    "### Answer 9"
   ]
  },
  {
   "cell_type": "markdown",
   "metadata": {},
   "source": [
    "If we have to make a function variable that can refer to a global variable then we can use a keyword `global` inside function."
   ]
  },
  {
   "cell_type": "code",
   "execution_count": 6,
   "metadata": {},
   "outputs": [
    {
     "name": "stdout",
     "output_type": "stream",
     "text": [
      "20\n",
      "20\n"
     ]
    }
   ],
   "source": [
    "score = 10\n",
    "def ten_function() -> int:\n",
    "    '''Changes the value of global variable.'''\n",
    "    global score\n",
    "    score = 20\n",
    "    return score\n",
    "\n",
    "print(ten_function())\n",
    "print(score)"
   ]
  },
  {
   "cell_type": "markdown",
   "metadata": {},
   "source": [
    "### Answer 10"
   ]
  },
  {
   "cell_type": "markdown",
   "metadata": {},
   "source": [
    "The datatype of None object is `NoneType`."
   ]
  },
  {
   "cell_type": "code",
   "execution_count": 7,
   "metadata": {},
   "outputs": [
    {
     "data": {
      "text/plain": [
       "NoneType"
      ]
     },
     "execution_count": 7,
     "metadata": {},
     "output_type": "execute_result"
    }
   ],
   "source": [
    "type(None)"
   ]
  },
  {
   "cell_type": "markdown",
   "metadata": {},
   "source": [
    "### Answer 11"
   ]
  },
  {
   "cell_type": "markdown",
   "metadata": {},
   "source": [
    "`import areallyourpetsnamederic` loads the `areallyourpetsnamederic` module into python."
   ]
  },
  {
   "cell_type": "markdown",
   "metadata": {},
   "source": [
    "### Answer 12"
   ]
  },
  {
   "cell_type": "markdown",
   "metadata": {},
   "source": [
    "```\n",
    "#import spam\n",
    "spam.bacon()\n",
    "```"
   ]
  },
  {
   "cell_type": "markdown",
   "metadata": {},
   "source": [
    "### Answer 13"
   ]
  },
  {
   "cell_type": "markdown",
   "metadata": {},
   "source": [
    "First I check for error name whether it is `KeyError`, `ValueError`, `FileNotFoundError` or any other, then I check the which line of code is causing the error, finally I try to fix the error on my own if possible, at the end I search Error name along with error message on internet."
   ]
  },
  {
   "cell_type": "markdown",
   "metadata": {},
   "source": [
    "### Answer 14"
   ]
  },
  {
   "cell_type": "markdown",
   "metadata": {},
   "source": [
    "`try` clause are used where the code is likely to give some error to avoid program from crashing,\n",
    "when code inside `try` had raise an error then code `except` excutes by using try and except program can run even if it encountered an error."
   ]
  },
  {
   "cell_type": "code",
   "execution_count": 8,
   "metadata": {},
   "outputs": [
    {
     "name": "stdout",
     "output_type": "stream",
     "text": [
      "number can't be converted into float\n",
      "<class 'str'>\n"
     ]
    }
   ],
   "source": [
    "# simple working of try and except\n",
    "number = 'five'\n",
    "try:\n",
    "    number = float(number)                           # try to convert variable into float datatype\n",
    "    print(type(number))\n",
    "except:\n",
    "    print('number can\\'t be converted into float')    # if try fails then this code excutes\n",
    "    print(type(number))\n"
   ]
  }
 ],
 "metadata": {
  "kernelspec": {
   "display_name": "Python 3.10.2 64-bit",
   "language": "python",
   "name": "python3"
  },
  "language_info": {
   "codemirror_mode": {
    "name": "ipython",
    "version": 3
   },
   "file_extension": ".py",
   "mimetype": "text/x-python",
   "name": "python",
   "nbconvert_exporter": "python",
   "pygments_lexer": "ipython3",
   "version": "3.10.2"
  },
  "orig_nbformat": 4,
  "vscode": {
   "interpreter": {
    "hash": "2469a70536e4d2335a2ea8907942d0699c37342a371ac185bdb5b0aa6f073890"
   }
  }
 },
 "nbformat": 4,
 "nbformat_minor": 2
}
