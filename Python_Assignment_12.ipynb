{
 "cells": [
  {
   "cell_type": "markdown",
   "metadata": {},
   "source": [
    "# Python Assignment 12"
   ]
  },
  {
   "cell_type": "markdown",
   "metadata": {},
   "source": [
    "### Answer 1"
   ]
  },
  {
   "cell_type": "markdown",
   "metadata": {},
   "source": [
    "`PdfFileReader()` should be opened in read binary `rb` mode while `PdfFileWriter()` opened in write binary `wb`."
   ]
  },
  {
   "cell_type": "markdown",
   "metadata": {},
   "source": [
    "### Answer 2"
   ]
  },
  {
   "cell_type": "markdown",
   "metadata": {},
   "source": [
    "Program to get a Page object for page 5."
   ]
  },
  {
   "cell_type": "code",
   "execution_count": 1,
   "metadata": {},
   "outputs": [
    {
     "name": "stdout",
     "output_type": "stream",
     "text": [
      "This is Page 5\n"
     ]
    }
   ],
   "source": [
    "import PyPDF2                                          # module\n",
    "\n",
    "pdf_reader = PyPDF2.PdfReader('file.pdf')              # reading the pdf file\n",
    "page_obj_5 = pdf_reader.getPage(4)                     # creating a page object of 5th page\n",
    "    \n",
    "print(page_obj_5.extractText())"
   ]
  },
  {
   "cell_type": "markdown",
   "metadata": {},
   "source": [
    "### Answer 3"
   ]
  },
  {
   "cell_type": "markdown",
   "metadata": {},
   "source": [
    "`PyPDF2.PdfReader.numPages` stores the number of pages of pdf file."
   ]
  },
  {
   "cell_type": "markdown",
   "metadata": {},
   "source": [
    "### Answer 4"
   ]
  },
  {
   "cell_type": "markdown",
   "metadata": {},
   "source": [
    "I would check if the file is encypted then I would use the `decrypt` function inside `PdfFileReader` object to decrypt the file."
   ]
  },
  {
   "cell_type": "code",
   "execution_count": null,
   "metadata": {},
   "outputs": [],
   "source": [
    "from PyPDF2 import PdfFileReader\n",
    "file = PdfFileReader('file.pdf')\n",
    "password = 'swordfish'\n",
    "\n",
    "if file.isEncrypted():                                            # isEncrypted return True if the file is encrypted\n",
    "    file.decrypt(password)                                        # decrypting the file\n",
    "    print(file.numPages)                                          # printing the number of pages if file is successfully decrypted"
   ]
  },
  {
   "cell_type": "markdown",
   "metadata": {},
   "source": [
    "### Answer 5"
   ]
  },
  {
   "cell_type": "markdown",
   "metadata": {},
   "source": [
    "Rotate a page"
   ]
  },
  {
   "cell_type": "code",
   "execution_count": 2,
   "metadata": {},
   "outputs": [],
   "source": [
    "from PyPDF2 import PdfReader, PdfWriter\n",
    "\n",
    "reader = PdfReader('file.pdf')                    # reading the file\n",
    "writer = PdfWriter()                              # creating a writer object\n",
    "\n",
    "writer.add_page(reader.pages[0])                  # getting page 0\n",
    "writer.pages[0].rotate(90)                        # rotate the page\n",
    "with open('rotate.pdf', 'wb') as f:               # writes the changes into a file\n",
    "    writer.write(f)"
   ]
  },
  {
   "cell_type": "markdown",
   "metadata": {},
   "source": [
    "### Answer 6"
   ]
  },
  {
   "cell_type": "markdown",
   "metadata": {},
   "source": [
    "1. Paragraph : Return a new paragraph contains text, styles, tab character, newline character, carriage character and these all are converted into a line break.\n",
    "2. Run : Append a run to the assigned paragraph containing text and special character."
   ]
  },
  {
   "cell_type": "markdown",
   "metadata": {},
   "source": [
    "### Answer 7"
   ]
  },
  {
   "cell_type": "markdown",
   "metadata": {},
   "source": [
    "If there is a list of a paragraph inside a variable named `doc` then we can access all the paragraphs by `doc.paragraphs` attribute, it return a list of paragraph object."
   ]
  },
  {
   "cell_type": "markdown",
   "metadata": {},
   "source": [
    "### Answer 8"
   ]
  },
  {
   "cell_type": "markdown",
   "metadata": {},
   "source": [
    "The `Run` object inside the `docx.text.run` has bold, underline and italic variables."
   ]
  },
  {
   "cell_type": "code",
   "execution_count": 3,
   "metadata": {},
   "outputs": [
    {
     "name": "stdout",
     "output_type": "stream",
     "text": [
      "['add_break', 'add_picture', 'add_tab', 'add_text', 'bold', 'clear', 'font', 'italic', 'part', 'style', 'text', 'underline']\n"
     ]
    }
   ],
   "source": [
    "from docx.text.run import Run\n",
    "print([var for var in dir(Run) if not var.startswith('__')])"
   ]
  },
  {
   "cell_type": "markdown",
   "metadata": {},
   "source": [
    "### Answer 9"
   ]
  },
  {
   "attachments": {},
   "cell_type": "markdown",
   "metadata": {},
   "source": [
    "When the `bold` is set to `True` then the text is converted into bold character and if the `bold` is set to `False` or `None` then text remain in regular form."
   ]
  },
  {
   "cell_type": "code",
   "execution_count": 4,
   "metadata": {},
   "outputs": [],
   "source": [
    "from docx import Document\n",
    "doc = Document()\n",
    "\n",
    "p1 = doc.add_paragraph('This is first paragraph\\n')\n",
    "runs1 = p1.add_run('I am bold character\\n')\n",
    "runs1.bold = True                                                           # bold is set to True\n",
    "\n",
    "p2 = doc.add_paragraph('This is second paragraph\\n')\n",
    "runs2 = p2.add_run('I am not bold character\\n')\n",
    "runs2.bold = False                                                          # bold is set to False\n",
    "\n",
    "p3 = doc.add_paragraph('This is third paragraph\\n')\n",
    "runs3 = p3.add_run('I am not bold character\\n')\n",
    "runs3.bold = None                                                           # bold is set to None\n",
    "\n",
    "doc.save('nic.docx')                                                        # output file"
   ]
  },
  {
   "cell_type": "markdown",
   "metadata": {},
   "source": [
    "### Answer 10"
   ]
  },
  {
   "attachments": {},
   "cell_type": "markdown",
   "metadata": {},
   "source": [
    "A document object"
   ]
  },
  {
   "cell_type": "code",
   "execution_count": 5,
   "metadata": {},
   "outputs": [],
   "source": [
    "from docx import Document\n",
    "doc = Document()                                                         # document object\n",
    "doc.add_paragraph('This is a document file')\n",
    "doc.save('document.docx')                                              # output file in a word document"
   ]
  },
  {
   "attachments": {},
   "cell_type": "markdown",
   "metadata": {},
   "source": [
    "### Answer 11"
   ]
  },
  {
   "cell_type": "code",
   "execution_count": 6,
   "metadata": {},
   "outputs": [
    {
     "data": {
      "text/plain": [
       "'Hello, there!'"
      ]
     },
     "execution_count": 6,
     "metadata": {},
     "output_type": "execute_result"
    }
   ],
   "source": [
    "from docx import Document\n",
    "doc = Document()                                                                # creatig a document object\n",
    "doc.add_paragraph('Hello, there!')                                              # adding a paragraph object\n",
    "doc.paragraphs[0].text"
   ]
  },
  {
   "attachments": {},
   "cell_type": "markdown",
   "metadata": {},
   "source": [
    "### Answer 12"
   ]
  },
  {
   "cell_type": "code",
   "execution_count": null,
   "metadata": {},
   "outputs": [],
   "source": [
    "doc.add_heading(text = 'This is heading', level = 2)                                    # level = 2 means Heading 2 is used range is 0-9"
   ]
  }
 ],
 "metadata": {
  "kernelspec": {
   "display_name": "Python 3 (ipykernel)",
   "language": "python",
   "name": "python3"
  },
  "language_info": {
   "codemirror_mode": {
    "name": "ipython",
    "version": 3
   },
   "file_extension": ".py",
   "mimetype": "text/x-python",
   "name": "python",
   "nbconvert_exporter": "python",
   "pygments_lexer": "ipython3",
   "version": "3.10.2"
  },
  "vscode": {
   "interpreter": {
    "hash": "2469a70536e4d2335a2ea8907942d0699c37342a371ac185bdb5b0aa6f073890"
   }
  }
 },
 "nbformat": 4,
 "nbformat_minor": 4
}
