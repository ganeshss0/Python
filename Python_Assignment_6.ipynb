{
 "cells": [
  {
   "cell_type": "markdown",
   "id": "d618c93b-e4c8-4e58-8b18-f4ae2c3ef000",
   "metadata": {},
   "source": [
    "# Python Assignments 6"
   ]
  },
  {
   "cell_type": "markdown",
   "id": "c3a76118-0363-4cb1-85f5-efc4d3781a12",
   "metadata": {},
   "source": [
    "### Answer 1"
   ]
  },
  {
   "cell_type": "markdown",
   "id": "b8d056aa-eaf1-4c7a-b400-71242c2404df",
   "metadata": {},
   "source": [
    "Escape character are special character that are encoded into python used to advance formatting the string, Some common escape character are:\n",
    "+ `\\n` : New line character\n",
    "+ `\\t` : Tab character\n",
    "+ `\\\\` : Backslash escape character\n",
    "+ `\\r` : Carriage return\n"
   ]
  },
  {
   "cell_type": "markdown",
   "id": "17d650ab-c7e5-4f4e-8676-7db1d51514a7",
   "metadata": {},
   "source": [
    "### Answer 2"
   ]
  },
  {
   "cell_type": "markdown",
   "id": "845a3d7f-2596-4e8d-accd-9f413813a442",
   "metadata": {},
   "source": [
    "+ `\\t` : tab character\n",
    "+ `\\n` : new line character"
   ]
  },
  {
   "cell_type": "markdown",
   "id": "ffe43648-0c7f-459e-aca9-7a231df1f44e",
   "metadata": {},
   "source": [
    "### Answer 3"
   ]
  },
  {
   "cell_type": "markdown",
   "id": "2287db39-f610-4c60-a126-3cf449bcbca3",
   "metadata": {},
   "source": [
    "To include backslash character in string we have to use `\\\\`"
   ]
  },
  {
   "cell_type": "markdown",
   "id": "d14e7dc3-6140-4bd2-be3d-a9bd5186cb76",
   "metadata": {},
   "source": [
    "### Answer 4"
   ]
  },
  {
   "cell_type": "markdown",
   "id": "2edc96ef-6a94-4dc7-9136-d0675437cd46",
   "metadata": {},
   "source": [
    "Here `\"Howl's Moving Castle\"` the single quote is inside double quotes."
   ]
  },
  {
   "cell_type": "markdown",
   "id": "250b74ef-67da-43e1-9777-512c0d30f6d0",
   "metadata": {},
   "source": [
    "### Answer 5"
   ]
  },
  {
   "cell_type": "markdown",
   "id": "09a2d058-10f3-4f5e-9003-1d9a1fa938b6",
   "metadata": {},
   "source": [
    "I can use doc string, so can get a new line without `\\n`."
   ]
  },
  {
   "cell_type": "code",
   "execution_count": 1,
   "id": "deec18fa-706d-46ce-94cf-6d2697aceb6f",
   "metadata": {},
   "outputs": [
    {
     "name": "stdout",
     "output_type": "stream",
     "text": [
      "This is\n",
      "a doc string\n"
     ]
    }
   ],
   "source": [
    "print('''This is\n",
    "a doc string''')"
   ]
  },
  {
   "cell_type": "markdown",
   "id": "ed619852-8d16-4c3d-a38f-2ad503a301fd",
   "metadata": {},
   "source": [
    "### Answer 6"
   ]
  },
  {
   "cell_type": "code",
   "execution_count": 2,
   "id": "9f8a41cd-1151-41d5-a0d8-140b6fc25772",
   "metadata": {},
   "outputs": [
    {
     "data": {
      "text/plain": [
       "'e'"
      ]
     },
     "execution_count": 2,
     "metadata": {},
     "output_type": "execute_result"
    }
   ],
   "source": [
    "'Hello, world!'[1]          # gives 'e'"
   ]
  },
  {
   "cell_type": "code",
   "execution_count": 3,
   "id": "fc6f9378-a48c-440d-81fe-60e0da12f9c1",
   "metadata": {},
   "outputs": [
    {
     "data": {
      "text/plain": [
       "'Hello'"
      ]
     },
     "execution_count": 3,
     "metadata": {},
     "output_type": "execute_result"
    }
   ],
   "source": [
    "'Hello, world!'[0:5]        # gives 'Hello'"
   ]
  },
  {
   "cell_type": "code",
   "execution_count": 4,
   "id": "b0b9e3cd-f8e6-4941-87e6-305efe0497b2",
   "metadata": {},
   "outputs": [
    {
     "data": {
      "text/plain": [
       "'Hello'"
      ]
     },
     "execution_count": 4,
     "metadata": {},
     "output_type": "execute_result"
    }
   ],
   "source": [
    "'Hello, world!'[:5]         # gives 'Hello'"
   ]
  },
  {
   "cell_type": "code",
   "execution_count": 5,
   "id": "9953d949-07ba-404a-a120-b20f6a576aac",
   "metadata": {},
   "outputs": [
    {
     "data": {
      "text/plain": [
       "'lo, world!'"
      ]
     },
     "execution_count": 5,
     "metadata": {},
     "output_type": "execute_result"
    }
   ],
   "source": [
    "'Hello, world!'[3:]         # gives 'lo, world!'"
   ]
  },
  {
   "cell_type": "markdown",
   "id": "2bd8fc37-fd4c-471a-82a6-c448a84b07a0",
   "metadata": {},
   "source": [
    "### Answer 7"
   ]
  },
  {
   "cell_type": "code",
   "execution_count": 6,
   "id": "42a779a9-7ff8-48b4-abd4-0f8e65143b55",
   "metadata": {},
   "outputs": [
    {
     "data": {
      "text/plain": [
       "'HELLO'"
      ]
     },
     "execution_count": 6,
     "metadata": {},
     "output_type": "execute_result"
    }
   ],
   "source": [
    "'Hello'.upper()              # gives 'HELLO'"
   ]
  },
  {
   "cell_type": "code",
   "execution_count": 7,
   "id": "90354890-b54a-42df-92fa-8d918d843b3a",
   "metadata": {},
   "outputs": [
    {
     "data": {
      "text/plain": [
       "True"
      ]
     },
     "execution_count": 7,
     "metadata": {},
     "output_type": "execute_result"
    }
   ],
   "source": [
    "'Hello'.upper().isupper()    # gives True"
   ]
  },
  {
   "cell_type": "code",
   "execution_count": 8,
   "id": "ffa9e89c-7ddf-4588-a043-8c9efd5e6d40",
   "metadata": {},
   "outputs": [
    {
     "data": {
      "text/plain": [
       "'hello'"
      ]
     },
     "execution_count": 8,
     "metadata": {},
     "output_type": "execute_result"
    }
   ],
   "source": [
    "'Hello'.upper().lower()      # gives 'hello'"
   ]
  },
  {
   "cell_type": "markdown",
   "id": "c6196381-241c-42e3-be24-de2fe331224e",
   "metadata": {},
   "source": [
    "### Answer 8"
   ]
  },
  {
   "cell_type": "code",
   "execution_count": 9,
   "id": "bb5b6be8-47a7-4ca1-b43b-1dd347c75514",
   "metadata": {},
   "outputs": [
    {
     "data": {
      "text/plain": [
       "['Remember,', 'remember,', 'the', 'fifth', 'of', 'July.']"
      ]
     },
     "execution_count": 9,
     "metadata": {},
     "output_type": "execute_result"
    }
   ],
   "source": [
    "# gives a list of strings, strings seperated by space (default)\n",
    "'Remember, remember, the fifth of July.'.split()           # ['Remember,', 'remember,', 'the', 'fifth', 'of', 'July.']"
   ]
  },
  {
   "cell_type": "code",
   "execution_count": 10,
   "id": "a74b68a1-2bfe-445d-a0bd-c59b7371314f",
   "metadata": {},
   "outputs": [
    {
     "data": {
      "text/plain": [
       "'There-can-only-one'"
      ]
     },
     "execution_count": 10,
     "metadata": {},
     "output_type": "execute_result"
    }
   ],
   "source": [
    "# gives a string created from list\n",
    "'-'.join('There can only one'.split())                    # 'There-can-only-one'"
   ]
  },
  {
   "cell_type": "markdown",
   "id": "e230eca9",
   "metadata": {},
   "source": [
    "### Answer 9"
   ]
  },
  {
   "cell_type": "markdown",
   "id": "7b08013a",
   "metadata": {},
   "source": [
    "+ `str.ljust(width, fillchar)`  : Left Justifying\n",
    "+ `str.rjust(width, fillchar)`  : Right Justifying\n",
    "+ `str.center(width, fillchar)` : Center Justifying"
   ]
  },
  {
   "cell_type": "code",
   "execution_count": 11,
   "id": "8b6e97df-e23c-4f26-aff6-3f97f79721e5",
   "metadata": {},
   "outputs": [
    {
     "name": "stdout",
     "output_type": "stream",
     "text": [
      "Left Justfy : nice****\n",
      "Right Justfy : ****nice\n",
      "Center Justfy : **nice**\n"
     ]
    }
   ],
   "source": [
    "string = 'nice'\n",
    "width = 8\n",
    "fillchar = '*'\n",
    "print(f'Left Justfy : {string.ljust(width, fillchar)}')\n",
    "print(f'Right Justfy : {string.rjust(width, fillchar)}')\n",
    "print(f'Center Justfy : {string.center(width, fillchar)}')"
   ]
  },
  {
   "cell_type": "markdown",
   "id": "f309be34",
   "metadata": {},
   "source": [
    "### Answer 10"
   ]
  },
  {
   "cell_type": "markdown",
   "id": "bc627f63",
   "metadata": {},
   "source": [
    "To remove white spaces we can use `str.strip()` funtion, return a copy of string with whitespace removed from start and end."
   ]
  }
 ],
 "metadata": {
  "kernelspec": {
   "display_name": "Python 3.10.2 64-bit",
   "language": "python",
   "name": "python3"
  },
  "language_info": {
   "codemirror_mode": {
    "name": "ipython",
    "version": 3
   },
   "file_extension": ".py",
   "mimetype": "text/x-python",
   "name": "python",
   "nbconvert_exporter": "python",
   "pygments_lexer": "ipython3",
   "version": "3.10.2"
  },
  "vscode": {
   "interpreter": {
    "hash": "2469a70536e4d2335a2ea8907942d0699c37342a371ac185bdb5b0aa6f073890"
   }
  }
 },
 "nbformat": 4,
 "nbformat_minor": 5
}
