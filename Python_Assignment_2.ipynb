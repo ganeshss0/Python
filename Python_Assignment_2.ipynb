{
 "cells": [
  {
   "cell_type": "markdown",
   "metadata": {},
   "source": [
    "## Python Assignment 2"
   ]
  },
  {
   "cell_type": "markdown",
   "metadata": {},
   "source": [
    "1. The two type of bool datatypes are bool true and bool false, these can be written as `True` and `False`."
   ]
  },
  {
   "cell_type": "markdown",
   "metadata": {},
   "source": [
    "2. In boolean algebra there are three type of operator:<br />\n",
    "    + and operator : `True and False >>> False`<br />\n",
    "    + or operator : `True or False >>> True`<br />\n",
    "    + not opeator : `not True >>> False`<br />"
   ]
  },
  {
   "cell_type": "markdown",
   "metadata": {},
   "source": [
    "3. Boolean And<br />\n",
    "    | and   | True  | False |\n",
    "    |-------|-------|-------|\n",
    "    | True  | True  | False |\n",
    "    | False | False | False |<br />\n",
    "\n",
    "   Boolean Or<br />\n",
    "   \n",
    "    | or    | True  | False |\n",
    "    |-------|-------|-------|\n",
    "    | True  | True  | True  |\n",
    "    | False | True  | False |"
   ]
  },
  {
   "cell_type": "markdown",
   "metadata": {},
   "source": [
    "4. ```\n",
    "    >>> (5 > 4) and (3 == 5)\n",
    "    False\n",
    "    >>> not (5 > 4)\n",
    "    False\n",
    "    >>> (5 > 4) or (3 == 5)\n",
    "    True\n",
    "    >>> not ((5 > 4) or (3 == 5))\n",
    "    True\n",
    "    >>> (True and True) and (True == False)\n",
    "    False\n",
    "    >>> (not False) or (not True)\n",
    "    True\n",
    "    ```"
   ]
  },
  {
   "cell_type": "markdown",
   "metadata": {},
   "source": [
    "5. Comparison operator<br />\n",
    "   + `>` : Greater than operator<br />\n",
    "   + `<` : Less than operator<br />\n",
    "   + `==` : Value Equal to operator<br />\n",
    "   + `>=` : Greater than and Equal to operator<br />\n",
    "   + `<=` : Less than and Equal to operator<br />\n",
    "   + `!=` : Not Equal to opeartor"
   ]
  },
  {
   "cell_type": "markdown",
   "metadata": {},
   "source": [
    "6. The equal to operator `==` checks whether object on left side have same value as object on right side like `5 == 3 >>> False` here value of 5 and 3 are not equal while Assignment operator `=` is used to assign value to variables like `abc = 10` here value 10 is assigned to variable abc.<br />\n",
    "Example:"
   ]
  },
  {
   "cell_type": "code",
   "execution_count": null,
   "metadata": {},
   "outputs": [],
   "source": [
    "# prints a strings according to if else condition\n",
    "volt = 11\n",
    "if volt == 12:\n",
    "    print('Correct Voltage')\n",
    "else:\n",
    "    print('Incorrect Voltage')"
   ]
  },
  {
   "cell_type": "markdown",
   "metadata": {},
   "source": [
    "7."
   ]
  },
  {
   "cell_type": "code",
   "execution_count": null,
   "metadata": {},
   "outputs": [],
   "source": [
    "spam = 0\n",
    "if spam == 10:\n",
    "    print('eggs')\n",
    "else:\n",
    "    print('bacon')\n",
    "\n",
    "print('spam')\n",
    "print('spam')"
   ]
  },
  {
   "cell_type": "markdown",
   "metadata": {},
   "source": [
    "8."
   ]
  },
  {
   "cell_type": "code",
   "execution_count": null,
   "metadata": {},
   "outputs": [],
   "source": [
    "# Prints a string according to if else condition.\n",
    "spam = 'nice'\n",
    "if spam == 1:\n",
    "    print('Hello')\n",
    "elif spam == 2:\n",
    "    print('Howdy')\n",
    "else:\n",
    "    print('Greetings')"
   ]
  },
  {
   "cell_type": "markdown",
   "metadata": {},
   "source": [
    "9. `ctrl + C`"
   ]
  },
  {
   "cell_type": "markdown",
   "metadata": {},
   "source": [
    "10. The `break` statement exits the loop, in case of nested loops it exits the loop inside which it is called, while `continue` does not exits but it just skips the current iteration and continue from next iteration."
   ]
  },
  {
   "cell_type": "markdown",
   "metadata": {},
   "source": [
    "11. The `range` function arguments are `range( start, stop, step )` where start and step are default argument as start = 0, step = 1. So `range(10)`, `range(0, 10)` and `range(0,10,1)` give us same result (an iderator of value 0 to 9).<br />\n",
    "```\n",
    "    >>> range(10) == range(0,10) == range(0,10,1)\n",
    "True\n",
    "```"
   ]
  },
  {
   "cell_type": "markdown",
   "metadata": {},
   "source": [
    "12."
   ]
  },
  {
   "cell_type": "code",
   "execution_count": null,
   "metadata": {},
   "outputs": [],
   "source": [
    "# Program that print number from 1 to 10 using for loop.\n",
    "for i in range(1, 11):\n",
    "    print(i)\n",
    "\n",
    "# Program that print number from 1 to 10 using while loop.\n",
    "i = 1\n",
    "while i <= 10:\n",
    "    print(i)\n",
    "    i+=1"
   ]
  },
  {
   "cell_type": "markdown",
   "metadata": {},
   "source": [
    "13. ```\n",
    "    import spam\n",
    "    spam.bacon()\n",
    "    ```\n",
    "    or<br />\n",
    "```\n",
    "from spam import bacon\n",
    "```"
   ]
  }
 ],
 "metadata": {
  "kernelspec": {
   "display_name": "Python 3.10.4 64-bit",
   "language": "python",
   "name": "python3"
  },
  "language_info": {
   "codemirror_mode": {
    "name": "ipython",
    "version": 3
   },
   "file_extension": ".py",
   "mimetype": "text/x-python",
   "name": "python",
   "nbconvert_exporter": "python",
   "pygments_lexer": "ipython3",
   "version": "3.10.4"
  },
  "orig_nbformat": 4,
  "vscode": {
   "interpreter": {
    "hash": "3ad933181bd8a04b432d3370b9dc3b0662ad032c4dfaa4e4f1596c548f763858"
   }
  }
 },
 "nbformat": 4,
 "nbformat_minor": 2
}
