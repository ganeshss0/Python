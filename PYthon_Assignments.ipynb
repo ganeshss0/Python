{
 "cells": [
  {
   "cell_type": "markdown",
   "id": "6aacf06f-e5ec-4ae8-a51e-7c3f5fee9d62",
   "metadata": {},
   "source": [
    "## Python Assignment 1\n",
    "1. Values: 'hello', -87.8, 6 <br />\n",
    "   Expression: *, -, /, +\n",
    "   <br />\n",
    "   <br />\n",
    "2. Difference between String and Variable <br />\n",
    "   A. String are a sequence of character, it can be used to store text data inside Memory, Strings can contains letters, integers, symbols.<br />\n",
    "   B. Variables are like container that can hold/store data like strings, integers, bools and other objects inside Memory(RAM) in a systematic manner so that it can be retrieved by variable's name.\n",
    "<br />\n",
    "<br />\n",
    "3. Datatypes<br />\n",
    "   A. <class 'int'> is a integer datatype it can store integers values.<br />\n",
    "   B. <class 'list'> is a list datatype it can store any python object inside it and object are accessed by indexing.<br />\n",
    "   C. <class 'bool'> is a boolean datatype it consist only two values boolean True and boolean False,can be used as boolean zero and one in boolean algebra, or inside if-else ladder.\n",
    "   <br />\n",
    "   <br />\n",
    "6. After running<br />\n",
    "   `bacon = 22`<br />\n",
    "   `bacon + 1`<br /\n",
    "   variable bacon contains an integer value of 22.\n",
    "<br />\n",
    "<br />\n",
    "7. `'spam' + 'spamspam'\n"
   ]
  },
  {
   "cell_type": "code",
   "execution_count": null,
   "id": "d85ddc05-5a34-4ea5-a801-309d2f3dc691",
   "metadata": {},
   "outputs": [],
   "source": []
  }
 ],
 "metadata": {
  "kernelspec": {
   "display_name": "Python 3 (ipykernel)",
   "language": "python",
   "name": "python3"
  },
  "language_info": {
   "codemirror_mode": {
    "name": "ipython",
    "version": 3
   },
   "file_extension": ".py",
   "mimetype": "text/x-python",
   "name": "python",
   "nbconvert_exporter": "python",
   "pygments_lexer": "ipython3",
   "version": "3.10.6"
  }
 },
 "nbformat": 4,
 "nbformat_minor": 5
}
