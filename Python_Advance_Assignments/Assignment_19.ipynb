{
 "cells": [
  {
   "attachments": {},
   "cell_type": "markdown",
   "metadata": {},
   "source": [
    "# Python Assignment 19"
   ]
  },
  {
   "cell_type": "markdown",
   "metadata": {},
   "source": [
    "### Answer 1"
   ]
  },
  {
   "attachments": {},
   "cell_type": "markdown",
   "metadata": {},
   "source": [
    "Classes are made by defining a class statment with a `class` keyword while instance are created by calling the class name and its mehtod. The partnership between class and instances is one-to-many, we can create unlimited instances from a single class."
   ]
  },
  {
   "cell_type": "code",
   "execution_count": 1,
   "metadata": {},
   "outputs": [
    {
     "data": {
      "text/plain": [
       "(<__main__.ABC at 0x7f5b594aec70>,\n",
       " <__main__.ABC at 0x7f5b594ae850>,\n",
       " <__main__.ABC at 0x7f5b594aedc0>)"
      ]
     },
     "execution_count": 1,
     "metadata": {},
     "output_type": "execute_result"
    }
   ],
   "source": [
    "class ABC:\n",
    "    pass\n",
    "\n",
    "A = ABC()\n",
    "B = ABC()\n",
    "C = ABC()\n",
    "\n",
    "A, B, C"
   ]
  },
  {
   "cell_type": "markdown",
   "metadata": {},
   "source": [
    "### Answer 2"
   ]
  },
  {
   "cell_type": "markdown",
   "metadata": {},
   "source": [
    "Any attribute and method that we create apart from the class's attribute and method is stored only in instance these method and attribute are only accessed by this instance only not from class or any other instance."
   ]
  },
  {
   "cell_type": "code",
   "execution_count": 2,
   "metadata": {},
   "outputs": [
    {
     "name": "stdout",
     "output_type": "stream",
     "text": [
      "Method and Attribute of class:\n",
      " ['flower', 'onion']\n",
      "Method and Attribute of instance:\n",
      " ['flower', 'new_attribute', 'new_method', 'onion']\n"
     ]
    }
   ],
   "source": [
    "class rice:\n",
    "    flower = 'I am a attribute name flower from class rice'\n",
    "    def onion(self):\n",
    "        return print('I am method name onion from class rice.')\n",
    "\n",
    "# new instance\n",
    "my_instance = rice()\n",
    "\n",
    "# adding a new method to instance\n",
    "my_instance.new_method = lambda x: print('I am new method.')\n",
    "\n",
    "# adding a new attribute to instance\n",
    "my_instance.new_attribute = 'I am a new attribute.'\n",
    "\n",
    "rice_all = [i for i in dir(rice) if i[0] != '_']\n",
    "instance_all = [i for i in dir(my_instance) if i[0] != '_']\n",
    "\n",
    "print('Method and Attribute of class:\\n', rice_all)\n",
    "print('Method and Attribute of instance:\\n', instance_all)"
   ]
  },
  {
   "cell_type": "markdown",
   "metadata": {},
   "source": [
    "### Answer 3"
   ]
  },
  {
   "cell_type": "markdown",
   "metadata": {},
   "source": [
    "A `class` can store a variety of information like:\n",
    "1. Class attributes\n",
    "2. Methods\n",
    "3. Class methods\n",
    "4. Static methods\n",
    "5. Nested Classes"
   ]
  },
  {
   "cell_type": "markdown",
   "metadata": {},
   "source": [
    "### Answer 4"
   ]
  },
  {
   "cell_type": "markdown",
   "metadata": {},
   "source": [
    "A `method` is written inside a class and the only way to access the method if from class itself while the normal function can be accessed any where, `method` takes an additional argument called `self` as first argument it store all the methods and attributes of instance which is required during the method call, while normal function don't need `self` argument. `method` can be marked as public, private and protected while regular function can't."
   ]
  },
  {
   "cell_type": "code",
   "execution_count": 3,
   "metadata": {},
   "outputs": [],
   "source": [
    "class Some:\n",
    "    '''A class with a method that print text.'''\n",
    "    def method(self) -> None:\n",
    "        print('I am a method.')\n",
    "\n",
    "def regular() -> None:\n",
    "    '''Prints a text.'''\n",
    "    print('I am a regular function')"
   ]
  },
  {
   "cell_type": "markdown",
   "metadata": {},
   "source": [
    "### Answer 5"
   ]
  },
  {
   "cell_type": "markdown",
   "metadata": {},
   "source": [
    "Yes, inhertance is supported in python, even python support mutiple inheritance and multilevel inheritance also."
   ]
  },
  {
   "cell_type": "code",
   "execution_count": 4,
   "metadata": {},
   "outputs": [
    {
     "name": "stdout",
     "output_type": "stream",
     "text": [
      "I am onion class\n",
      "I am vegetable class\n",
      "I am food class\n",
      "I am company class\n"
     ]
    }
   ],
   "source": [
    "class company:\n",
    "    def company_method(self):\n",
    "        print('I am company class')\n",
    "\n",
    "class food(company):\n",
    "    def food_method(self):\n",
    "        print('I am food class')\n",
    "\n",
    "# multilevel inhertance\n",
    "class vegetable(food):\n",
    "    def vege_method(self):\n",
    "        print('I am vegetable class')\n",
    "\n",
    "# multiple inheritance\n",
    "class onion(vegetable, object):\n",
    "    def onion_method(self):\n",
    "        print('I am onion class')\n",
    "\n",
    "product = onion()\n",
    "\n",
    "product.onion_method()\n",
    "product.vege_method()\n",
    "product.food_method()\n",
    "product.company_method()"
   ]
  },
  {
   "cell_type": "markdown",
   "metadata": {},
   "source": [
    "### Answer 6"
   ]
  },
  {
   "cell_type": "markdown",
   "metadata": {},
   "source": [
    "Python supports encapsulation. By convention, an attribute or method with a single leading underscore(`_protected_attribute`) and double leading underscores(`__private_attribute`), these are known as protected variable and private variable. These should not be accessed or modified outside of the class. But this is just a convertion we can still access both protected and private variable from class method."
   ]
  },
  {
   "cell_type": "code",
   "execution_count": 5,
   "metadata": {},
   "outputs": [
    {
     "data": {
      "text/plain": [
       "11"
      ]
     },
     "execution_count": 5,
     "metadata": {},
     "output_type": "execute_result"
    }
   ],
   "source": [
    "class rice:\n",
    "    def __init__(self, a):\n",
    "        self.__x = a        # private attribute\n",
    "    \n",
    "    def increase_x(self):\n",
    "        self.__x += 1\n",
    "\n",
    "    def get_x(self):\n",
    "        return self.__x\n",
    "\n",
    "obj = rice(10)\n",
    "obj.increase_x()\n",
    "\n",
    "# still we can access private attribute using class method\n",
    "obj._rice__x"
   ]
  },
  {
   "cell_type": "markdown",
   "metadata": {},
   "source": [
    "### Answer 7"
   ]
  },
  {
   "attachments": {},
   "cell_type": "markdown",
   "metadata": {},
   "source": [
    "* Class variable is created by assigning variable to a class object. They are normally generated by top-level assignments nested in a class statement. We can create class variables even outside the class.<br />\n",
    "* Instance variable are creatd by assinging variable to an instance object. They are normally created within a class's method function coded inside the class statement, instance variable are also initialized in the `__init__` constructor method."
   ]
  },
  {
   "cell_type": "markdown",
   "metadata": {},
   "source": [
    "### Answer 8"
   ]
  },
  {
   "cell_type": "markdown",
   "metadata": {},
   "source": [
    "`self` is used to refer the instance, it store all the attributes and methods of instance object. Without `self` the methods and attributes of class can't communicate to each other. It is necessary to include `self` in the class defination because when the method needs to access or modify the state of the instance."
   ]
  },
  {
   "cell_type": "markdown",
   "metadata": {},
   "source": [
    "### Answer 9"
   ]
  },
  {
   "attachments": {},
   "cell_type": "markdown",
   "metadata": {},
   "source": [
    "* `__add__` is a left side operator means it only handle expression like `a + 2` if we put the instance on right side then it gives a `TypeError`.\n",
    "* `__radd__` is a right side opeator means it only handle expression like `2 + a` if we put instance on left side then it gives a `TypeError`."
   ]
  },
  {
   "cell_type": "code",
   "execution_count": 6,
   "metadata": {},
   "outputs": [
    {
     "name": "stdout",
     "output_type": "stream",
     "text": [
      "Add is called\n",
      "12\n",
      "Radd is called\n",
      "12\n"
     ]
    }
   ],
   "source": [
    "class add_number:\n",
    "\n",
    "    '''Implementation of __add__ and __radd__ method.'''\n",
    "    \n",
    "    def __init__(self, num: int) -> None:\n",
    "        self.num = num\n",
    "    \n",
    "    def __add__(self, num: int) -> int:\n",
    "        print('Add is called')\n",
    "        return self.num + num\n",
    "\n",
    "    def __radd__(self, num: int) -> object:\n",
    "        print('Radd is called')\n",
    "        return self.num + num\n",
    "\n",
    "\n",
    "a = add_number(10)\n",
    "\n",
    "print(a + 2)\n",
    "print(2 + a)"
   ]
  },
  {
   "cell_type": "markdown",
   "metadata": {},
   "source": [
    "### Answer 10"
   ]
  },
  {
   "cell_type": "markdown",
   "metadata": {},
   "source": [
    "Reflection is a technique in which a program can examine and modify its own structure and behavior at runtime. It is often used when it is necessary to perform operations on obhects or classes that are not known until runtime.\n",
    "Reflection is not necessary when the structure and behaviour of a program is known at compile-time and does not changes at runtime."
   ]
  },
  {
   "attachments": {},
   "cell_type": "markdown",
   "metadata": {},
   "source": [
    "### Answer 11"
   ]
  },
  {
   "attachments": {},
   "cell_type": "markdown",
   "metadata": {},
   "source": [
    "`__iadd__` handles in-place addition like `a += 2`."
   ]
  },
  {
   "cell_type": "code",
   "execution_count": 7,
   "metadata": {},
   "outputs": [
    {
     "name": "stdout",
     "output_type": "stream",
     "text": [
      "Iadd is called\n"
     ]
    },
    {
     "data": {
      "text/plain": [
       "12"
      ]
     },
     "execution_count": 7,
     "metadata": {},
     "output_type": "execute_result"
    }
   ],
   "source": [
    "class in_place(add_number):\n",
    "\n",
    "    '''Implementation of __iadd__ method, add_number superclass is defined in answer 9.'''\n",
    "    \n",
    "    def __iadd__(self, num: int):\n",
    "        print('Iadd is called')\n",
    "        self.num += num\n",
    "        return self\n",
    "\n",
    "a = in_place(10)\n",
    "a += 2\n",
    "a.num"
   ]
  }
 ],
 "metadata": {
  "kernelspec": {
   "display_name": "Python 3.8.10 64-bit",
   "language": "python",
   "name": "python3"
  },
  "language_info": {
   "codemirror_mode": {
    "name": "ipython",
    "version": 3
   },
   "file_extension": ".py",
   "mimetype": "text/x-python",
   "name": "python",
   "nbconvert_exporter": "python",
   "pygments_lexer": "ipython3",
   "version": "3.8.10"
  },
  "vscode": {
   "interpreter": {
    "hash": "e7370f93d1d0cde622a1f8e1c04877d8463912d04d973331ad4851f04de6915a"
   }
  }
 },
 "nbformat": 4,
 "nbformat_minor": 4
}
