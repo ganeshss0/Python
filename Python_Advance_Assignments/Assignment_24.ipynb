{
 "cells": [
  {
   "attachments": {},
   "cell_type": "markdown",
   "metadata": {},
   "source": [
    "# Python Assignment 24"
   ]
  },
  {
   "cell_type": "markdown",
   "metadata": {},
   "source": [
    "### Answer 1"
   ]
  },
  {
   "attachments": {},
   "cell_type": "markdown",
   "metadata": {},
   "source": [
    "Module have to be import only once, if we import the same module several times python does not import the module again."
   ]
  },
  {
   "cell_type": "code",
   "execution_count": 1,
   "metadata": {},
   "outputs": [
    {
     "name": "stdout",
     "output_type": "stream",
     "text": [
      "Nice\n",
      "Not Nice\n"
     ]
    }
   ],
   "source": [
    "import some_module\n",
    "\n",
    "# here we have import a module\n",
    "\n",
    "print(some_module.something)\n",
    "# There is a attribute inside the module\n",
    "# if we change this attribute and after that we import the module again our changes should be destroyed\n",
    "some_module.something = 'Not Nice'\n",
    "\n",
    "# import the module again\n",
    "import some_module\n",
    "# After import\n",
    "print(some_module.something)\n",
    "# some_module.something still showing 'Not Nice' instead of 'Nice' which is default value\n",
    "# so using several import statement for same module don't work python only import the module once"
   ]
  },
  {
   "cell_type": "markdown",
   "metadata": {},
   "source": [
    "### Answer 2"
   ]
  },
  {
   "attachments": {},
   "cell_type": "markdown",
   "metadata": {},
   "source": [
    "Module Characteristics\n",
    "* Increase Code resusablily.\n",
    "* Improve Code redundancy because we don't have to write the same code again.\n",
    "* Code become easy to maintain and organise. "
   ]
  },
  {
   "cell_type": "markdown",
   "metadata": {},
   "source": [
    "### Answer 3"
   ]
  },
  {
   "attachments": {},
   "cell_type": "markdown",
   "metadata": {},
   "source": [
    "If we create an program that avoids mutual importing but still access attributes, then we can try these methods:"
   ]
  },
  {
   "attachments": {},
   "cell_type": "markdown",
   "metadata": {},
   "source": [
    "1. Putting all import statement inside a third module and then call this third module.<br />\n",
    "* `main.py`<br />\n",
    "```\n",
    "    import first\n",
    "    import second\n",
    "```\n",
    "\n",
    "* `first.py`<br />\n",
    "```\n",
    "    import main\n",
    "\n",
    "    def method_first():\n",
    "        main.second.method_second()\n",
    "```\n",
    "* `second.py`<br />\n",
    "```\n",
    "    import main\n",
    "\n",
    "    def method_second():\n",
    "        main.first.method.first()\n",
    "```\n",
    "\n",
    "2. Using the absolute import statement but the importing name is going to be long in this case.\n",
    "* `import package.main.method_first()`<br />\n",
    "```\n",
    "    def function():\n",
    "        return package.main.method_first()\n",
    "```"
   ]
  },
  {
   "cell_type": "markdown",
   "metadata": {},
   "source": [
    "### Answer 4"
   ]
  },
  {
   "attachments": {},
   "cell_type": "markdown",
   "metadata": {},
   "source": [
    "`__all__` si a variable used to define the public interface of a module. It is a list of strings, where each string is the name of a variable, function, or class that should be considered part of the module's public interface. Anything not listed in `__all__` is considered an implementation detail and should not be accessed from outside the module."
   ]
  },
  {
   "cell_type": "markdown",
   "metadata": {},
   "source": [
    "### Answer 5"
   ]
  },
  {
   "attachments": {},
   "cell_type": "markdown",
   "metadata": {},
   "source": [
    "The `__name__` attribute is useful when there is some program that we don't want not be accessed or executed from other module. `__name__`. The `__name__` gives `__main__` when it is access from the same module, and if it is accessed from other module then it gives the respective file name.<br />\n",
    "Example: <br />\n",
    "__`module.py`__\n",
    "```\n",
    "def function():\n",
    "    return 1 + 2\n",
    "\n",
    "if __name__ == '__main__':\n",
    "    print(function())\n",
    "```\n",
    "In the above code the statment inside if condition is going to execute only if the same module is run, accessing the module from other module won't execute the if condition."
   ]
  },
  {
   "cell_type": "markdown",
   "metadata": {},
   "source": [
    "### Answer 6"
   ]
  },
  {
   "attachments": {},
   "cell_type": "markdown",
   "metadata": {},
   "source": [
    "Adding a program counter to an RPN interpreter can provide several benefits:\n",
    "1. Error handling: By keeping track of the current line number, the interpreter can more easily identiyf and report errors that occur during execution.\n",
    "2. Debugging: Program counter can be used to step through the RPn script line by line which makes debugging easy.\n",
    "3. Conditional Statements: Program counter can be used to implement conditional statement (if-else) in RPN script.\n",
    "4. Loops: Program counter can be used to split the RPN script into functions, which allow for better code organization, reusablility and maintainability."
   ]
  },
  {
   "cell_type": "markdown",
   "metadata": {},
   "source": [
    "### Answer 7"
   ]
  },
  {
   "attachments": {},
   "cell_type": "markdown",
   "metadata": {},
   "source": [
    "Here is a RPN interpreter with minimum expression."
   ]
  },
  {
   "cell_type": "code",
   "execution_count": 2,
   "metadata": {},
   "outputs": [
    {
     "data": {
      "text/plain": [
       "17.5"
      ]
     },
     "execution_count": 2,
     "metadata": {},
     "output_type": "execute_result"
    }
   ],
   "source": [
    "import numpy as np\n",
    "\n",
    "def RPN_interpreter(string: str) -> 'Any':\n",
    "    '''A simple RPN interpreter.'''\n",
    "\n",
    "    rpn_script = string.split(sep = ' ')\n",
    "    operator_dict = {'+' : np.add, '-' : np.subtract, '*' : np.multiply, '/' : np.divide}\n",
    "    idx = 0\n",
    "    \n",
    "    while idx < len(rpn_script):\n",
    "        if rpn_script[idx] in operator_dict:\n",
    "            num_1 = int(rpn_script[idx - 2])\n",
    "            num_2 = int(rpn_script[idx - 1])\n",
    "\n",
    "            res = operator_dict[rpn_script[idx]](num_1, num_2)\n",
    "\n",
    "            rpn_script[idx] = res\n",
    "            rpn_script = rpn_script[idx:]\n",
    "            idx = 0\n",
    "        else:\n",
    "            idx += 1\n",
    "\n",
    "    return res\n",
    "\n",
    "\n",
    "RPN_interpreter('3 4 + 5 * 2 /')    # same as ((3 + 4) * 5) / 2"
   ]
  }
 ],
 "metadata": {
  "kernelspec": {
   "display_name": "Python 3",
   "language": "python",
   "name": "python3"
  },
  "language_info": {
   "codemirror_mode": {
    "name": "ipython",
    "version": 3
   },
   "file_extension": ".py",
   "mimetype": "text/x-python",
   "name": "python",
   "nbconvert_exporter": "python",
   "pygments_lexer": "ipython3",
   "version": "3.10.2"
  },
  "vscode": {
   "interpreter": {
    "hash": "2469a70536e4d2335a2ea8907942d0699c37342a371ac185bdb5b0aa6f073890"
   }
  }
 },
 "nbformat": 4,
 "nbformat_minor": 4
}
