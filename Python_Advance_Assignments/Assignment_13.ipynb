{
 "cells": [
  {
   "attachments": {},
   "cell_type": "markdown",
   "metadata": {},
   "source": [
    "# Python Assignment 13"
   ]
  },
  {
   "cell_type": "markdown",
   "metadata": {},
   "source": [
    "### Answer 1"
   ]
  },
  {
   "attachments": {},
   "cell_type": "markdown",
   "metadata": {},
   "source": [
    "Yes we can create a programme that emolys both positive and negitive indexing but the built-in python object like `list, tuple, sets, arrays ...` already handles both positive and negitive indexing I think this does not make any repercussion on these objects."
   ]
  },
  {
   "cell_type": "markdown",
   "metadata": {},
   "source": [
    "### Answer 2"
   ]
  },
  {
   "attachments": {},
   "cell_type": "markdown",
   "metadata": {},
   "source": [
    "Some method to create a list of 1000 element where all the elements are same."
   ]
  },
  {
   "cell_type": "code",
   "execution_count": 1,
   "metadata": {},
   "outputs": [],
   "source": [
    "# first method\n",
    "List = [1] * 1000\n",
    "\n",
    "# second method \n",
    "List = [1 for i in range(1000)]\n",
    "\n",
    "# third method\n",
    "from itertools import repeat\n",
    "List = list(repeat(1, 1000))"
   ]
  },
  {
   "cell_type": "markdown",
   "metadata": {},
   "source": [
    "### Answer 3"
   ]
  },
  {
   "attachments": {},
   "cell_type": "markdown",
   "metadata": {},
   "source": [
    "We can give the third argument inside slicing that is step size by which we can get step over value that we don't need."
   ]
  },
  {
   "cell_type": "code",
   "execution_count": 2,
   "metadata": {},
   "outputs": [
    {
     "data": {
      "text/plain": [
       "[2, 4, 6, 8]"
      ]
     },
     "execution_count": 2,
     "metadata": {},
     "output_type": "execute_result"
    }
   ],
   "source": [
    "List = [1, 2, 3, 4, 5, 6, 7, 8, 9]\n",
    "\n",
    "# accessing only 2, 4, 6, 8\n",
    "\n",
    "List[1:-1:2]"
   ]
  },
  {
   "cell_type": "markdown",
   "metadata": {},
   "source": [
    "### Answer 4"
   ]
  },
  {
   "attachments": {},
   "cell_type": "markdown",
   "metadata": {},
   "source": [
    "Both indexing and slicing only takes integers only, indexing give a `IndexError` if the integer is out of range, while in slicing if the number is out of range the slicing replace it with either 0 or last index of object."
   ]
  },
  {
   "cell_type": "markdown",
   "metadata": {},
   "source": [
    "### Answer 5"
   ]
  },
  {
   "attachments": {},
   "cell_type": "markdown",
   "metadata": {},
   "source": [
    "If one of the slicing expression is out of range then it automatically replace it with either 0 or last index of list."
   ]
  },
  {
   "cell_type": "code",
   "execution_count": 3,
   "metadata": {},
   "outputs": [
    {
     "name": "stdout",
     "output_type": "stream",
     "text": [
      "[2, 3, 4, 5, 6]\n",
      "[1, 2, 3, 4, 5, 6]\n"
     ]
    }
   ],
   "source": [
    "List = [1, 2, 3, 4, 5, 6]\n",
    "\n",
    "print(List[1 : 100])                     # end slicing is out of range\n",
    "print(List[-100 : 100])                  # both start and end are out of range"
   ]
  },
  {
   "cell_type": "markdown",
   "metadata": {},
   "source": [
    "### Answer 6"
   ]
  },
  {
   "attachments": {},
   "cell_type": "markdown",
   "metadata": {},
   "source": [
    "We should not use assignment operation on original List otherwise changes does'nt reflect to the original list, we have to use list method."
   ]
  },
  {
   "cell_type": "code",
   "execution_count": 4,
   "metadata": {},
   "outputs": [
    {
     "name": "stdout",
     "output_type": "stream",
     "text": [
      "[2, 3, 4, 5, 6, 7, 8, 99, 10, 11]\n",
      "[2, 3, 4, 5, 6, 7, 8, 10, 11]\n"
     ]
    }
   ],
   "source": [
    "# A function that changes the element of a original List without returning anything.\n",
    "\n",
    "def list_element_remover(List: list, value: 'Any') -> None:\n",
    "\n",
    "    '''Removes all occurance of an  element from the Original List, if value is not present it raise ValueError'''\n",
    "\n",
    "    _ = [item for item in List if item != value]\n",
    "\n",
    "    if _ == List:\n",
    "        raise ValueError('Value is not present in list.')\n",
    "\n",
    "    List.clear()\n",
    "    List.extend(_)\n",
    "    \n",
    "\n",
    "myList = [2, 3, 4, 5, 6, 7, 8, 99, 10, 11]\n",
    "print(myList)\n",
    "list_element_remover(myList, 99)\n",
    "print(myList)"
   ]
  },
  {
   "cell_type": "markdown",
   "metadata": {},
   "source": [
    "### Answer 7"
   ]
  },
  {
   "attachments": {},
   "cell_type": "markdown",
   "metadata": {},
   "source": [
    "A unbalanced matrix if all cells in the matrix are unbalanced and a cell of the matrix is unbalanced if the number of cells in that matrix that are adjacent to that cell is smaller than the value written in this cell. Adjacent cell means cells in the top, down, left, and right cell of each cell if it exists.         "
   ]
  },
  {
   "cell_type": "markdown",
   "metadata": {},
   "source": [
    "### Answer 8"
   ]
  },
  {
   "attachments": {},
   "cell_type": "markdown",
   "metadata": {},
   "source": [
    "Using list comprehension and loops for making matrices is very efficient, Specially list comprehension are very fast and efficient than traditional `for` loops."
   ]
  },
  {
   "cell_type": "code",
   "execution_count": 5,
   "metadata": {},
   "outputs": [
    {
     "data": {
      "text/plain": [
       "[[26, 84, 56, 81, 92],\n",
       " [33, 46, 61, 69, 81],\n",
       " [88, 71, 47, 63, 56],\n",
       " [34, 36, 54, 23, 30],\n",
       " [99, 89, 88, 57, 29]]"
      ]
     },
     "execution_count": 5,
     "metadata": {},
     "output_type": "execute_result"
    }
   ],
   "source": [
    "from random import randint\n",
    "\n",
    "# a 5 by 5 matrix of random numbers\n",
    "[[randint(10, 99) for i in range(5)] for i in range(5)]"
   ]
  }
 ],
 "metadata": {
  "kernelspec": {
   "display_name": "Python 3",
   "language": "python",
   "name": "python3"
  },
  "language_info": {
   "codemirror_mode": {
    "name": "ipython",
    "version": 3
   },
   "file_extension": ".py",
   "mimetype": "text/x-python",
   "name": "python",
   "nbconvert_exporter": "python",
   "pygments_lexer": "ipython3",
   "version": "3.10.2"
  },
  "vscode": {
   "interpreter": {
    "hash": "2469a70536e4d2335a2ea8907942d0699c37342a371ac185bdb5b0aa6f073890"
   }
  }
 },
 "nbformat": 4,
 "nbformat_minor": 4
}
