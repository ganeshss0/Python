{
 "cells": [
  {
   "attachments": {},
   "cell_type": "markdown",
   "metadata": {},
   "source": [
    "# Python Assignment 12"
   ]
  },
  {
   "cell_type": "markdown",
   "metadata": {},
   "source": [
    "### Answer 1"
   ]
  },
  {
   "attachments": {},
   "cell_type": "markdown",
   "metadata": {},
   "source": [
    "Yes assigning a value to a string's indexed character violate the string imutability, Python strings are immutable in nature. If we change the indexed character then it raises `TypeError`."
   ]
  },
  {
   "cell_type": "code",
   "execution_count": 1,
   "metadata": {},
   "outputs": [
    {
     "ename": "TypeError",
     "evalue": "'str' object does not support item assignment",
     "output_type": "error",
     "traceback": [
      "\u001b[1;31m---------------------------------------------------------------------------\u001b[0m",
      "\u001b[1;31mTypeError\u001b[0m                                 Traceback (most recent call last)",
      "\u001b[1;32md:\\Full_Stack_Data_Science\\Python_Advance\\Assignment_12.ipynb Cell 4\u001b[0m in \u001b[0;36m<module>\u001b[1;34m\u001b[0m\n\u001b[0;32m      <a href='vscode-notebook-cell:/d%3A/Full_Stack_Data_Science/Python_Advance/Assignment_12.ipynb#W3sZmlsZQ%3D%3D?line=0'>1</a>\u001b[0m myString \u001b[39m=\u001b[39m \u001b[39m'\u001b[39m\u001b[39mThis is very nice.\u001b[39m\u001b[39m'\u001b[39m\n\u001b[1;32m----> <a href='vscode-notebook-cell:/d%3A/Full_Stack_Data_Science/Python_Advance/Assignment_12.ipynb#W3sZmlsZQ%3D%3D?line=1'>2</a>\u001b[0m myString[\u001b[39m2\u001b[39m] \u001b[39m=\u001b[39m \u001b[39m'\u001b[39m\u001b[39mI\u001b[39m\u001b[39m'\u001b[39m\n",
      "\u001b[1;31mTypeError\u001b[0m: 'str' object does not support item assignment"
     ]
    }
   ],
   "source": [
    "myString = 'This is very nice.'\n",
    "myString[2] = 'I'                            # raise TypeError"
   ]
  },
  {
   "cell_type": "markdown",
   "metadata": {},
   "source": [
    "### Answer 2"
   ]
  },
  {
   "attachments": {},
   "cell_type": "markdown",
   "metadata": {},
   "source": [
    "The `+=` operator does not violate the Python's string imutability because it does not change the original but gives a new string that is assigned to original variable."
   ]
  },
  {
   "cell_type": "code",
   "execution_count": 2,
   "metadata": {},
   "outputs": [
    {
     "name": "stdout",
     "output_type": "stream",
     "text": [
      "Is myString and Copy same: True\n",
      "Is myString and Copy same: False\n"
     ]
    }
   ],
   "source": [
    "myString = 'This is very '\n",
    "Copy = myString\n",
    "print('Is myString and Copy same:', Copy is myString)\n",
    "\n",
    "\n",
    "myString += 'nice.'\n",
    "\n",
    "# The above statement is same as below\n",
    "# myString = myString + 'nice.'  \n",
    "                         \n",
    "print('Is myString and Copy same:', Copy is myString)"
   ]
  },
  {
   "cell_type": "markdown",
   "metadata": {},
   "source": [
    "### Answer 3"
   ]
  },
  {
   "attachments": {},
   "cell_type": "markdown",
   "metadata": {},
   "source": [
    "There are two ways that I know by which we can access the character from a string by index."
   ]
  },
  {
   "cell_type": "code",
   "execution_count": 3,
   "metadata": {},
   "outputs": [
    {
     "name": "stdout",
     "output_type": "stream",
     "text": [
      "Characte at index 3: s\n",
      "Character at index 3: s\n"
     ]
    }
   ],
   "source": [
    "myString = 'This is very nice.'\n",
    "print('Characte at index 3:',myString[3])\n",
    "print('Character at index 3:', myString.__getitem__(3))"
   ]
  },
  {
   "cell_type": "markdown",
   "metadata": {},
   "source": [
    "### Answer 4"
   ]
  },
  {
   "attachments": {},
   "cell_type": "markdown",
   "metadata": {},
   "source": [
    "Both indexing and slicing only support integers. Both are created from created from operator overloading method `__getitem__` and `__setitem__`."
   ]
  },
  {
   "cell_type": "code",
   "execution_count": 4,
   "metadata": {},
   "outputs": [
    {
     "name": "stdout",
     "output_type": "stream",
     "text": [
      "Indexing: s\n",
      "Slicing: s is \n"
     ]
    }
   ],
   "source": [
    "myString = 'This is very nice.'\n",
    "\n",
    "print('Indexing:', myString[3])                                  # indexing only access one character\n",
    "print('Slicing:', myString[3:8])                                # slicing can access a substring of length 0 to length of string"
   ]
  },
  {
   "cell_type": "markdown",
   "metadata": {},
   "source": [
    "### Answer 5"
   ]
  },
  {
   "attachments": {},
   "cell_type": "markdown",
   "metadata": {},
   "source": [
    "Both indexed character and sliced substring have a `type: <class 'str'>`."
   ]
  },
  {
   "cell_type": "code",
   "execution_count": 5,
   "metadata": {},
   "outputs": [
    {
     "name": "stdout",
     "output_type": "stream",
     "text": [
      "Type of indexed character: <class 'str'>\n",
      "Type of sliced substring: <class 'str'>\n"
     ]
    }
   ],
   "source": [
    "myString = 'This is very nice.'\n",
    "print('Type of indexed character:', type(myString[3]))\n",
    "print('Type of sliced substring:', type(myString[3:5]))"
   ]
  },
  {
   "cell_type": "markdown",
   "metadata": {},
   "source": [
    "### Answer 6"
   ]
  },
  {
   "attachments": {},
   "cell_type": "markdown",
   "metadata": {},
   "source": [
    "String is a list of character. Both share a common type `<class 'str'>`."
   ]
  },
  {
   "cell_type": "code",
   "execution_count": 6,
   "metadata": {},
   "outputs": [
    {
     "name": "stdout",
     "output_type": "stream",
     "text": [
      "Character: s\n",
      "String: ssssssssss\n"
     ]
    }
   ],
   "source": [
    "Character = 's'\n",
    "String = Character * 10\n",
    "print('Character:', Character)\n",
    "print('String:', String)"
   ]
  },
  {
   "cell_type": "markdown",
   "metadata": {},
   "source": [
    "### Answer 7"
   ]
  },
  {
   "attachments": {},
   "cell_type": "markdown",
   "metadata": {},
   "source": [
    "Two operator and one method that convert small substring into a large string."
   ]
  },
  {
   "cell_type": "code",
   "execution_count": 7,
   "metadata": {},
   "outputs": [
    {
     "data": {
      "text/plain": [
       "'small string is very small'"
      ]
     },
     "execution_count": 7,
     "metadata": {},
     "output_type": "execute_result"
    }
   ],
   "source": [
    "# using the addition operator\n",
    "\n",
    "'small' + ' string' + ' is very small'"
   ]
  },
  {
   "cell_type": "code",
   "execution_count": 8,
   "metadata": {},
   "outputs": [
    {
     "data": {
      "text/plain": [
       "'small string small string small string '"
      ]
     },
     "execution_count": 8,
     "metadata": {},
     "output_type": "execute_result"
    }
   ],
   "source": [
    "# using the multiplication operator\n",
    "\n",
    "'small string ' * 3"
   ]
  },
  {
   "cell_type": "code",
   "execution_count": 9,
   "metadata": {},
   "outputs": [
    {
     "data": {
      "text/plain": [
       "'s_big_m_big_a_big_l_big_l_big_ _big_s_big_t_big_r_big_i_big_n_big_g'"
      ]
     },
     "execution_count": 9,
     "metadata": {},
     "output_type": "execute_result"
    }
   ],
   "source": [
    "# using the join method\n",
    "\n",
    "'_big_'.join('small string')"
   ]
  },
  {
   "cell_type": "markdown",
   "metadata": {},
   "source": [
    "### Answer 8"
   ]
  },
  {
   "attachments": {},
   "cell_type": "markdown",
   "metadata": {},
   "source": [
    "The benifit of using the in or not in method before using the index method is if the substring is not present in the string we get a `ValueError` saying 'substring not found'."
   ]
  },
  {
   "cell_type": "code",
   "execution_count": 10,
   "metadata": {},
   "outputs": [
    {
     "ename": "ValueError",
     "evalue": "substring not found",
     "output_type": "error",
     "traceback": [
      "\u001b[1;31m---------------------------------------------------------------------------\u001b[0m",
      "\u001b[1;31mValueError\u001b[0m                                Traceback (most recent call last)",
      "\u001b[1;32md:\\Full_Stack_Data_Science\\Python_Advance\\Assignment_12.ipynb Cell 27\u001b[0m in \u001b[0;36m<module>\u001b[1;34m\u001b[0m\n\u001b[0;32m      <a href='vscode-notebook-cell:/d%3A/Full_Stack_Data_Science/Python_Advance/Assignment_12.ipynb#X34sZmlsZQ%3D%3D?line=0'>1</a>\u001b[0m \u001b[39m# without using in method\u001b[39;00m\n\u001b[0;32m      <a href='vscode-notebook-cell:/d%3A/Full_Stack_Data_Science/Python_Advance/Assignment_12.ipynb#X34sZmlsZQ%3D%3D?line=2'>3</a>\u001b[0m char \u001b[39m=\u001b[39m \u001b[39m'\u001b[39m\u001b[39mz\u001b[39m\u001b[39m'\u001b[39m\n\u001b[1;32m----> <a href='vscode-notebook-cell:/d%3A/Full_Stack_Data_Science/Python_Advance/Assignment_12.ipynb#X34sZmlsZQ%3D%3D?line=3'>4</a>\u001b[0m myString\u001b[39m.\u001b[39;49mindex(char)\n",
      "\u001b[1;31mValueError\u001b[0m: substring not found"
     ]
    }
   ],
   "source": [
    "# without using in method\n",
    "\n",
    "char = 'z'\n",
    "myString.index(char)                             # raise ValueError: substring not found"
   ]
  },
  {
   "cell_type": "code",
   "execution_count": 11,
   "metadata": {},
   "outputs": [
    {
     "name": "stdout",
     "output_type": "stream",
     "text": [
      "False\n"
     ]
    }
   ],
   "source": [
    "# using in method\n",
    "\n",
    "char = 'z'\n",
    "if char in myString:\n",
    "    myString.index(char)\n",
    "else:\n",
    "    print(False)"
   ]
  },
  {
   "cell_type": "markdown",
   "metadata": {},
   "source": [
    "### Answer 9"
   ]
  },
  {
   "attachments": {},
   "cell_type": "markdown",
   "metadata": {},
   "source": [
    "There are some operator overloading method which returns the boolean result. These operator are:<br />\n",
    "1. `__eq__` : equals to\n",
    "2. `__ne__` : not equals to\n",
    "3. `__lt__` : less than\n",
    "4. `__gt__` : greater than\n",
    "5. `__le__` : less than and equal to\n",
    "6. `__ge__` : greater than and equal to"
   ]
  }
 ],
 "metadata": {
  "kernelspec": {
   "display_name": "Python 3",
   "language": "python",
   "name": "python3"
  },
  "language_info": {
   "codemirror_mode": {
    "name": "ipython",
    "version": 3
   },
   "file_extension": ".py",
   "mimetype": "text/x-python",
   "name": "python",
   "nbconvert_exporter": "python",
   "pygments_lexer": "ipython3",
   "version": "3.10.2 (tags/v3.10.2:a58ebcc, Jan 17 2022, 14:12:15) [MSC v.1929 64 bit (AMD64)]"
  },
  "vscode": {
   "interpreter": {
    "hash": "2469a70536e4d2335a2ea8907942d0699c37342a371ac185bdb5b0aa6f073890"
   }
  }
 },
 "nbformat": 4,
 "nbformat_minor": 4
}
