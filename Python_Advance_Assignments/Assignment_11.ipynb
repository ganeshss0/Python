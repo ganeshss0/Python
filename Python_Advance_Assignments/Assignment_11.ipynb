{
 "cells": [
  {
   "attachments": {},
   "cell_type": "markdown",
   "metadata": {},
   "source": [
    "# Python Assignment 11"
   ]
  },
  {
   "cell_type": "markdown",
   "metadata": {},
   "source": [
    "### Answer 1"
   ]
  },
  {
   "attachments": {},
   "cell_type": "markdown",
   "metadata": {},
   "source": [
    "MetaClass are used to impose rules on python classes and also metaclasses are used to create class. Classes are a instance of `type` class, MetaClasses are subclasses of the `type` class, these usually consist of `__new__` and `__init__` method which create a new class object."
   ]
  },
  {
   "cell_type": "markdown",
   "metadata": {},
   "source": [
    "### Answer 2"
   ]
  },
  {
   "attachments": {},
   "cell_type": "markdown",
   "metadata": {},
   "source": [
    "We can create a metaclass by using the `metaclass` keyword argument in the class: `class myClass(superClass, metaclass = MetaClass)`."
   ]
  },
  {
   "cell_type": "markdown",
   "metadata": {},
   "source": [
    "### Answer 3"
   ]
  },
  {
   "attachments": {},
   "cell_type": "markdown",
   "metadata": {},
   "source": [
    "Metaclasses and class decorator are called automatically at the end of class statement. Decorator rebind a class name to a callable's result and metaclass route class creation through callable."
   ]
  },
  {
   "cell_type": "code",
   "execution_count": 1,
   "metadata": {},
   "outputs": [],
   "source": [
    "class MetaClass(type):\n",
    "    def __call__(cls):\n",
    "        cls.price = cls.rice + cls.onion\n",
    "\n",
    "class newChild(metaclass = MetaClass):\n",
    "    rice = 12\n",
    "    onion = 13\n",
    "    @classmethod\n",
    "    def get_price(cls):\n",
    "        return cls.price"
   ]
  },
  {
   "cell_type": "code",
   "execution_count": 2,
   "metadata": {},
   "outputs": [
    {
     "data": {
      "text/plain": [
       "25"
      ]
     },
     "execution_count": 2,
     "metadata": {},
     "output_type": "execute_result"
    }
   ],
   "source": [
    "newChild()\n",
    "newChild.get_price()"
   ]
  },
  {
   "cell_type": "markdown",
   "metadata": {},
   "source": [
    "### Answer 4"
   ]
  },
  {
   "attachments": {},
   "cell_type": "markdown",
   "metadata": {},
   "source": [
    "Both decorators and metaclasses are called automatically at the end of class statement, both class decorators and metaclasses to manage class instance, by creating a wrapper object that catch creation calls. Decorator may rebind the class name to a callable run on instance creation that reatins the original class object."
   ]
  },
  {
   "cell_type": "code",
   "execution_count": 3,
   "metadata": {},
   "outputs": [
    {
     "name": "stdout",
     "output_type": "stream",
     "text": [
      "MetaClass:  <class '__main__.MyMetaClass'>\n",
      "Class Name:  newChild\n",
      "Super Classes:  ()\n",
      "Attributes:  {'__module__': '__main__', '__qualname__': 'newChild', '__init__': <function newChild.__init__ at 0x000002D2F1AFDF30>, 'call_me': <classmethod(<function newChild.call_me at 0x000002D2F1AFDFC0>)>, 'some_method': <function newChild.some_method at 0x000002D2F1AFE050>}\n"
     ]
    }
   ],
   "source": [
    "class MyMetaClass(type):\n",
    "    def __new__(cls, clsName, superclasses, attrDict):\n",
    "        print('MetaClass: ', cls)\n",
    "        print('Class Name: ', clsName)\n",
    "        print('Super Classes: ', superclasses)\n",
    "        print('Attributes: ', attrDict)\n",
    "        return super(MyMetaClass, cls).__new__(cls, clsName, superclasses, attrDict)\n",
    "\n",
    "class newChild(metaclass = MyMetaClass):\n",
    "    def __init__(self) -> None:\n",
    "        print('I am a child')\n",
    "\n",
    "    @classmethod\n",
    "    def call_me(cls):\n",
    "        print(cls.__mro__)\n",
    "    \n",
    "    def some_method(self, data):\n",
    "        return data ** 2"
   ]
  },
  {
   "cell_type": "code",
   "execution_count": 4,
   "metadata": {},
   "outputs": [
    {
     "name": "stdout",
     "output_type": "stream",
     "text": [
      "I am a child\n",
      "(<class '__main__.newChild'>, <class 'object'>)\n"
     ]
    },
    {
     "data": {
      "text/plain": [
       "100"
      ]
     },
     "execution_count": 4,
     "metadata": {},
     "output_type": "execute_result"
    }
   ],
   "source": [
    "myChild = newChild()\n",
    "myChild.call_me()\n",
    "myChild.some_method(10)"
   ]
  }
 ],
 "metadata": {
  "kernelspec": {
   "display_name": "Python 3",
   "language": "python",
   "name": "python3"
  },
  "language_info": {
   "codemirror_mode": {
    "name": "ipython",
    "version": 3
   },
   "file_extension": ".py",
   "mimetype": "text/x-python",
   "name": "python",
   "nbconvert_exporter": "python",
   "pygments_lexer": "ipython3",
   "version": "3.10.2"
  },
  "vscode": {
   "interpreter": {
    "hash": "2469a70536e4d2335a2ea8907942d0699c37342a371ac185bdb5b0aa6f073890"
   }
  }
 },
 "nbformat": 4,
 "nbformat_minor": 4
}
