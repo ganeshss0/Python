{
 "cells": [
  {
   "attachments": {},
   "cell_type": "markdown",
   "metadata": {},
   "source": [
    "# Python Assignment 20"
   ]
  },
  {
   "attachments": {},
   "cell_type": "markdown",
   "metadata": {},
   "source": [
    "1. Compare and contrast the float and Decimal classes&#39; benefits and drawbacks."
   ]
  },
  {
   "cell_type": "markdown",
   "metadata": {},
   "source": [
    "### Answer 1"
   ]
  },
  {
   "cell_type": "markdown",
   "metadata": {},
   "source": [
    "Benifits and Drawback of Float and Decimal Class\n",
    "1. Floating point number are Faster than Decimal.\n",
    "2. Floating point number used less memory than Decimal object.\n",
    "3. Decimal object are very accurate number than Floating numbers.\n",
    "4. Floating point number have limited precision, the precision of `float` is around 15 decimal place."
   ]
  },
  {
   "cell_type": "markdown",
   "metadata": {},
   "source": [
    "### Answer 2"
   ]
  },
  {
   "cell_type": "markdown",
   "metadata": {},
   "source": [
    "`Deciaml('1.2')` and `Deciaml('1.200')` both represents same value but the string `'1.2'` and `'1.200'` used here is different so the corresponding internal state is different."
   ]
  },
  {
   "cell_type": "code",
   "execution_count": 1,
   "metadata": {},
   "outputs": [
    {
     "name": "stdout",
     "output_type": "stream",
     "text": [
      "DecimalTuple(sign=0, digits=(1, 2), exponent=-1)\n",
      "DecimalTuple(sign=0, digits=(1, 2, 0, 0), exponent=-3)\n"
     ]
    }
   ],
   "source": [
    "from decimal import Decimal\n",
    "\n",
    "a = Decimal('1.2')\n",
    "b = Decimal('1.200')\n",
    "\n",
    "# both are different in internal state\n",
    "print(a.as_tuple())\n",
    "print(b.as_tuple())"
   ]
  },
  {
   "cell_type": "markdown",
   "metadata": {},
   "source": [
    "### Answer 3"
   ]
  },
  {
   "cell_type": "markdown",
   "metadata": {},
   "source": [
    "Both values represent same value then using `==` on both values return `True`."
   ]
  },
  {
   "cell_type": "code",
   "execution_count": 2,
   "metadata": {},
   "outputs": [
    {
     "data": {
      "text/plain": [
       "True"
      ]
     },
     "execution_count": 2,
     "metadata": {},
     "output_type": "execute_result"
    }
   ],
   "source": [
    "from decimal import Decimal\n",
    "\n",
    "Decimal('1.2') == Decimal('1.200')"
   ]
  },
  {
   "cell_type": "markdown",
   "metadata": {},
   "source": [
    "### Answer 4"
   ]
  },
  {
   "cell_type": "markdown",
   "metadata": {},
   "source": [
    "Python floating point number are not exact representation of the number but they are approximate values so any operation on floating point number would give a approximate value instead of exact value. So it is better to write floating point number in `Decimal` in string format."
   ]
  },
  {
   "cell_type": "markdown",
   "metadata": {},
   "source": [
    "### Answer 5"
   ]
  },
  {
   "cell_type": "markdown",
   "metadata": {},
   "source": [
    "Arithmetic operation between  `decimal` object and `int` object does not create any kind of problem, `decimal` object support built-in arithmetic operation that are applicable on `int` object."
   ]
  },
  {
   "cell_type": "code",
   "execution_count": 3,
   "metadata": {},
   "outputs": [
    {
     "name": "stdout",
     "output_type": "stream",
     "text": [
      "2.3\n",
      "-1.25\n",
      "6.2\n",
      "1.428571428571428571428571429\n"
     ]
    }
   ],
   "source": [
    "from decimal import Decimal\n",
    "\n",
    "print(Decimal('1.3') + 1)                      # it is giving exact value\n",
    "print(1 - Decimal('2.25'))                     # right side opeation\n",
    "print(2 * Decimal('3.1'))                      # multiplcation\n",
    "print(4 / Decimal('2.8'))                      # division"
   ]
  },
  {
   "cell_type": "markdown",
   "metadata": {},
   "source": [
    "### Answer 6"
   ]
  },
  {
   "cell_type": "markdown",
   "metadata": {},
   "source": [
    "No floating point number and Decimal object does not combine easily it Would end up a `TypeError` because we have to convert the floating point number into a Decimal object in order to do operation."
   ]
  },
  {
   "cell_type": "code",
   "execution_count": 4,
   "metadata": {},
   "outputs": [
    {
     "ename": "TypeError",
     "evalue": "unsupported operand type(s) for -: 'decimal.Decimal' and 'float'",
     "output_type": "error",
     "traceback": [
      "\u001b[0;31m---------------------------------------------------------------------------\u001b[0m",
      "\u001b[0;31mTypeError\u001b[0m                                 Traceback (most recent call last)",
      "Cell \u001b[0;32mIn[4], line 3\u001b[0m\n\u001b[1;32m      1\u001b[0m \u001b[38;5;28;01mfrom\u001b[39;00m \u001b[38;5;21;01mdecimal\u001b[39;00m \u001b[38;5;28;01mimport\u001b[39;00m Decimal\n\u001b[0;32m----> 3\u001b[0m \u001b[43mDecimal\u001b[49m\u001b[43m(\u001b[49m\u001b[38;5;124;43m'\u001b[39;49m\u001b[38;5;124;43m1.3\u001b[39;49m\u001b[38;5;124;43m'\u001b[39;49m\u001b[43m)\u001b[49m\u001b[43m \u001b[49m\u001b[38;5;241;43m-\u001b[39;49m\u001b[43m \u001b[49m\u001b[38;5;241;43m1.2\u001b[39;49m                                \u001b[38;5;66;03m# it raise a TypeError as floating point is not supported\u001b[39;00m\n",
      "\u001b[0;31mTypeError\u001b[0m: unsupported operand type(s) for -: 'decimal.Decimal' and 'float'"
     ]
    }
   ],
   "source": [
    "from decimal import Decimal\n",
    "\n",
    "Decimal('1.3') - 1.2                                # it raise a TypeError as floating point is not supported"
   ]
  },
  {
   "cell_type": "code",
   "execution_count": 5,
   "metadata": {},
   "outputs": [
    {
     "data": {
      "text/plain": [
       "Decimal('0.1')"
      ]
     },
     "execution_count": 5,
     "metadata": {},
     "output_type": "execute_result"
    }
   ],
   "source": [
    "Decimal('1.3') - Decimal('1.2')                    # converting floating point into decimal object"
   ]
  },
  {
   "cell_type": "markdown",
   "metadata": {},
   "source": [
    "### Answer 7"
   ]
  },
  {
   "cell_type": "markdown",
   "metadata": {},
   "source": [
    "Here is the Fractional represention of PI."
   ]
  },
  {
   "cell_type": "code",
   "execution_count": 6,
   "metadata": {},
   "outputs": [
    {
     "name": "stdout",
     "output_type": "stream",
     "text": [
      "value of pi 3.141592653589793\n",
      "fractional representation of pi 884279719003555/281474976710656\n"
     ]
    }
   ],
   "source": [
    "from fractions import Fraction\n",
    "from math import pi\n",
    "\n",
    "print('value of pi', pi)\n",
    "\n",
    "frac = Fraction(pi)#.limit_denominator(1000)\n",
    "print('fractional representation of pi', frac)"
   ]
  },
  {
   "cell_type": "markdown",
   "metadata": {},
   "source": [
    "### Answer 8"
   ]
  },
  {
   "cell_type": "markdown",
   "metadata": {},
   "source": [
    "The python floating point number is not exact representation of the actual value but instead it is approximate representation of the number while `decimal` and `fractions` object are the actual representation of the number with proper precision."
   ]
  },
  {
   "cell_type": "code",
   "execution_count": 7,
   "metadata": {},
   "outputs": [
    {
     "data": {
      "text/plain": [
       "0.30000000000000004"
      ]
     },
     "execution_count": 7,
     "metadata": {},
     "output_type": "execute_result"
    }
   ],
   "source": [
    "#here is an example that number that can't be expressed in floating point number\n",
    "1.3 - 1                                   # this expression does not give 0.3 but it return an approximate value"
   ]
  },
  {
   "cell_type": "code",
   "execution_count": 8,
   "metadata": {},
   "outputs": [
    {
     "name": "stdout",
     "output_type": "stream",
     "text": [
      "From decimal 0.3\n",
      "From fractions 3/10\n"
     ]
    }
   ],
   "source": [
    "# fractions and decimal can  handle these situation better\n",
    "import decimal, fractions\n",
    "\n",
    "dec = decimal.Decimal('1.3')\n",
    "frac = fractions.Fraction(dec)\n",
    "\n",
    "print('From decimal', dec - 1)\n",
    "print('From fractions', frac - 1)"
   ]
  },
  {
   "cell_type": "markdown",
   "metadata": {},
   "source": [
    "### Answer 9"
   ]
  },
  {
   "cell_type": "markdown",
   "metadata": {},
   "source": [
    "Yes, the internal state of `Fraction(1, 2)` and `Fraction(5, 10)` is same, because the the `fractions` object would break bigger number into smallest possible number so the `Fraction(5, 10)` would be represent as `Fraction(1, 2)` internally."
   ]
  },
  {
   "cell_type": "code",
   "execution_count": 9,
   "metadata": {},
   "outputs": [
    {
     "name": "stdout",
     "output_type": "stream",
     "text": [
      "True\n",
      "1/2\n"
     ]
    }
   ],
   "source": [
    "print(Fraction(1, 2) == Fraction(5, 10))                   # return True as both object represent same value\n",
    "print(Fraction(5, 10))                                     # this would return 1/2"
   ]
  },
  {
   "cell_type": "markdown",
   "metadata": {},
   "source": [
    "### Answer 10"
   ]
  },
  {
   "cell_type": "markdown",
   "metadata": {},
   "source": [
    "the fractions module provides support for rational number arithmetic, The Fraction class in the fractions module represents a rational number as a fraction. Both `fractions` class and `int` object support all type of arithmetic operation on each other."
   ]
  },
  {
   "cell_type": "code",
   "execution_count": 10,
   "metadata": {},
   "outputs": [
    {
     "name": "stdout",
     "output_type": "stream",
     "text": [
      "Addition 17/4\n",
      "Subtraction -1/4\n",
      "Multiplition 9/2\n",
      "Division 8/9\n"
     ]
    }
   ],
   "source": [
    "from fractions import Fraction\n",
    "\n",
    "a = 2\n",
    "b = Fraction('2.25')\n",
    "\n",
    "print('Addition', a + b)\n",
    "print('Subtraction', a - b)\n",
    "print('Multiplition', a * b)\n",
    "print('Division', a / b)"
   ]
  }
 ],
 "metadata": {
  "kernelspec": {
   "display_name": "Python 3.8.10 64-bit",
   "language": "python",
   "name": "python3"
  },
  "language_info": {
   "codemirror_mode": {
    "name": "ipython",
    "version": 3
   },
   "file_extension": ".py",
   "mimetype": "text/x-python",
   "name": "python",
   "nbconvert_exporter": "python",
   "pygments_lexer": "ipython3",
   "version": "3.8.10"
  },
  "vscode": {
   "interpreter": {
    "hash": "e7370f93d1d0cde622a1f8e1c04877d8463912d04d973331ad4851f04de6915a"
   }
  }
 },
 "nbformat": 4,
 "nbformat_minor": 4
}
