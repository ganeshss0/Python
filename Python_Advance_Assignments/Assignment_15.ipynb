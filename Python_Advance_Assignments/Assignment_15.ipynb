{
 "cells": [
  {
   "attachments": {},
   "cell_type": "markdown",
   "metadata": {},
   "source": [
    "# Python Assignment 15"
   ]
  },
  {
   "cell_type": "markdown",
   "metadata": {},
   "source": [
    "### Answer 1"
   ]
  },
  {
   "attachments": {},
   "cell_type": "markdown",
   "metadata": {},
   "source": [
    "1. The walrus operator `:=` \n",
    "2. Positional only parameters\n",
    "```\n",
    "    def func(m, n, \\, o, p, *, q, r):\n",
    "        # here m, n are positional o, p can be keyword or positional while q, r are keyword arguments\n",
    "        print(m, n, o, p, q, r)\n",
    "```\n",
    "3. f-strings support `=` for self-documenting expressions and debugging\n",
    "\n",
    "These are main features that I thought important while there are too many major and minor new features in python 3.8"
   ]
  },
  {
   "cell_type": "code",
   "execution_count": 1,
   "metadata": {},
   "outputs": [
    {
     "name": "stdout",
     "output_type": "stream",
     "text": [
      "nice name\n",
      "name = 'nice name'\n"
     ]
    }
   ],
   "source": [
    "name = 'nice name'\n",
    "print(f'{name}')\n",
    "print(f'{name = }')                                  # new '=' feature"
   ]
  },
  {
   "cell_type": "markdown",
   "metadata": {},
   "source": [
    "### Answer 2"
   ]
  },
  {
   "attachments": {},
   "cell_type": "markdown",
   "metadata": {},
   "source": [
    "The monkey patching refers to the dynamic modification of class and modules during runtime."
   ]
  },
  {
   "cell_type": "code",
   "execution_count": 2,
   "metadata": {},
   "outputs": [
    {
     "name": "stdout",
     "output_type": "stream",
     "text": [
      "I am monkey 2\n"
     ]
    }
   ],
   "source": [
    "class A:\n",
    "    def method_1(self):\n",
    "        print('I am method 1')\n",
    "\n",
    "super_monkey = A()\n",
    "\n",
    "def method_2():\n",
    "    print('I am monkey 2')\n",
    "\n",
    "super_monkey.method_1 = method_2                                         # updating the method_1 of class A\n",
    "\n",
    "super_monkey.method_1()"
   ]
  },
  {
   "cell_type": "markdown",
   "metadata": {},
   "source": [
    "### Answer 3"
   ]
  },
  {
   "attachments": {},
   "cell_type": "markdown",
   "metadata": {},
   "source": [
    "The shallow copy does not make a copy of the nested object inside a object, the changes on the nested object may reflect on the original object also, while in deep copy it return a deep nested copy of the object, changes on this copy does not reflect on the original object."
   ]
  },
  {
   "cell_type": "code",
   "execution_count": 3,
   "metadata": {},
   "outputs": [
    {
     "name": "stdout",
     "output_type": "stream",
     "text": [
      "deep_copy == original > False\n",
      "shallow_copy == original > True\n"
     ]
    }
   ],
   "source": [
    "from copy import copy, deepcopy\n",
    "original = {1 : {2: {3: ['original']}}}\n",
    "\n",
    "# making a shallow copy and a deep copy\n",
    "shallow_copy = copy(original)\n",
    "deep_copy = deepcopy(original)\n",
    "\n",
    "# updating the copies\n",
    "deep_copy[1][2][3][0] = 'not original'\n",
    "print('deep_copy == original >', deep_copy == original)\n",
    "\n",
    "shallow_copy[1][2][3][0] = 'not original'\n",
    "print('shallow_copy == original >', shallow_copy == original)"
   ]
  },
  {
   "cell_type": "markdown",
   "metadata": {},
   "source": [
    "### Answer 4"
   ]
  },
  {
   "attachments": {},
   "cell_type": "markdown",
   "metadata": {},
   "source": [
    "The maximum lenght of the identifier is as long as until is excedded the available memory, while according to `PEP-8` rule the length of identifier is not more than 79 character."
   ]
  },
  {
   "cell_type": "markdown",
   "metadata": {},
   "source": [
    "### Answer 5"
   ]
  },
  {
   "attachments": {},
   "cell_type": "markdown",
   "metadata": {},
   "source": [
    "The `generator` comprehension are similar to list comprehension but instead of returning a list it returns a iterator object. `generator` object are written inside a parenthese."
   ]
  },
  {
   "cell_type": "code",
   "execution_count": 4,
   "metadata": {},
   "outputs": [
    {
     "data": {
      "text/plain": [
       "generator"
      ]
     },
     "execution_count": 4,
     "metadata": {},
     "output_type": "execute_result"
    }
   ],
   "source": [
    "_ = (i ** 2 for i in range(1, 10))                                       # generator object for square numbers from 1 to 9\n",
    "type(_)"
   ]
  }
 ],
 "metadata": {
  "kernelspec": {
   "display_name": "Python 3",
   "language": "python",
   "name": "python3"
  },
  "language_info": {
   "codemirror_mode": {
    "name": "ipython",
    "version": 3
   },
   "file_extension": ".py",
   "mimetype": "text/x-python",
   "name": "python",
   "nbconvert_exporter": "python",
   "pygments_lexer": "ipython3",
   "version": "3.10.2"
  },
  "vscode": {
   "interpreter": {
    "hash": "2469a70536e4d2335a2ea8907942d0699c37342a371ac185bdb5b0aa6f073890"
   }
  }
 },
 "nbformat": 4,
 "nbformat_minor": 4
}
