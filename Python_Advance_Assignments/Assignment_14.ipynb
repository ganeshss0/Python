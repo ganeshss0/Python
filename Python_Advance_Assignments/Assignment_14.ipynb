{
 "cells": [
  {
   "attachments": {},
   "cell_type": "markdown",
   "metadata": {},
   "source": [
    "# Python Assignment 14"
   ]
  },
  {
   "cell_type": "markdown",
   "metadata": {},
   "source": [
    "### Answer 1"
   ]
  },
  {
   "attachments": {},
   "cell_type": "markdown",
   "metadata": {},
   "source": [
    "Yes it would lead to slightly faster result as compared to simple increment assignment. The below result are average time comsumed during `+=` increment and simple increment. Lower is better."
   ]
  },
  {
   "cell_type": "code",
   "execution_count": 1,
   "metadata": {},
   "outputs": [],
   "source": [
    "def plus_equal():\n",
    "    '''A function that used `+=` for increment.'''\n",
    "    a = 0\n",
    "    while a < 1000:\n",
    "        a += 1\n",
    "    return a\n",
    "\n",
    "def standard():\n",
    "    '''A function that used simple increment.'''\n",
    "    a = 0\n",
    "    while a < 1000:\n",
    "        a = a + 1\n",
    "    return a"
   ]
  },
  {
   "cell_type": "code",
   "execution_count": 2,
   "metadata": {},
   "outputs": [
    {
     "name": "stdout",
     "output_type": "stream",
     "text": [
      "62.9 µs ± 2.16 µs per loop (mean ± std. dev. of 7 runs, 100,000 loops each)\n"
     ]
    }
   ],
   "source": [
    "%timeit -n 100000 plus_equal()                                             # average time consumed in execution '+=' increment"
   ]
  },
  {
   "cell_type": "code",
   "execution_count": 3,
   "metadata": {},
   "outputs": [
    {
     "name": "stdout",
     "output_type": "stream",
     "text": [
      "83 µs ± 1.65 µs per loop (mean ± std. dev. of 7 runs, 100,000 loops each)\n"
     ]
    }
   ],
   "source": [
    "%timeit -n 100000 standard()                                               # average time consumed in simple increment, as it is faster than '+='"
   ]
  },
  {
   "cell_type": "markdown",
   "metadata": {},
   "source": [
    "### Answer 2"
   ]
  },
  {
   "attachments": {},
   "cell_type": "markdown",
   "metadata": {},
   "source": [
    "Inorder to achieve the same `a, b = a + b, a` expression in other programming language we have to create a third temporary variable  and then after we have to do assignment."
   ]
  },
  {
   "cell_type": "code",
   "execution_count": 4,
   "metadata": {},
   "outputs": [
    {
     "name": "stdout",
     "output_type": "stream",
     "text": [
      "Before\n",
      "a: 1\n",
      "b: 2\n",
      "After\n",
      "a: 3\n",
      "b: 1\n"
     ]
    }
   ],
   "source": [
    "a = 1\n",
    "b = 2\n",
    "print('Before')\n",
    "print('a:', a)\n",
    "print('b:', b)\n",
    "\n",
    "# a, b = a + b, a\n",
    "# inorder to achieve same expression\n",
    "\n",
    "_ = a + b                                   # a temporary variable that store a + b\n",
    "b = a                                       # assigning value of a to b\n",
    "a = _                                       # assigning temporary variable's value to a\n",
    "\n",
    "print('After')\n",
    "print('a:', a)\n",
    "print('b:', b)"
   ]
  },
  {
   "cell_type": "markdown",
   "metadata": {},
   "source": [
    "### Answer 3"
   ]
  },
  {
   "attachments": {},
   "cell_type": "markdown",
   "metadata": {},
   "source": [
    "The most efficient way to set a list of 100 integers to 0 is using multiply operator on list. Below are the average time for execution in each method to set a list to 0, Lower is better."
   ]
  },
  {
   "cell_type": "code",
   "execution_count": 5,
   "metadata": {},
   "outputs": [
    {
     "name": "stdout",
     "output_type": "stream",
     "text": [
      "Before:\n",
      " [1, 2, 3, 4, 5, 6, 7, 8, 9, 10, 11, 12, 13, 14, 15, 16, 17, 18, 19, 20, 21, 22, 23, 24, 25, 26, 27, 28, 29, 30, 31, 32, 33, 34, 35, 36, 37, 38, 39, 40, 41, 42, 43, 44, 45, 46, 47, 48, 49, 50, 51, 52, 53, 54, 55, 56, 57, 58, 59, 60, 61, 62, 63, 64, 65, 66, 67, 68, 69, 70, 71, 72, 73, 74, 75, 76, 77, 78, 79, 80, 81, 82, 83, 84, 85, 86, 87, 88, 89, 90, 91, 92, 93, 94, 95, 96, 97, 98, 99, 100]\n",
      "After:\n",
      " [0, 0, 0, 0, 0, 0, 0, 0, 0, 0, 0, 0, 0, 0, 0, 0, 0, 0, 0, 0, 0, 0, 0, 0, 0, 0, 0, 0, 0, 0, 0, 0, 0, 0, 0, 0, 0, 0, 0, 0, 0, 0, 0, 0, 0, 0, 0, 0, 0, 0, 0, 0, 0, 0, 0, 0, 0, 0, 0, 0, 0, 0, 0, 0, 0, 0, 0, 0, 0, 0, 0, 0, 0, 0, 0, 0, 0, 0, 0, 0, 0, 0, 0, 0, 0, 0, 0, 0, 0, 0, 0, 0, 0, 0, 0, 0, 0, 0, 0, 0]\n"
     ]
    }
   ],
   "source": [
    "List = list(range(1, 101))                                   # a list of 100 integers\n",
    "print('Before:\\n', List)\n",
    "\n",
    "List = [0] * len(List)                                       # setting all integers to zero, Efficient way\n",
    "print('After:\\n', List)"
   ]
  },
  {
   "cell_type": "code",
   "execution_count": 6,
   "metadata": {},
   "outputs": [
    {
     "name": "stdout",
     "output_type": "stream",
     "text": [
      "907 ns ± 42.9 ns per loop (mean ± std. dev. of 7 runs, 1,000,000 loops each)\n"
     ]
    }
   ],
   "source": [
    "%timeit -n 1000000 [0] * 100                                      # average time execution in multiply operator"
   ]
  },
  {
   "cell_type": "code",
   "execution_count": 7,
   "metadata": {},
   "outputs": [
    {
     "name": "stdout",
     "output_type": "stream",
     "text": [
      "5.15 µs ± 296 ns per loop (mean ± std. dev. of 7 runs, 1,000,000 loops each)\n"
     ]
    }
   ],
   "source": [
    "%timeit -n 1000000 [0 for i in range(100)]                        # average time for list comprehension"
   ]
  },
  {
   "cell_type": "code",
   "execution_count": 8,
   "metadata": {},
   "outputs": [
    {
     "name": "stdout",
     "output_type": "stream",
     "text": [
      "1.43 µs ± 119 ns per loop (mean ± std. dev. of 7 runs, 1,000,000 loops each)\n"
     ]
    }
   ],
   "source": [
    "from itertools import repeat\n",
    "%timeit -n 1000000 list(repeat(0, 100))                           # average time for  repeat method in itertools module better than list comprehension"
   ]
  },
  {
   "cell_type": "markdown",
   "metadata": {},
   "source": [
    "### Answer 4"
   ]
  },
  {
   "attachments": {},
   "cell_type": "markdown",
   "metadata": {},
   "source": [
    "There are many ways by which we can achieve a list of 99 integers of sequence 1, 2, 3 but from previous question the most effiective way is to to multiply operator."
   ]
  },
  {
   "cell_type": "code",
   "execution_count": 9,
   "metadata": {},
   "outputs": [
    {
     "name": "stdout",
     "output_type": "stream",
     "text": [
      "[1, 2, 3, 1, 2, 3, 1, 2, 3, 1, 2, 3, 1, 2, 3, 1, 2, 3, 1, 2, 3, 1, 2, 3, 1, 2, 3, 1, 2, 3, 1, 2, 3, 1, 2, 3, 1, 2, 3, 1, 2, 3, 1, 2, 3, 1, 2, 3, 1, 2, 3, 1, 2, 3, 1, 2, 3, 1, 2, 3, 1, 2, 3, 1, 2, 3, 1, 2, 3, 1, 2, 3, 1, 2, 3, 1, 2, 3, 1, 2, 3, 1, 2, 3, 1, 2, 3, 1, 2, 3, 1, 2, 3, 1, 2, 3, 1, 2, 3]\n"
     ]
    }
   ],
   "source": [
    "List = [1, 2, 3] * 33                                            # using list multiplication operation to repeat a sequence\n",
    "print(List)"
   ]
  },
  {
   "cell_type": "markdown",
   "metadata": {},
   "source": [
    "### Answer 5"
   ]
  },
  {
   "attachments": {},
   "cell_type": "markdown",
   "metadata": {},
   "source": [
    "We can use the `pprint` module to print the multidimensional list more efficently and more readeblity."
   ]
  },
  {
   "cell_type": "code",
   "execution_count": 10,
   "metadata": {},
   "outputs": [
    {
     "name": "stdout",
     "output_type": "stream",
     "text": [
      "Using builtin print method: [[1, 2, 3], [2, 3, 4], [4, 5, 6], [1, 2, 3], [2, 3, 4], [4, 5, 6], [1, 2, 3], [2, 3, 4], [4, 5, 6], [1, 2, 3], [2, 3, 4], [4, 5, 6]]\n",
      "'Using pprint module:'\n",
      "[[1, 2, 3],\n",
      " [2, 3, 4],\n",
      " [4, 5, 6],\n",
      " [1, 2, 3],\n",
      " [2, 3, 4],\n",
      " [4, 5, 6],\n",
      " [1, 2, 3],\n",
      " [2, 3, 4],\n",
      " [4, 5, 6],\n",
      " [1, 2, 3],\n",
      " [2, 3, 4],\n",
      " [4, 5, 6]]\n"
     ]
    }
   ],
   "source": [
    "multidimensional_list = [[1, 2, 3], [2, 3, 4], [4, 5, 6], [1, 2, 3], [2, 3, 4], [4, 5, 6], [1, 2, 3], [2, 3, 4], [4, 5, 6], [1, 2, 3], [2, 3, 4], [4, 5, 6]]\n",
    "\n",
    "#using print method\n",
    "print('Using builtin print method:', multidimensional_list)\n",
    "\n",
    "# using pprint module\n",
    "import pprint\n",
    "pprint.pprint('Using pprint module:')\n",
    "pprint.pprint(multidimensional_list)"
   ]
  },
  {
   "cell_type": "markdown",
   "metadata": {},
   "source": [
    "### Answer 6"
   ]
  },
  {
   "attachments": {},
   "cell_type": "markdown",
   "metadata": {},
   "source": [
    "Yes we can use a string inside a list comprehension."
   ]
  },
  {
   "cell_type": "code",
   "execution_count": 11,
   "metadata": {},
   "outputs": [
    {
     "data": {
      "text/plain": [
       "['nice', 'nice', 'nice', 'nice', 'nice', 'nice']"
      ]
     },
     "execution_count": 11,
     "metadata": {},
     "output_type": "execute_result"
    }
   ],
   "source": [
    "['nice' for i in range(6)]"
   ]
  },
  {
   "cell_type": "markdown",
   "metadata": {},
   "source": [
    "### Answer 7"
   ]
  },
  {
   "attachments": {},
   "cell_type": "markdown",
   "metadata": {},
   "source": [
    "1. We can also try using the built-in `help()` function in Python to get more information about a specific function or module. For example we can type `help(list.insert)` to get all information about the `insert` function in `list`.\n",
    "2. In IDLE we can use `interactive help` by pressing `F1` or selecting 'Help' option from the menu bar, This will open a help window with information regarding functions and module."
   ]
  },
  {
   "cell_type": "markdown",
   "metadata": {},
   "source": [
    "### Answer 8"
   ]
  },
  {
   "attachments": {},
   "cell_type": "markdown",
   "metadata": {},
   "source": [
    "Functions on python don't have restriction on the type of argument and the type of return value of the function, while function in C++ have a lot of restrications, Variable in for loops can be accessed even outside the for loops in python while in python it can't be accessed."
   ]
  },
  {
   "cell_type": "markdown",
   "metadata": {},
   "source": [
    "### Answer 9"
   ]
  },
  {
   "attachments": {},
   "cell_type": "markdown",
   "metadata": {},
   "source": [
    "1. A __Wrapper__ function is provides an additional layer around an existing piece of code.\n",
    "2. A __Wrapped Feature__ is a specific function or method that has been wrapped by a wrapper.\n",
    "3. A __Decorator__ is a special type of wrapper in python that allow you to 'decorate' a function or method with additional functionality."
   ]
  },
  {
   "cell_type": "code",
   "execution_count": 12,
   "metadata": {},
   "outputs": [
    {
     "name": "stdout",
     "output_type": "stream",
     "text": [
      "decorator is called <function wrapped_function at 0x000001D519DEF010>\n",
      "wrapper is called\n",
      "my_function is called\n",
      "wrapper is returned\n"
     ]
    },
    {
     "data": {
      "text/plain": [
       "3"
      ]
     },
     "execution_count": 12,
     "metadata": {},
     "output_type": "execute_result"
    }
   ],
   "source": [
    "def decorator(func):\n",
    "\n",
    "    '''This is a decorator function'''\n",
    "\n",
    "    print('decorator is called', func)\n",
    "\n",
    "    def wrapper(*args, **kwargs):\n",
    "\n",
    "        '''A wrapper function'''\n",
    "\n",
    "        print('wrapper is called')\n",
    "        result = func(*args, **kwargs)\n",
    "        print('wrapper is returned')\n",
    "\n",
    "        return result\n",
    "\n",
    "    return wrapper\n",
    "\n",
    "@decorator                                            # decorator takes the below function as argument\n",
    "def wrapped_function(x, y):\n",
    "    print('my_function is called')\n",
    "    return x + y\n",
    "\n",
    "wrapped_function(1, 2)"
   ]
  },
  {
   "cell_type": "markdown",
   "metadata": {},
   "source": [
    "### Answer 10"
   ]
  },
  {
   "attachments": {},
   "cell_type": "markdown",
   "metadata": {},
   "source": [
    "It returns a `iterable` object on which we can apply `next` method."
   ]
  },
  {
   "cell_type": "code",
   "execution_count": 13,
   "metadata": {},
   "outputs": [
    {
     "data": {
      "text/plain": [
       "generator"
      ]
     },
     "execution_count": 13,
     "metadata": {},
     "output_type": "execute_result"
    }
   ],
   "source": [
    "def squares(n):\n",
    "    '''Return a generator object that iterates square numbers upto n.'''\n",
    "    for i in range(1, n + 1):\n",
    "        yield i ** 2\n",
    "\n",
    "type(squares(10))"
   ]
  },
  {
   "attachments": {},
   "cell_type": "markdown",
   "metadata": {},
   "source": [
    "### Answer 11"
   ]
  },
  {
   "attachments": {},
   "cell_type": "markdown",
   "metadata": {},
   "source": [
    "We can add a `yield` statement instead of `return` inside our function inorder to convert it into a generator object."
   ]
  },
  {
   "attachments": {},
   "cell_type": "markdown",
   "metadata": {},
   "source": [
    "### Answer 12"
   ]
  },
  {
   "attachments": {},
   "cell_type": "markdown",
   "metadata": {},
   "source": [
    "The generator object are usually faster than list_comprehension and for loops. Below is the average time of execution for a generator object and a list comprehension, as you can see the generator object's execution time is less than list comprehension."
   ]
  },
  {
   "cell_type": "code",
   "execution_count": 14,
   "metadata": {},
   "outputs": [],
   "source": [
    "def square_generator() -> iter:\n",
    "    '''Return a generator object of square numbers upto 100.'''\n",
    "    for i in range(100):\n",
    "        yield i ** 2\n",
    "\n",
    "def square_listComp() -> list:\n",
    "    '''Return a list of square numbers upto 100.'''\n",
    "    return [i ** 2 for i in range(100)]\n"
   ]
  },
  {
   "cell_type": "code",
   "execution_count": 15,
   "metadata": {},
   "outputs": [
    {
     "name": "stdout",
     "output_type": "stream",
     "text": [
      "367 ns ± 63.7 ns per loop (mean ± std. dev. of 7 runs, 100,000 loops each)\n"
     ]
    }
   ],
   "source": [
    "%timeit -n 100000 square_generator()                             # generator is faster"
   ]
  },
  {
   "cell_type": "code",
   "execution_count": 16,
   "metadata": {},
   "outputs": [
    {
     "name": "stdout",
     "output_type": "stream",
     "text": [
      "35.3 µs ± 1.61 µs per loop (mean ± std. dev. of 7 runs, 100,000 loops each)\n"
     ]
    }
   ],
   "source": [
    "%timeit -n 100000 square_listComp()"
   ]
  }
 ],
 "metadata": {
  "kernelspec": {
   "display_name": "Python 3",
   "language": "python",
   "name": "python3"
  },
  "language_info": {
   "codemirror_mode": {
    "name": "ipython",
    "version": 3
   },
   "file_extension": ".py",
   "mimetype": "text/x-python",
   "name": "python",
   "nbconvert_exporter": "python",
   "pygments_lexer": "ipython3",
   "version": "3.10.2"
  },
  "vscode": {
   "interpreter": {
    "hash": "2469a70536e4d2335a2ea8907942d0699c37342a371ac185bdb5b0aa6f073890"
   }
  }
 },
 "nbformat": 4,
 "nbformat_minor": 4
}
