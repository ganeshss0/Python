{
 "cells": [
  {
   "attachments": {},
   "cell_type": "markdown",
   "metadata": {},
   "source": [
    "# Python Assignment 17"
   ]
  },
  {
   "cell_type": "markdown",
   "metadata": {},
   "source": [
    "### Answer 1"
   ]
  },
  {
   "attachments": {},
   "cell_type": "markdown",
   "metadata": {},
   "source": [
    "* Greedy : By default the regular expression are greedy, which means the expression try to match as many matches as possible in a given string. This usually contains `'*'` and `'+'` character in expression.\n",
    "* Non-Greedy : This expression will try to match as less matches as possible in a given string. This usually contain `'?'` in expression."
   ]
  },
  {
   "cell_type": "code",
   "execution_count": 1,
   "metadata": {},
   "outputs": [
    {
     "name": "stdout",
     "output_type": "stream",
     "text": [
      "Result is whole string in greedy:\n",
      " ['emailHome:rice@ineuron.ai, emailOffice:onion@ineuron.ai, emailShop:random@ineuron.ai']\n",
      "Result is three strings in non greedy:\n",
      " ['emailHome:rice@ineuron.ai', 'emailOffice:onion@ineuron.ai', 'emailShop:random@ineuron.ai']\n"
     ]
    }
   ],
   "source": [
    "import re\n",
    "\n",
    "String = \"emailHome:rice@ineuron.ai, emailOffice:onion@ineuron.ai, emailShop:random@ineuron.ai\"\n",
    "\n",
    "greedy = re.compile(r'email.+:[\\w]+@ineuron.ai')\n",
    "\n",
    "# greedy expression is considering all the string as a match, here the pattern consider whole string as a match\n",
    "greedy_res = greedy.findall(String)\n",
    "\n",
    "non_greedy = re.compile(r'email.+?:[\\w]+@ineuron.ai')\n",
    "\n",
    "# non_greedy is match as small as possible, here result are three different email\n",
    "non_greedy_res = non_greedy.findall(String)\n",
    "\n",
    "print('Result is whole string in greedy:\\n', greedy_res)\n",
    "print('Result is three strings in non greedy:\\n', non_greedy_res)"
   ]
  },
  {
   "cell_type": "markdown",
   "metadata": {},
   "source": [
    "### Answer 2"
   ]
  },
  {
   "attachments": {},
   "cell_type": "markdown",
   "metadata": {},
   "source": [
    "The greedy expression try to match as many character as possible while the non-greedy match as less character as possible. If we are looking for a non-greedy match but only available is greedy then to get a non-greedy match in regular expressions we need to use the modifier `'?'` after the quantifier."
   ]
  },
  {
   "cell_type": "markdown",
   "metadata": {},
   "source": [
    "### Answer 3"
   ]
  },
  {
   "attachments": {},
   "cell_type": "markdown",
   "metadata": {},
   "source": [
    "In a simple match of a string, where we are only looking for one match and not doing any replacement, using a non-tagged group likely will not make a practical difference in terms of the results of the match. A non-capturing group is specified using the syntax `(?:...)`."
   ]
  },
  {
   "cell_type": "markdown",
   "metadata": {},
   "source": [
    "### Answer 4"
   ]
  },
  {
   "attachments": {},
   "cell_type": "markdown",
   "metadata": {},
   "source": [
    "Here is a scenario in which using a nontagged category would have a significant import on the program's outcomes."
   ]
  },
  {
   "cell_type": "code",
   "execution_count": 2,
   "metadata": {},
   "outputs": [
    {
     "name": "stdout",
     "output_type": "stream",
     "text": [
      "Tagged Pattern:\n",
      " [('https://www.', 'github.com/ganeshss0'), ('https://', 'ineuron.ai'), ('', 'github.com/iNeuronai')]\n",
      "Non Tagged Pattern:\n",
      " ['github.com/ganeshss0', 'ineuron.ai', 'github.com/iNeuronai']\n"
     ]
    }
   ],
   "source": [
    "import re\n",
    "\n",
    "urls = 'https://www.github.com/ganeshss0\\nhttps://ineuron.ai\\ngithub.com/iNeuronai'\n",
    "\n",
    "# result contains a list of tuples as it consider there are two groups \n",
    "tagged = re.compile(r'(https:\\/\\/w*\\.?)?([\\S]+\\.[\\S]+[\\/\\S]*)')\n",
    "\n",
    "# result contains a list of strings as it ignore the first capturing group\n",
    "non_tagged = re.compile(r'(?:https:\\/\\/w*\\.?)?([\\S]+\\.[\\S]+[\\/\\S]*)')\n",
    "\n",
    "print('Tagged Pattern:\\n', tagged.findall(urls))\n",
    "print('Non Tagged Pattern:\\n', non_tagged.findall(urls))"
   ]
  },
  {
   "cell_type": "markdown",
   "metadata": {},
   "source": [
    "### Answer 5"
   ]
  },
  {
   "attachments": {},
   "cell_type": "markdown",
   "metadata": {},
   "source": [
    "Here is a situation like if we want to extract date from a string we can use look-ahead in this case, as we know the regex won't include the look-ahead group in the result, so the result in this case is different from what we are accepting."
   ]
  },
  {
   "cell_type": "code",
   "execution_count": 3,
   "metadata": {},
   "outputs": [
    {
     "name": "stdout",
     "output_type": "stream",
     "text": [
      "Accepting:\n",
      " ['13/02/2000', '11/09/2000']\n",
      "Result from look-ahead:\n",
      " ['13/02/', '11/09/']\n"
     ]
    }
   ],
   "source": [
    "import re\n",
    "\n",
    "Dates = '12/01/2002, 13/02/2000, 26/11/2008, 26/11/2009, 11/09/2000, 21/10/2003'\n",
    "\n",
    "only_2000_y = re.compile(r'\\d+/\\d+/2000')\n",
    "only_2000 = re.compile(r'\\d+/\\d+/(?=2000)')\n",
    "\n",
    "print('Accepting:\\n', only_2000_y.findall(Dates))\n",
    "\n",
    "# the result would be better if the year is also added to result\n",
    "print('Result from look-ahead:\\n', only_2000.findall(Dates))"
   ]
  },
  {
   "cell_type": "markdown",
   "metadata": {},
   "source": [
    "### Answer 6"
   ]
  },
  {
   "attachments": {},
   "cell_type": "markdown",
   "metadata": {},
   "source": [
    "* Positive Look Ahead: In this type of regular expression regex search a particular element which may be a character, characters or group after the item matched. If that particular element is present in the string then it find a match. The expression look like `'rice (?=onion)'` this will match `'rice'` only if it is followed by `'onion'` (not including `'onion'`).\n",
    "* Negitive Look Ahead: In this type of regular expression, regex search a particular element which may be a character, characters or group after the item matched. If that particular element is not present in the string then if find a match. The expression look like `'rice (?!onion)'` this will match `'rice'` only if it is __not__ followed by `'onion'` (not including `'onion'`)."
   ]
  },
  {
   "cell_type": "markdown",
   "metadata": {},
   "source": [
    "### Answer 7"
   ]
  },
  {
   "attachments": {},
   "cell_type": "markdown",
   "metadata": {},
   "source": [
    "Reffering groups by name rather than number is very usefull when the regular expression contain multiple groups and expression that have some conditions."
   ]
  },
  {
   "cell_type": "code",
   "execution_count": 4,
   "metadata": {},
   "outputs": [
    {
     "name": "stdout",
     "output_type": "stream",
     "text": [
      "Refering by name:\n",
      "1243\n",
      "4613\n",
      "6132\n",
      "Refering by number:\n",
      "A1243\n",
      "B4613\n",
      "A6132\n"
     ]
    }
   ],
   "source": [
    "import re\n",
    "\n",
    "ids = 'A1243, C4321, B4613, A6132, P9798, I0124'\n",
    "\n",
    "# getting the pass_id from ids which start with A or B\n",
    "named = re.compile(r'[A-B](?P<pass_id>[0-9]{4})')\n",
    "\n",
    "# getting the number from which start with A or B\n",
    "without_named = re.compile(r'[A-B]([0-9]{4})')\n",
    "\n",
    "print('Refering by name:')\n",
    "for match in named.finditer(ids):\n",
    "    print(match.group('pass_id'))\n",
    "\n",
    "print('Refering by number:')\n",
    "for match in without_named.finditer(ids):\n",
    "    print(match.group())"
   ]
  },
  {
   "cell_type": "markdown",
   "metadata": {},
   "source": [
    "### Answer 8"
   ]
  },
  {
   "attachments": {},
   "cell_type": "markdown",
   "metadata": {},
   "source": [
    "Yes we can find a repeadted word in a string with a named group."
   ]
  },
  {
   "cell_type": "code",
   "execution_count": 5,
   "metadata": {},
   "outputs": [
    {
     "name": "stdout",
     "output_type": "stream",
     "text": [
      "{'repeated_word': 'The'}\n"
     ]
    }
   ],
   "source": [
    "import re\n",
    "\n",
    "String = 'The cow jumped over the moon.'\n",
    "\n",
    "# regular expression that match a word if it occur more than once\n",
    "repeated = re.compile(r'(?P<repeated_word>\\b\\w+\\b)(?=.*\\1)', flags = re.IGNORECASE)\n",
    "\n",
    "for match in repeated.finditer(String):\n",
    "    print(match.groupdict())"
   ]
  },
  {
   "cell_type": "markdown",
   "metadata": {},
   "source": [
    "### Answer 9"
   ]
  },
  {
   "attachments": {},
   "cell_type": "markdown",
   "metadata": {},
   "source": [
    "The `Scanner` object is very helpful in tokenizing the string which the `findall` method can't provide."
   ]
  },
  {
   "cell_type": "code",
   "execution_count": 6,
   "metadata": {},
   "outputs": [
    {
     "data": {
      "text/plain": [
       "[('String', 'rice'),\n",
       " ('Integer', '20'),\n",
       " ('Punctuation}', ','),\n",
       " ('String', 'onion'),\n",
       " ('Integer', '10'),\n",
       " ('Punctuation}', ','),\n",
       " ('String', 'flower'),\n",
       " ('Integer', '30')]"
      ]
     },
     "execution_count": 6,
     "metadata": {},
     "output_type": "execute_result"
    }
   ],
   "source": [
    "import re\n",
    "\n",
    "my_tokens = re.Scanner([\n",
    "   ( '[0-9]+', lambda scan, token: ('Integer', token)),\n",
    "    ('[a-z]+', lambda scan, token: ('String', token)),\n",
    "    ('[,.]+', lambda scan, token: ('Punctuation}', token)),\n",
    "    ('[\\s]+', None)\n",
    "])\n",
    "\n",
    "res, rem = my_tokens.scan('rice 20, onion 10, \\nflower 30')\n",
    "res"
   ]
  },
  {
   "cell_type": "markdown",
   "metadata": {},
   "source": [
    "### Answer 10"
   ]
  },
  {
   "attachments": {},
   "cell_type": "markdown",
   "metadata": {},
   "source": [
    "No, it is not mandatory to name `Scanner` object `scanner` we can name it as we want. As I have used `my_tokens` name for the `Scanner` object in the previous answer."
   ]
  }
 ],
 "metadata": {
  "kernelspec": {
   "display_name": "Python 3",
   "language": "python",
   "name": "python3"
  },
  "language_info": {
   "codemirror_mode": {
    "name": "ipython",
    "version": 3
   },
   "file_extension": ".py",
   "mimetype": "text/x-python",
   "name": "python",
   "nbconvert_exporter": "python",
   "pygments_lexer": "ipython3",
   "version": "3.10.2"
  },
  "vscode": {
   "interpreter": {
    "hash": "2469a70536e4d2335a2ea8907942d0699c37342a371ac185bdb5b0aa6f073890"
   }
  }
 },
 "nbformat": 4,
 "nbformat_minor": 4
}
