{
 "cells": [
  {
   "attachments": {},
   "cell_type": "markdown",
   "metadata": {},
   "source": [
    "# Python Assignment 23"
   ]
  },
  {
   "cell_type": "markdown",
   "metadata": {},
   "source": [
    "### Answer 1"
   ]
  },
  {
   "attachments": {},
   "cell_type": "markdown",
   "metadata": {},
   "source": [
    "To increase the comparison between different figures on the same graph, we can consider the following choices:\n",
    "1. __multiple y-axes__: If the figures have different units or scales, using multiple y-axes can help to clearly display the differences in the data.\n",
    "2. __color and patterns__: Using different colors or patterns to distinguish the figures can make it easier to quickly compare them.\n",
    "3. __logarithmic scales__: If the figures have a large range, a logarithmic scale can help to better display the differences in the data."
   ]
  },
  {
   "cell_type": "markdown",
   "metadata": {},
   "source": [
    "### Answer 2"
   ]
  },
  {
   "attachments": {},
   "cell_type": "markdown",
   "metadata": {},
   "source": [
    "The main benefit of compound interest over a higher rate of interest that does not compound is that compound interest earns interest on the interest earned in previous periods, leading to a faster growth of the investment over time. This means that the investment grows at an exponential rate, whereas a higher rate of interest that does not compound will only earn a constant amount of interest each period."
   ]
  },
  {
   "cell_type": "markdown",
   "metadata": {},
   "source": [
    "### Answer 3"
   ]
  },
  {
   "attachments": {},
   "cell_type": "markdown",
   "metadata": {},
   "source": [
    "A histogram is a graph used to represent the frequency distribution of a few data points of one variable. Histograms often classify data into various \"bins\" or \"range groups\" and count how many data points belong to each of those bins.<br />\n",
    "And there is a method called `np.histogram(x, y)` in numpy that create a 2D histogram of array."
   ]
  },
  {
   "cell_type": "markdown",
   "metadata": {},
   "source": [
    "### Answer 4"
   ]
  },
  {
   "attachments": {},
   "cell_type": "markdown",
   "metadata": {},
   "source": [
    "If we are using matplotlib we the change the `aspect` parameter to change the aspect ratio of X and Y axes."
   ]
  },
  {
   "cell_type": "code",
   "execution_count": 1,
   "metadata": {},
   "outputs": [
    {
     "data": {
      "image/png": "[encoded data removed]",
      "text/plain": [
       "<Figure size 720x432 with 2 Axes>"
      ]
     },
     "metadata": {
      "needs_background": "light"
     },
     "output_type": "display_data"
    }
   ],
   "source": [
    "import matplotlib.pyplot as plt\n",
    "import numpy as np\n",
    "\n",
    "x = np.arange(1, 11)\n",
    "y = np.random.randint(1, 20, 10)\n",
    "\n",
    "fig, (ax1, ax2) = plt.subplots(1, 2, figsize=(10, 6))\n",
    "ax1.plot(x, y)\n",
    "ax2.plot(x, y)\n",
    "ax1.set_title('Aspect ration is 1:1')\n",
    "ax2.set_title('Aspect ration 3:1')\n",
    "\n",
    "# changing the aspect ration of second plot to 0.3\n",
    "ax2.set_aspect(0.3)"
   ]
  },
  {
   "cell_type": "markdown",
   "metadata": {},
   "source": [
    "### Answer 5"
   ]
  },
  {
   "attachments": {},
   "cell_type": "markdown",
   "metadata": {},
   "source": [
    "* Regular Multiplication: In this method each item is multiplied with its corrosponding item in second array.\n",
    "* Dot Product: In this method it multiply both array using vector dot multiplication method.\n",
    "* Outer Product: In this method each item of first array is multiplied with each item of second array."
   ]
  },
  {
   "cell_type": "code",
   "execution_count": 2,
   "metadata": {},
   "outputs": [
    {
     "data": {
      "text/plain": [
       "(array([[1, 2, 3],\n",
       "        [4, 5, 6],\n",
       "        [7, 8, 9]]),\n",
       " array([[1, 1, 1],\n",
       "        [2, 2, 2],\n",
       "        [3, 3, 3]]))"
      ]
     },
     "execution_count": 2,
     "metadata": {},
     "output_type": "execute_result"
    }
   ],
   "source": [
    "import numpy as np\n",
    "\n",
    "arr_1 = np.array([[1, 2, 3], [4, 5, 6], [7, 8, 9]])\n",
    "arr_2 = np.array([[1, 1, 1], [2, 2, 2], [3, 3, 3]])\n",
    "arr_1, arr_2"
   ]
  },
  {
   "cell_type": "code",
   "execution_count": 3,
   "metadata": {},
   "outputs": [
    {
     "data": {
      "text/plain": [
       "array([[ 1,  2,  3],\n",
       "       [ 8, 10, 12],\n",
       "       [21, 24, 27]])"
      ]
     },
     "execution_count": 3,
     "metadata": {},
     "output_type": "execute_result"
    }
   ],
   "source": [
    "# Regular Multiplication\n",
    "arr_1 * arr_2"
   ]
  },
  {
   "cell_type": "code",
   "execution_count": 4,
   "metadata": {},
   "outputs": [
    {
     "data": {
      "text/plain": [
       "array([[14, 14, 14],\n",
       "       [32, 32, 32],\n",
       "       [50, 50, 50]])"
      ]
     },
     "execution_count": 4,
     "metadata": {},
     "output_type": "execute_result"
    }
   ],
   "source": [
    "# Dot Product\n",
    "arr_1.dot(arr_2)"
   ]
  },
  {
   "cell_type": "code",
   "execution_count": 5,
   "metadata": {},
   "outputs": [
    {
     "data": {
      "text/plain": [
       "array([[ 1,  1,  1,  2,  2,  2,  3,  3,  3],\n",
       "       [ 2,  2,  2,  4,  4,  4,  6,  6,  6],\n",
       "       [ 3,  3,  3,  6,  6,  6,  9,  9,  9],\n",
       "       [ 4,  4,  4,  8,  8,  8, 12, 12, 12],\n",
       "       [ 5,  5,  5, 10, 10, 10, 15, 15, 15],\n",
       "       [ 6,  6,  6, 12, 12, 12, 18, 18, 18],\n",
       "       [ 7,  7,  7, 14, 14, 14, 21, 21, 21],\n",
       "       [ 8,  8,  8, 16, 16, 16, 24, 24, 24],\n",
       "       [ 9,  9,  9, 18, 18, 18, 27, 27, 27]])"
      ]
     },
     "execution_count": 5,
     "metadata": {},
     "output_type": "execute_result"
    }
   ],
   "source": [
    "# Outer Product\n",
    "import numpy as np\n",
    "np.outer(arr_1, arr_2)"
   ]
  },
  {
   "cell_type": "markdown",
   "metadata": {},
   "source": [
    "### Answer 6"
   ]
  },
  {
   "attachments": {},
   "cell_type": "markdown",
   "metadata": {},
   "source": [
    "I don't find any function in Numpy that can calculate mortage value but we can calculate using this formula:<br /> $$M = P\\frac{r(1 + r)^{n}}{(1 + r)^{n} - 1}$$\n",
    "* __M__ is monthly payment\n",
    "* __P__ is principal\n",
    "* __r__ is monthly interest rate\n",
    "* __n__ is number of payments"
   ]
  },
  {
   "cell_type": "code",
   "execution_count": 6,
   "metadata": {},
   "outputs": [
    {
     "data": {
      "text/plain": [
       "9666.400764714135"
      ]
     },
     "execution_count": 6,
     "metadata": {},
     "output_type": "execute_result"
    }
   ],
   "source": [
    "P = 5_00_000\n",
    "r = 0.005\n",
    "n = 60\n",
    "M = P * ((r * ((1 + r) ** n)) / ((1 + r) ** n - 1))\n",
    "M                              # So monthly payment for Principal of ₹500000 is 9666 at 0.005 for 5 years"
   ]
  },
  {
   "cell_type": "markdown",
   "metadata": {},
   "source": [
    "### Answer 7"
   ]
  },
  {
   "attachments": {},
   "cell_type": "markdown",
   "metadata": {},
   "source": [
    "Yes, Numpy array can store string but all the items inside the array must be string. Here is an limitation of numpy array with string datatype:\n",
    "1. All the string inside numpy must be of same length, if not then numpy changes the size of all string respective to the longest string in the array this increases the memory usage."
   ]
  },
  {
   "cell_type": "code",
   "execution_count": 7,
   "metadata": {},
   "outputs": [],
   "source": [
    "# array with all the string of same length\n",
    "arr_1 = np.array(['abc', 'deg', 'egd', 'feg', 'fzg'])\n",
    "\n",
    "# array with strings of different length\n",
    "arr_2 = np.array(['abc', 'deg2', 'ecsgd', 'fcsbdeg', 'fzb5u34576hgg'])"
   ]
  },
  {
   "cell_type": "code",
   "execution_count": 8,
   "metadata": {},
   "outputs": [
    {
     "data": {
      "text/plain": [
       "dtype('<U3')"
      ]
     },
     "execution_count": 8,
     "metadata": {},
     "output_type": "execute_result"
    }
   ],
   "source": [
    "# the datatype of array is U3\n",
    "arr_1.dtype"
   ]
  },
  {
   "cell_type": "code",
   "execution_count": 9,
   "metadata": {},
   "outputs": [
    {
     "data": {
      "text/plain": [
       "dtype('<U13')"
      ]
     },
     "execution_count": 9,
     "metadata": {},
     "output_type": "execute_result"
    }
   ],
   "source": [
    "# the datatype of array is U13 respective to the longest string in array\n",
    "arr_2.dtype"
   ]
  }
 ],
 "metadata": {
  "kernelspec": {
   "display_name": "Python 3",
   "language": "python",
   "name": "python3"
  },
  "language_info": {
   "codemirror_mode": {
    "name": "ipython",
    "version": 3
   },
   "file_extension": ".py",
   "mimetype": "text/x-python",
   "name": "python",
   "nbconvert_exporter": "python",
   "pygments_lexer": "ipython3",
   "version": "3.10.2"
  },
  "vscode": {
   "interpreter": {
    "hash": "2469a70536e4d2335a2ea8907942d0699c37342a371ac185bdb5b0aa6f073890"
   }
  }
 },
 "nbformat": 4,
 "nbformat_minor": 4
}
