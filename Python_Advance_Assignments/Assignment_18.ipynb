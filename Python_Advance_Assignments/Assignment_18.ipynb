{
 "cells": [
  {
   "attachments": {},
   "cell_type": "markdown",
   "metadata": {},
   "source": [
    "# Python Assignment 18"
   ]
  },
  {
   "cell_type": "markdown",
   "metadata": {},
   "source": [
    "### Answer 1"
   ]
  },
  {
   "attachments": {},
   "cell_type": "markdown",
   "metadata": {},
   "source": [
    "* Text file : These files usually contains unicode character, whitespace character.\n",
    "* Binary file : These files contains binary data(0's and 1's) that can be anything a image file, audio file, executable files and other files excluding text files. These files are not human readable."
   ]
  },
  {
   "cell_type": "markdown",
   "metadata": {},
   "source": [
    "### Answer 2"
   ]
  },
  {
   "attachments": {},
   "cell_type": "markdown",
   "metadata": {},
   "source": [
    "Here are some scenarios where text files is better option:\n",
    "1. Logging : logs are stored inside a `.log` file which is a text file.\n",
    "2. Scripting File : All programming language has it own file extension for writing code like python files have `.py` extension which is just a text file.\n",
    "3. Markdown : All markdown files are text files.\n",
    "4. Files that are used to human readable.\n",
    "5. Files that needs easily editability."
   ]
  },
  {
   "cell_type": "markdown",
   "metadata": {},
   "source": [
    "### Answer 3"
   ]
  },
  {
   "cell_type": "markdown",
   "metadata": {},
   "source": [
    "There are few issues with using binary operations to read and write a Python integer directly to disc\n",
    "1. Size: The size of Python integers can vary depending on the system archtecture, This cause issue when reading and writing integers directly to disc.\n",
    "2. Precision Loss: In some cases when working with large integers or floats, the precision of data is loss when stored in binary format.\n",
    "3. Data Loss: When using binary operations to read and write integers directly to disc, it is possible for data to corrupt or lost if the operation is not performed correctly."
   ]
  },
  {
   "cell_type": "markdown",
   "metadata": {},
   "source": [
    "### Answer 4"
   ]
  },
  {
   "attachments": {},
   "cell_type": "markdown",
   "metadata": {},
   "source": [
    "`with` keyword makes the files handling process easy and clean, it automatically closes the files when the nested operation is done. It allows us to ensure that a resource is 'cleaned up' when the code that uses it finishes running, even if exceptions are thrown."
   ]
  },
  {
   "cell_type": "markdown",
   "metadata": {},
   "source": [
    "### Answer 5"
   ]
  },
  {
   "attachments": {},
   "cell_type": "markdown",
   "metadata": {},
   "source": [
    "When we read a line of text from a file using the `readline()` method the line will include the new line character at the end.<br />\n",
    "No, Python's `write` method does not automatically append newline character at the end of line but we can add the newline character in the string. We can also use `print` method to write lines into files which will add new line character at the end of line."
   ]
  },
  {
   "cell_type": "code",
   "execution_count": 9,
   "metadata": {},
   "outputs": [
    {
     "name": "stdout",
     "output_type": "stream",
     "text": [
      "'Using write method: This is nice.'\n",
      "'Using print method: This is nice.\\n'\n"
     ]
    }
   ],
   "source": [
    "String = 'This is nice.'        # string without new line character\n",
    "\n",
    "# USING WRITE METHOD\n",
    "with open('file', 'w') as f:\n",
    "    f.write(String)\n",
    "\n",
    "with open('file') as f:\n",
    "    print(repr(f'Using write method: {f.read()}'))\n",
    "\n",
    "# USING PRINT METHOD\n",
    "with open('file', 'w') as f:\n",
    "    print(String, file = f)\n",
    "\n",
    "with open('file') as f:\n",
    "    print(repr(f'Using print method: {f.read()}'))"
   ]
  },
  {
   "cell_type": "markdown",
   "metadata": {},
   "source": [
    "### Answer 6"
   ]
  },
  {
   "cell_type": "markdown",
   "metadata": {},
   "source": [
    "The `seek()` method inside `open` enables random-acces operation on a file. The `seek()` method takes an integer as position of pointer and moves the files pointer to that position."
   ]
  },
  {
   "cell_type": "code",
   "execution_count": 10,
   "metadata": {},
   "outputs": [
    {
     "name": "stdout",
     "output_type": "stream",
     "text": [
      "This \n",
      "This is nice.\n",
      "\n"
     ]
    }
   ],
   "source": [
    "with open('file') as f:\n",
    "    print(f.read(5))\n",
    "    f.seek(0)                                              # moving pointer to the initial position\n",
    "    print(f.read())"
   ]
  },
  {
   "cell_type": "markdown",
   "metadata": {},
   "source": [
    "### Answer 7"
   ]
  },
  {
   "cell_type": "markdown",
   "metadata": {},
   "source": [
    "The `struct` package used when working with binary data.\n",
    "* Parsing binary file formats.\n",
    "* Encoding and decoding data to be sent over a network.\n",
    "* Serializing and deserializing data to be stored on disk."
   ]
  },
  {
   "cell_type": "markdown",
   "metadata": {},
   "source": [
    "### Answer 8"
   ]
  },
  {
   "cell_type": "markdown",
   "metadata": {},
   "source": [
    "Pickling is best used in Python when we need to store or transport complex data structure, like lists or dictionaries, in a compact and efficient format, We can save a Python object to a file and later load it back into memory."
   ]
  },
  {
   "cell_type": "markdown",
   "metadata": {},
   "source": [
    "### Answer 9"
   ]
  },
  {
   "cell_type": "markdown",
   "metadata": {},
   "source": [
    "* We can use `shelve` as a simple, lightweight alternative to a database.\n",
    "* `shelve` is useful when you want to store data in a format that is easy to share with other programs."
   ]
  },
  {
   "cell_type": "markdown",
   "metadata": {},
   "source": [
    "### Answer 10"
   ]
  },
  {
   "cell_type": "markdown",
   "metadata": {},
   "source": [
    "`shelve` is useful for storing sensitive data. `shelve` is opposed to other data dictionaries is that the keys must be strings, and the values must be pickleable objects."
   ]
  }
 ],
 "metadata": {
  "kernelspec": {
   "display_name": "Python 3.8.10 64-bit",
   "language": "python",
   "name": "python3"
  },
  "language_info": {
   "codemirror_mode": {
    "name": "ipython",
    "version": 3
   },
   "file_extension": ".py",
   "mimetype": "text/x-python",
   "name": "python",
   "nbconvert_exporter": "python",
   "pygments_lexer": "ipython3",
   "version": "3.8.10"
  },
  "vscode": {
   "interpreter": {
    "hash": "e7370f93d1d0cde622a1f8e1c04877d8463912d04d973331ad4851f04de6915a"
   }
  }
 },
 "nbformat": 4,
 "nbformat_minor": 4
}
