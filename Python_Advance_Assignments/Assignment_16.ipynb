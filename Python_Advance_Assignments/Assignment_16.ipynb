{
 "cells": [
  {
   "attachments": {},
   "cell_type": "markdown",
   "metadata": {},
   "source": [
    "# Python Assignment 16"
   ]
  },
  {
   "cell_type": "markdown",
   "metadata": {},
   "source": [
    "### Answer 1"
   ]
  },
  {
   "attachments": {},
   "cell_type": "markdown",
   "metadata": {},
   "source": [
    "Regular expression makes it easy to find any kind of pattern inside a string, regular expression is way more efficient than `for` and `while` loops. By using regular expression our code would  be small and easy to maintain, The pattern matching algorithm of regular expression is more fast than `for` and `while` loops."
   ]
  },
  {
   "cell_type": "markdown",
   "metadata": {},
   "source": [
    "### Answer 2"
   ]
  },
  {
   "attachments": {},
   "cell_type": "markdown",
   "metadata": {},
   "source": [
    "Here are some example what these regular expression would search inside a string.\n",
    "* `(ab)c+` : `abc, abcc, abccc, ....`\n",
    "* `a(bc)+` : `abc, abcbc, abcbcbc, ....`\n",
    "* `abc+` :  `abc, abcc, abccc, ....`\n",
    "\n",
    "The `(ab)c+` pattern is same as `abc+`."
   ]
  },
  {
   "cell_type": "markdown",
   "metadata": {},
   "source": [
    "### Answer 3"
   ]
  },
  {
   "attachments": {},
   "cell_type": "markdown",
   "metadata": {},
   "source": [
    "We have to import the `re` module only once."
   ]
  },
  {
   "cell_type": "markdown",
   "metadata": {},
   "source": [
    "### Answer 4"
   ]
  },
  {
   "attachments": {},
   "cell_type": "markdown",
   "metadata": {},
   "source": [
    "`'-'` character have special significance in square brackets when expressing a range, Lets suppose we have to find a phone number inside a string and inside our regular expression pattern we have specified that find only those number that does not contain number 8 and 9. In this situation we have to `[0-7]` expression inside our pattern."
   ]
  },
  {
   "cell_type": "code",
   "execution_count": 1,
   "metadata": {},
   "outputs": [
    {
     "data": {
      "text/plain": [
       "['7523456253', '7364526343', '6367352372']"
      ]
     },
     "execution_count": 1,
     "metadata": {},
     "output_type": "execute_result"
    }
   ],
   "source": [
    "import re\n",
    "\n",
    "mobile_number = '1234567890, 7523456253, 7364526343, 9896234567, 9863546353, 6367352372'\n",
    "\n",
    "pattern = r'[0-7]{10}'\n",
    "re.findall(pattern, mobile_number)                               # return only those number which does not contain 8 and 9"
   ]
  },
  {
   "cell_type": "markdown",
   "metadata": {},
   "source": [
    "### Answer 5"
   ]
  },
  {
   "attachments": {},
   "cell_type": "markdown",
   "metadata": {},
   "source": [
    "By compiling a regular expression we can use the same regular expression as many times as we want, and by compiling our code is slightly faster than without compiling method."
   ]
  },
  {
   "cell_type": "code",
   "execution_count": 2,
   "metadata": {},
   "outputs": [],
   "source": [
    "import re\n",
    "\n",
    "compiled_pattern = re.compile(r'[\\d]+')\n",
    "not_compiled_pattern = r'[\\d]+'\n",
    "\n",
    "string = 'abcd1324cfdf' * 30"
   ]
  },
  {
   "cell_type": "code",
   "execution_count": 3,
   "metadata": {},
   "outputs": [
    {
     "name": "stdout",
     "output_type": "stream",
     "text": [
      "21.7 µs ± 3.68 µs per loop (mean ± std. dev. of 7 runs, 10,000 loops each)\n"
     ]
    }
   ],
   "source": [
    "# compiled regular expression is slightly faster than not compiled regular expression\n",
    "%timeit _ = compiled_pattern.findall(string)"
   ]
  },
  {
   "cell_type": "code",
   "execution_count": 4,
   "metadata": {},
   "outputs": [
    {
     "name": "stdout",
     "output_type": "stream",
     "text": [
      "23.5 µs ± 1.93 µs per loop (mean ± std. dev. of 7 runs, 100,000 loops each)\n"
     ]
    }
   ],
   "source": [
    "%timeit _ = re.findall(not_compiled_pattern, string)"
   ]
  },
  {
   "cell_type": "markdown",
   "metadata": {},
   "source": [
    "### Answer 6"
   ]
  },
  {
   "attachments": {},
   "cell_type": "markdown",
   "metadata": {},
   "source": [
    "The `match` object return by `re.search, re.match` have many method, these are some method of `match` object:\n",
    "* `span` method which return a tuple of starting and ending index of the matched pattern.\n",
    "* `start` method which return the starting index of the matched pattern.\n",
    "* `end` method which return the ending index of the matched pattern.\n",
    "* `group` method return subgroup of the match by indices or names.\n",
    "* `groups` method return a tuple containing all the subgroups of the match."
   ]
  },
  {
   "cell_type": "markdown",
   "metadata": {},
   "source": [
    "### Answer 7"
   ]
  },
  {
   "attachments": {},
   "cell_type": "markdown",
   "metadata": {},
   "source": [
    "1. `'X|Y'` (here `'X', 'Y'` are regular expression)\n",
    "    * This will match either `'X'` or `'Y'`.\n",
    "    * This regular expression is search from left to right.\n",
    "    * If one expression matches then it is returned means if `'X'` if matched then `'Y'` will not matched further.\n",
    "2. `'[...]'` character set\n",
    "    * Character can be list individally like `'[nice]'` then `'n', 'i', 'c', 'e'` will be matched.\n",
    "    * Range of charcter can be specified like `'[a-z]' or '[0-9]'`."
   ]
  },
  {
   "cell_type": "markdown",
   "metadata": {},
   "source": [
    "### Answer 8"
   ]
  },
  {
   "attachments": {},
   "cell_type": "markdown",
   "metadata": {},
   "source": [
    "The python strings and regular expression pattern both contains some special character like `\\n, \\r, \\t, ...` so a special charcter of regular expression could be interpreted as python special string, to stop this coufusion of special character we write regular expression inside python's raw string so that python just ignore them and regular expression compile those raw string easily."
   ]
  }
 ],
 "metadata": {
  "kernelspec": {
   "display_name": "Python 3",
   "language": "python",
   "name": "python3"
  },
  "language_info": {
   "codemirror_mode": {
    "name": "ipython",
    "version": 3
   },
   "file_extension": ".py",
   "mimetype": "text/x-python",
   "name": "python",
   "nbconvert_exporter": "python",
   "pygments_lexer": "ipython3",
   "version": "3.10.2"
  },
  "vscode": {
   "interpreter": {
    "hash": "2469a70536e4d2335a2ea8907942d0699c37342a371ac185bdb5b0aa6f073890"
   }
  }
 },
 "nbformat": 4,
 "nbformat_minor": 4
}
