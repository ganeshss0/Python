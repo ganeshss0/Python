{
 "cells": [
  {
   "cell_type": "markdown",
   "metadata": {},
   "source": [
    "# Python Assignment 12"
   ]
  },
  {
   "cell_type": "markdown",
   "metadata": {},
   "source": [
    "### Answer 1"
   ]
  },
  {
   "cell_type": "markdown",
   "metadata": {},
   "source": [
    "Extract Unique value from dictonary"
   ]
  },
  {
   "cell_type": "code",
   "execution_count": 1,
   "metadata": {},
   "outputs": [],
   "source": [
    "def unique_values(data: dict) -> list:\n",
    "    '''Return a list of unique values from data dictonary.'''\n",
    "    from collections import Counter\n",
    "    return [key for key, value in Counter(data.values()).items() if value == 1]"
   ]
  },
  {
   "cell_type": "code",
   "execution_count": 2,
   "metadata": {},
   "outputs": [
    {
     "data": {
      "text/plain": [
       "['2kg', '1kg', '8kg']"
      ]
     },
     "execution_count": 2,
     "metadata": {},
     "output_type": "execute_result"
    }
   ],
   "source": [
    "data = dict(rice = '3kg', onion = '3kg', flower = '2kg', pea = '1kg', super = '8kg')\n",
    "unique_values(data)                                       # return unique values from dictonary"
   ]
  },
  {
   "cell_type": "markdown",
   "metadata": {},
   "source": [
    "### Answer 2"
   ]
  },
  {
   "cell_type": "markdown",
   "metadata": {},
   "source": [
    "Sum of all items in dictonary"
   ]
  },
  {
   "cell_type": "code",
   "execution_count": 3,
   "metadata": {},
   "outputs": [],
   "source": [
    "def sum_dictonary(data: dict) -> tuple:\n",
    "    '''Return the sum of all keys and values.'''\n",
    "    keys, values = 0, 0\n",
    "    for key, value in data.items():\n",
    "        if type(key) == int:\n",
    "            keys += key\n",
    "        if type(value) == int:\n",
    "            values += value\n",
    "    return keys, values"
   ]
  },
  {
   "cell_type": "code",
   "execution_count": 4,
   "metadata": {},
   "outputs": [
    {
     "name": "stdout",
     "output_type": "stream",
     "text": [
      "Sum of Keys 53, Sum of Values 367\n"
     ]
    }
   ],
   "source": [
    "data = {1 : 12, 3 : 24, 4 : 21, 5 : 34, 6 : 44, 7 : 47, 8 : 52, 9 : 66, 10 : 67}\n",
    "sums = sum_dictonary(data)\n",
    "print(f'Sum of Keys {sums[0]}, Sum of Values {sums[1]}')"
   ]
  },
  {
   "cell_type": "markdown",
   "metadata": {},
   "source": [
    "### Answer 3"
   ]
  },
  {
   "cell_type": "markdown",
   "metadata": {},
   "source": [
    "Merging two dictonary"
   ]
  },
  {
   "cell_type": "code",
   "execution_count": 5,
   "metadata": {},
   "outputs": [],
   "source": [
    "def merge_dict(*args) -> dict:\n",
    "    '''merge_dict([dict])\\n\n",
    "    Return a dict after merging two dictonary.'''\n",
    "    merge = args[0].copy()\n",
    "    for dicts in args[1:]:\n",
    "        merge.update(dicts)\n",
    "    return merge"
   ]
  },
  {
   "cell_type": "code",
   "execution_count": 6,
   "metadata": {},
   "outputs": [
    {
     "data": {
      "text/plain": [
       "{'nice': 12, 'flower': 13}"
      ]
     },
     "execution_count": 6,
     "metadata": {},
     "output_type": "execute_result"
    }
   ],
   "source": [
    "dict_1 = dict(nice = 12)\n",
    "dict_2 = dict(flower = 13)\n",
    "merge_dict(dict_1, dict_2)                                           # merge both dictonary"
   ]
  },
  {
   "cell_type": "markdown",
   "metadata": {},
   "source": [
    "### Answer 4"
   ]
  },
  {
   "cell_type": "markdown",
   "metadata": {},
   "source": [
    "Convert Key-Value list to flat dictonary"
   ]
  },
  {
   "cell_type": "code",
   "execution_count": 7,
   "metadata": {},
   "outputs": [],
   "source": [
    "def list_flatDict(keys: list, values: list) -> dict:\n",
    "    '''Return a dict from keys and value pair.'''\n",
    "    return {key : value for key, value in zip(keys, values)}"
   ]
  },
  {
   "cell_type": "code",
   "execution_count": 8,
   "metadata": {},
   "outputs": [
    {
     "data": {
      "text/plain": [
       "{'nice': 1234, 'flower': 4312, 'onion': 4645, 'super': 3464}"
      ]
     },
     "execution_count": 8,
     "metadata": {},
     "output_type": "execute_result"
    }
   ],
   "source": [
    "keys = ['nice', 'flower', 'onion', 'super']\n",
    "values = [1234, 4312, 4645, 3464]\n",
    "list_flatDict(keys, values)                                                         # return a dict"
   ]
  },
  {
   "cell_type": "markdown",
   "metadata": {},
   "source": [
    "### Answer 5"
   ]
  },
  {
   "cell_type": "markdown",
   "metadata": {},
   "source": [
    "Insert at the beginning of OrderedDict"
   ]
  },
  {
   "cell_type": "code",
   "execution_count": 9,
   "metadata": {},
   "outputs": [],
   "source": [
    "def at_beginning(Dict: dict, insert: dict) -> None:\n",
    "    '''Insert a Dictonary at the beginning of a Ordered Dictonary.'''\n",
    "    from collections import OrderedDict as OD\n",
    "    _ = OD(insert)\n",
    "    _.update(Dict)\n",
    "    return _\n",
    "    "
   ]
  },
  {
   "cell_type": "code",
   "execution_count": 10,
   "metadata": {},
   "outputs": [
    {
     "data": {
      "text/plain": [
       "OrderedDict([(1, 2), (3, 4), ('nice', 12), ('ok', 23), ('onion', 44)])"
      ]
     },
     "execution_count": 10,
     "metadata": {},
     "output_type": "execute_result"
    }
   ],
   "source": [
    "from collections import OrderedDict as OD\n",
    "Dict = OD({'nice':12, 'ok' : 23, 'onion': 44})\n",
    "simple = {1:2, 3:4}\n",
    "at_beginning(Dict, simple)"
   ]
  },
  {
   "cell_type": "markdown",
   "metadata": {},
   "source": [
    "### Answer 6"
   ]
  },
  {
   "cell_type": "markdown",
   "metadata": {},
   "source": [
    "Order of character"
   ]
  },
  {
   "cell_type": "code",
   "execution_count": 11,
   "metadata": {},
   "outputs": [],
   "source": [
    "def order_char(string: str) -> dict.keys:\n",
    "    '''Return char that are in same order as in string.'''\n",
    "    from collections import OrderedDict as OD\n",
    "    return OD.fromkeys(string).keys()"
   ]
  },
  {
   "cell_type": "code",
   "execution_count": 12,
   "metadata": {},
   "outputs": [
    {
     "data": {
      "text/plain": [
       "odict_keys(['t', 'h', 'i', 's', ' ', 'n', 'c', 'e', 'l', 'k', 'r'])"
      ]
     },
     "execution_count": 12,
     "metadata": {},
     "output_type": "execute_result"
    }
   ],
   "source": [
    "order_char('this is nice like rice')"
   ]
  },
  {
   "cell_type": "markdown",
   "metadata": {},
   "source": [
    "### Answer 7"
   ]
  },
  {
   "cell_type": "markdown",
   "metadata": {},
   "source": [
    "Sort by Key or Values"
   ]
  },
  {
   "cell_type": "code",
   "execution_count": 13,
   "metadata": {},
   "outputs": [],
   "source": [
    "def sort_by(Dict: dict, keys: bool = True) -> dict:\n",
    "    '''Return a dictonary sorted by keys(default) else sorted by values.'''\n",
    "    from collections import OrderedDict as OD\n",
    "    _ = OD()\n",
    "    if keys:\n",
    "        for key in sorted(Dict):\n",
    "            _[key] = Dict[key]\n",
    "    elif keys == False:\n",
    "        for key, value in sorted(Dict.items(), key = lambda x: x[1]):\n",
    "            _[key] = Dict[key]\n",
    "    return _"
   ]
  },
  {
   "cell_type": "code",
   "execution_count": 14,
   "metadata": {},
   "outputs": [
    {
     "name": "stdout",
     "output_type": "stream",
     "text": [
      "Sort by keys OrderedDict([('apple', 43), ('flower', 99), ('nice', 12), ('onion', 23), ('rice', 11), ('token', 2)])\n",
      "Sort by Values OrderedDict([('token', 2), ('rice', 11), ('nice', 12), ('onion', 23), ('apple', 43), ('flower', 99)])\n"
     ]
    }
   ],
   "source": [
    "my_dict = dict(nice = 12, apple = 43, onion = 23, flower = 99, rice = 11, token = 2)\n",
    "print(f'Sort by keys {sort_by(my_dict)}')\n",
    "print(f'Sort by Values {sort_by(my_dict, False)}')"
   ]
  }
 ],
 "metadata": {
  "kernelspec": {
   "display_name": "Python 3.10.2 64-bit",
   "language": "python",
   "name": "python3"
  },
  "language_info": {
   "codemirror_mode": {
    "name": "ipython",
    "version": 3
   },
   "file_extension": ".py",
   "mimetype": "text/x-python",
   "name": "python",
   "nbconvert_exporter": "python",
   "pygments_lexer": "ipython3",
   "version": "3.10.2"
  },
  "vscode": {
   "interpreter": {
    "hash": "2469a70536e4d2335a2ea8907942d0699c37342a371ac185bdb5b0aa6f073890"
   }
  }
 },
 "nbformat": 4,
 "nbformat_minor": 4
}
