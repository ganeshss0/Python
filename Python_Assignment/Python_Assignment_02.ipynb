{
 "cells": [
  {
   "cell_type": "markdown",
   "metadata": {},
   "source": [
    "# Python Assignment 2"
   ]
  },
  {
   "cell_type": "markdown",
   "metadata": {},
   "source": [
    "### Answer 1"
   ]
  },
  {
   "cell_type": "markdown",
   "metadata": {},
   "source": [
    "Convert Kilometers to Miles."
   ]
  },
  {
   "cell_type": "code",
   "execution_count": 1,
   "metadata": {},
   "outputs": [
    {
     "data": {
      "text/plain": [
       "62.137100000000004"
      ]
     },
     "execution_count": 1,
     "metadata": {},
     "output_type": "execute_result"
    }
   ],
   "source": [
    "kilomtr_miles = lambda x: x * 0.621371\n",
    "kilomtr_miles(100)"
   ]
  },
  {
   "cell_type": "markdown",
   "metadata": {},
   "source": [
    "### Answer 2"
   ]
  },
  {
   "cell_type": "markdown",
   "metadata": {},
   "source": [
    "Convert Celsius into Fahrenheit."
   ]
  },
  {
   "cell_type": "code",
   "execution_count": 2,
   "metadata": {},
   "outputs": [
    {
     "data": {
      "text/plain": [
       "212.0"
      ]
     },
     "execution_count": 2,
     "metadata": {},
     "output_type": "execute_result"
    }
   ],
   "source": [
    "celsius_fahren = lambda c: (c * (9 / 5)) + 32\n",
    "celsius_fahren(100)"
   ]
  },
  {
   "cell_type": "markdown",
   "metadata": {},
   "source": [
    "### Answer 3"
   ]
  },
  {
   "cell_type": "markdown",
   "metadata": {},
   "source": [
    "Prints Calendar"
   ]
  },
  {
   "cell_type": "code",
   "execution_count": 3,
   "metadata": {},
   "outputs": [
    {
     "name": "stdout",
     "output_type": "stream",
     "text": [
      "   December 2022\n",
      "Mo Tu We Th Fr Sa Su\n",
      "          1  2  3  4\n",
      " 5  6  7  8  9 10 11\n",
      "12 13 14 15 16 17 18\n",
      "19 20 21 22 23 24 25\n",
      "26 27 28 29 30 31\n",
      "\n"
     ]
    }
   ],
   "source": [
    "def calendar_printer(year: int, month: int) -> str:\n",
    "    '''Return a string containing the month of input parameter.'''\n",
    "    import calendar\n",
    "    if not (0 < month < 13):\n",
    "        raise ValueError('Not a valid Month.')\n",
    "    _ = calendar.TextCalendar()\n",
    "    return _.formatmonth(theyear= year, themonth = month)\n",
    "\n",
    "print(calendar_printer(2022, 12))"
   ]
  },
  {
   "cell_type": "markdown",
   "metadata": {},
   "source": [
    "### Answer 4"
   ]
  },
  {
   "cell_type": "markdown",
   "metadata": {},
   "source": [
    "Returns roots of quadratic equation."
   ]
  },
  {
   "cell_type": "code",
   "execution_count": 4,
   "metadata": {},
   "outputs": [
    {
     "data": {
      "text/plain": [
       "((-0.75-1.1989578808281798j), (-0.75+1.1989578808281798j))"
      ]
     },
     "execution_count": 4,
     "metadata": {},
     "output_type": "execute_result"
    }
   ],
   "source": [
    "def quadratic_roots(**coficnt: '(a = 1, b = 2, c = 3)') -> tuple:\n",
    "    coficnt['b'] *= -1\n",
    "    D = (coficnt['b'] ** 2) - (4 * coficnt['a'] * coficnt['c'])\n",
    "    if D >= 0:\n",
    "        return (coficnt['b'] - (D ** .5) ) / (2 * coficnt['a']), (coficnt['b'] + (D **.5) ) / (2 * coficnt['a'])\n",
    "    else:\n",
    "        D *= -1\n",
    "        return (coficnt['b'] - complex(imag = (D ** .5))) / (2 * coficnt['a']), ( coficnt['b'] + complex(imag = (D ** .5))) / (2 * coficnt['a'])\n",
    "\n",
    "quadratic_roots(a = 2, b = 3, c = 4)                                         # return roots of 2x^2 + 3x + 4 = 0"
   ]
  },
  {
   "cell_type": "markdown",
   "metadata": {},
   "source": [
    "### Answer 5"
   ]
  },
  {
   "cell_type": "markdown",
   "metadata": {},
   "source": [
    "Swapping variables"
   ]
  },
  {
   "cell_type": "code",
   "execution_count": 5,
   "metadata": {},
   "outputs": [
    {
     "name": "stdout",
     "output_type": "stream",
     "text": [
      "a: I am A\n",
      "b: I am B\n",
      "*********\n",
      "a: I am B\n",
      "b: I am A\n"
     ]
    }
   ],
   "source": [
    "a = 'I am A'\n",
    "b = 'I am B'\n",
    "print(f'a: {a}')\n",
    "print(f'b: {b}', end = '\\n*********\\n')\n",
    "a, b = b, a\n",
    "print(f'a: {a}')\n",
    "print(f'b: {b}')"
   ]
  }
 ],
 "metadata": {
  "kernelspec": {
   "display_name": "Python 3 (ipykernel)",
   "language": "python",
   "name": "python3"
  },
  "language_info": {
   "codemirror_mode": {
    "name": "ipython",
    "version": 3
   },
   "file_extension": ".py",
   "mimetype": "text/x-python",
   "name": "python",
   "nbconvert_exporter": "python",
   "pygments_lexer": "ipython3",
   "version": "3.10.6"
  }
 },
 "nbformat": 4,
 "nbformat_minor": 4
}
