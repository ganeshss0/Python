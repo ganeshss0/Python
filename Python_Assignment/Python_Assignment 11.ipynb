{
 "cells": [
  {
   "cell_type": "markdown",
   "metadata": {},
   "source": [
    "# Python Assignment "
   ]
  },
  {
   "cell_type": "markdown",
   "metadata": {},
   "source": [
    "### Answer 1"
   ]
  },
  {
   "cell_type": "markdown",
   "metadata": {},
   "source": [
    "Words which are greater than given length"
   ]
  },
  {
   "cell_type": "code",
   "execution_count": 1,
   "metadata": {},
   "outputs": [],
   "source": [
    "def word_greater_than(words: list, length: int) -> list:\n",
    "    '''Return list of string greater than given lenght'''\n",
    "    return [word for word in words if len(word) > length]"
   ]
  },
  {
   "cell_type": "code",
   "execution_count": 2,
   "metadata": {},
   "outputs": [
    {
     "data": {
      "text/plain": [
       "['flower', 'onion', 'super']"
      ]
     },
     "execution_count": 2,
     "metadata": {},
     "output_type": "execute_result"
    }
   ],
   "source": [
    "words = ['rice', 'flower', 'onion', 'ab', 'gb', 'in', 'rgb', 'super']\n",
    "word_greater_than(words, length = 4)                                   # return only words greater than 4"
   ]
  },
  {
   "cell_type": "markdown",
   "metadata": {},
   "source": [
    "### Answer 2"
   ]
  },
  {
   "cell_type": "markdown",
   "metadata": {},
   "source": [
    "Remove i-th character from a string"
   ]
  },
  {
   "cell_type": "code",
   "execution_count": 3,
   "metadata": {},
   "outputs": [],
   "source": [
    "def remove_char(string: str, index: int) -> str:\n",
    "    '''Return a string after removing index character.'''\n",
    "    if index < len(string):\n",
    "        return string[:index] + string[index + 1:]\n",
    "    else:\n",
    "        raise IndexError('Index out of range.')"
   ]
  },
  {
   "cell_type": "code",
   "execution_count": 4,
   "metadata": {},
   "outputs": [
    {
     "data": {
      "text/plain": [
       "'This is old'"
      ]
     },
     "execution_count": 4,
     "metadata": {},
     "output_type": "execute_result"
    }
   ],
   "source": [
    "remove_char('This is cold', 8)                                         # removes 9 character from string"
   ]
  },
  {
   "cell_type": "markdown",
   "metadata": {},
   "source": [
    "### Answer 3"
   ]
  },
  {
   "cell_type": "markdown",
   "metadata": {},
   "source": [
    "Split and join a string"
   ]
  },
  {
   "cell_type": "code",
   "execution_count": 5,
   "metadata": {},
   "outputs": [],
   "source": [
    "def split_join(string: str, splitter: str) -> str:\n",
    "    '''Return a string after splitting a string.'''\n",
    "    return ''.join(string.split(sep = splitter))"
   ]
  },
  {
   "cell_type": "code",
   "execution_count": 6,
   "metadata": {},
   "outputs": [
    {
     "data": {
      "text/plain": [
       "'This is a nice string.'"
      ]
     },
     "execution_count": 6,
     "metadata": {},
     "output_type": "execute_result"
    }
   ],
   "source": [
    "split_join('This is, a nice, string.', splitter=',')                                           # removes all commas from string"
   ]
  },
  {
   "cell_type": "markdown",
   "metadata": {},
   "source": [
    "### Answer 4"
   ]
  },
  {
   "cell_type": "markdown",
   "metadata": {},
   "source": [
    "String is binary or not"
   ]
  },
  {
   "cell_type": "code",
   "execution_count": 7,
   "metadata": {},
   "outputs": [],
   "source": [
    "def is_binary(string: str) -> bool:\n",
    "    '''Return True if the string is a binary.'''\n",
    "    try:\n",
    "        int(string, base = 2)\n",
    "        return True\n",
    "    except ValueError as v:\n",
    "        return False"
   ]
  },
  {
   "cell_type": "code",
   "execution_count": 8,
   "metadata": {},
   "outputs": [
    {
     "data": {
      "text/plain": [
       "True"
      ]
     },
     "execution_count": 8,
     "metadata": {},
     "output_type": "execute_result"
    }
   ],
   "source": [
    "is_binary('1011')                                         # return as 1111 is binary"
   ]
  },
  {
   "cell_type": "markdown",
   "metadata": {},
   "source": [
    "### Answer 5"
   ]
  },
  {
   "cell_type": "markdown",
   "metadata": {},
   "source": [
    "Find uncommon Words"
   ]
  },
  {
   "cell_type": "code",
   "execution_count": 9,
   "metadata": {},
   "outputs": [],
   "source": [
    "def uncommon_words(string_1: str , string_2: str) -> list:\n",
    "    '''Return a list of uncommon words from two strings'''\n",
    "    uncommon = []\n",
    "    for word in zip(string_1.split(), string_2.split()):\n",
    "        if not word[0] in string_2:\n",
    "            uncommon.append(word[0])\n",
    "        if not word[1] in string_1:\n",
    "            uncommon.append(word[1])\n",
    "    return uncommon"
   ]
  },
  {
   "cell_type": "code",
   "execution_count": 10,
   "metadata": {},
   "outputs": [
    {
     "data": {
      "text/plain": [
       "['nice', 'cold', 'rice', 'icecream']"
      ]
     },
     "execution_count": 10,
     "metadata": {},
     "output_type": "execute_result"
    }
   ],
   "source": [
    "string_1 = 'This is nice like rice'\n",
    "string_2 = 'This is cold like icecream'\n",
    "uncommon_words(string_1, string_2)                                                # return uncommon words from both strings"
   ]
  },
  {
   "cell_type": "markdown",
   "metadata": {},
   "source": [
    "### Answer 6"
   ]
  },
  {
   "cell_type": "markdown",
   "metadata": {},
   "source": [
    "Duplicate characters in a string"
   ]
  },
  {
   "cell_type": "code",
   "execution_count": 11,
   "metadata": {},
   "outputs": [],
   "source": [
    "def duplicates(string: str) -> dict:\n",
    "    '''Return a dict contains occurance of all charcter in string.'''\n",
    "    counter = {}\n",
    "    for w in string:\n",
    "        if w in counter:\n",
    "            counter[w] += 1\n",
    "        else:\n",
    "            counter[w] = 1\n",
    "    return counter"
   ]
  },
  {
   "cell_type": "code",
   "execution_count": 12,
   "metadata": {},
   "outputs": [
    {
     "name": "stdout",
     "output_type": "stream",
     "text": [
      "{'T': 1, 'h': 1, 'i': 5, 's': 2, ' ': 4, 'n': 1, 'c': 2, 'e': 3, 'l': 1, 'k': 1, 'r': 1, '.': 1}\n"
     ]
    }
   ],
   "source": [
    "print(duplicates('This is nice like rice.'))"
   ]
  },
  {
   "cell_type": "markdown",
   "metadata": {},
   "source": [
    "### Answer 7"
   ]
  },
  {
   "cell_type": "markdown",
   "metadata": {},
   "source": [
    "Contais a special Character"
   ]
  },
  {
   "cell_type": "code",
   "execution_count": 13,
   "metadata": {},
   "outputs": [],
   "source": [
    "def is_special(string: str) -> bool:\n",
    "    '''Return True if string contains a special character.'''\n",
    "    from string import whitespace as ws\n",
    "    special = [w for w in string if w in ws]\n",
    "    if special:\n",
    "        return True, special\n",
    "    else:\n",
    "        return False, special"
   ]
  },
  {
   "cell_type": "code",
   "execution_count": 14,
   "metadata": {},
   "outputs": [
    {
     "data": {
      "text/plain": [
       "(True, [' ', ' ', ' ', '\\n', '\\t'])"
      ]
     },
     "execution_count": 14,
     "metadata": {},
     "output_type": "execute_result"
    }
   ],
   "source": [
    "is_special('this is a \\nnormal\\tstring')                                    # return True as it contains special character"
   ]
  }
 ],
 "metadata": {
  "kernelspec": {
   "display_name": "Python 3.10.2 64-bit",
   "language": "python",
   "name": "python3"
  },
  "language_info": {
   "codemirror_mode": {
    "name": "ipython",
    "version": 3
   },
   "file_extension": ".py",
   "mimetype": "text/x-python",
   "name": "python",
   "nbconvert_exporter": "python",
   "pygments_lexer": "ipython3",
   "version": "3.10.2"
  },
  "vscode": {
   "interpreter": {
    "hash": "2469a70536e4d2335a2ea8907942d0699c37342a371ac185bdb5b0aa6f073890"
   }
  }
 },
 "nbformat": 4,
 "nbformat_minor": 4
}
