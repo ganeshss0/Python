{
 "cells": [
  {
   "cell_type": "markdown",
   "metadata": {},
   "source": [
    "# Python Assignment 14"
   ]
  },
  {
   "cell_type": "markdown",
   "metadata": {},
   "source": [
    "### Answer 1"
   ]
  },
  {
   "cell_type": "markdown",
   "metadata": {},
   "source": [
    "Class that Generate number divisible by 7."
   ]
  },
  {
   "cell_type": "code",
   "execution_count": 1,
   "metadata": {},
   "outputs": [],
   "source": [
    "class Generator:\n",
    "    def __init__(self, n: int) -> None:\n",
    "        self.n = n\n",
    "\n",
    "    @property\n",
    "    def is_divisible_by_7(self) -> iter:\n",
    "        '''Return a itertor of number divisible by 7.'''\n",
    "        for i in range(7, self.n):\n",
    "            if i%7 == 0:\n",
    "                yield i"
   ]
  },
  {
   "cell_type": "code",
   "execution_count": 2,
   "metadata": {},
   "outputs": [
    {
     "data": {
      "text/plain": [
       "[7, 14, 21, 28, 35, 42, 49, 56, 63]"
      ]
     },
     "execution_count": 2,
     "metadata": {},
     "output_type": "execute_result"
    }
   ],
   "source": [
    "num = Generator(70)\n",
    "list(num.is_divisible_by_7)"
   ]
  },
  {
   "cell_type": "markdown",
   "metadata": {},
   "source": [
    "### Answer 2"
   ]
  },
  {
   "cell_type": "markdown",
   "metadata": {},
   "source": [
    "Frequency of all words"
   ]
  },
  {
   "cell_type": "code",
   "execution_count": 3,
   "metadata": {},
   "outputs": [],
   "source": [
    "def frequency_counter(sequence: str) -> dict:\n",
    "    '''Return the frequency of all words in the sequence.'''\n",
    "    from collections import Counter\n",
    "    return Counter(sequence.split())"
   ]
  },
  {
   "cell_type": "code",
   "execution_count": 4,
   "metadata": {},
   "outputs": [
    {
     "data": {
      "text/plain": [
       "Counter({'New': 1,\n",
       "         'to': 1,\n",
       "         'Python': 5,\n",
       "         'or': 2,\n",
       "         'choosing': 1,\n",
       "         'between': 1,\n",
       "         '2': 2,\n",
       "         'and': 1,\n",
       "         '3?': 1,\n",
       "         'Read': 1,\n",
       "         '3.': 1})"
      ]
     },
     "execution_count": 4,
     "metadata": {},
     "output_type": "execute_result"
    }
   ],
   "source": [
    "String = 'New to Python or choosing between Python 2 and Python 3? Read Python 2 or Python 3.'\n",
    "frequency_counter(String)"
   ]
  },
  {
   "cell_type": "markdown",
   "metadata": {},
   "source": [
    "### Answer 3"
   ]
  },
  {
   "cell_type": "markdown",
   "metadata": {},
   "source": [
    "A person Class with its two child Female and Male."
   ]
  },
  {
   "cell_type": "code",
   "execution_count": 5,
   "metadata": {},
   "outputs": [],
   "source": [
    "class Female:\n",
    "    def __init__(self):\n",
    "        pass\n",
    "\n",
    "    def getGender(self) -> None:\n",
    "        print('Female')\n",
    "\n",
    "\n",
    "class Male:\n",
    "    def __init__(self):\n",
    "        pass\n",
    "\n",
    "    def getGender(self) -> None:\n",
    "        print('Male')\n",
    "\n",
    "\n",
    "class Person(Female, Male):\n",
    "    def __init__(self):\n",
    "        pass"
   ]
  },
  {
   "cell_type": "code",
   "execution_count": 6,
   "metadata": {},
   "outputs": [
    {
     "name": "stdout",
     "output_type": "stream",
     "text": [
      "Female\n"
     ]
    }
   ],
   "source": [
    "p = Person()\n",
    "p.getGender()                                                       # it will call the getGender method in the Female class"
   ]
  },
  {
   "cell_type": "markdown",
   "metadata": {},
   "source": [
    "### Answer 4"
   ]
  },
  {
   "cell_type": "markdown",
   "metadata": {},
   "source": [
    "Sentense Generator"
   ]
  },
  {
   "cell_type": "code",
   "execution_count": 7,
   "metadata": {},
   "outputs": [],
   "source": [
    "def sentense_generator(subject: list, verbs: list, object: list) -> iter:\n",
    "    '''Return a iterator after generating sentenses from given subject, verb and object.'''\n",
    "    for s in subject:\n",
    "        for v in verbs:\n",
    "            for o in object:\n",
    "                yield f'{s} {v} {o}.'"
   ]
  },
  {
   "cell_type": "code",
   "execution_count": 8,
   "metadata": {},
   "outputs": [
    {
     "data": {
      "text/plain": [
       "['I Play Hockey.',\n",
       " 'I Play Football.',\n",
       " 'I Love Hockey.',\n",
       " 'I Love Football.',\n",
       " 'You Play Hockey.',\n",
       " 'You Play Football.',\n",
       " 'You Love Hockey.',\n",
       " 'You Love Football.']"
      ]
     },
     "execution_count": 8,
     "metadata": {},
     "output_type": "execute_result"
    }
   ],
   "source": [
    "subject = ['I', 'You']\n",
    "verb = ['Play', 'Love']\n",
    "object = ['Hockey', 'Football']\n",
    "list(sentense_generator(subject, verb, object))"
   ]
  },
  {
   "cell_type": "markdown",
   "metadata": {},
   "source": [
    "### Answer 5"
   ]
  },
  {
   "cell_type": "markdown",
   "metadata": {},
   "source": [
    "Compress and Decompress a string"
   ]
  },
  {
   "cell_type": "code",
   "execution_count": 9,
   "metadata": {},
   "outputs": [
    {
     "name": "stdout",
     "output_type": "stream",
     "text": [
      "Original Size: 81\n",
      "Compressed Size: 56\n",
      "Decompressed Size: 81\n"
     ]
    }
   ],
   "source": [
    "import zlib, sys\n",
    "\n",
    "String = b\"hello world!hello world!hello world!hello world!\"\n",
    "compressed = zlib.compress(String, level = 9)\n",
    "decompressed = zlib.decompress(compressed)\n",
    "\n",
    "print('Original Size:', sys.getsizeof(String))\n",
    "print('Compressed Size:', sys.getsizeof(compressed))\n",
    "print('Decompressed Size:', sys.getsizeof(decompressed))"
   ]
  },
  {
   "cell_type": "markdown",
   "metadata": {},
   "source": [
    "### Answer 6"
   ]
  },
  {
   "cell_type": "markdown",
   "metadata": {},
   "source": [
    "Binary Search"
   ]
  },
  {
   "cell_type": "code",
   "execution_count": 10,
   "metadata": {},
   "outputs": [],
   "source": [
    "def binary_search(data: list, n: int) -> int:\n",
    "    '''Return the index of n in data using binary search if not found the None'''\n",
    "    left = 0\n",
    "    right = len(data)\n",
    "\n",
    "    while left != right:\n",
    "        i = (left + right)//2\n",
    "        if data[i] == n:\n",
    "            return i\n",
    "        elif data[i] > n:\n",
    "            right = i\n",
    "        elif data[i] < n:\n",
    "            left = i"
   ]
  },
  {
   "cell_type": "code",
   "execution_count": 11,
   "metadata": {},
   "outputs": [
    {
     "data": {
      "text/plain": [
       "7"
      ]
     },
     "execution_count": 11,
     "metadata": {},
     "output_type": "execute_result"
    }
   ],
   "source": [
    "binary_search(data = [2, 3, 4, 5, 6, 7, 8, 99, 199, 221, 331, 413], n = 99)                      # return the index of 99         "
   ]
  }
 ],
 "metadata": {
  "kernelspec": {
   "display_name": "Python 3.10.2 64-bit",
   "language": "python",
   "name": "python3"
  },
  "language_info": {
   "codemirror_mode": {
    "name": "ipython",
    "version": 3
   },
   "file_extension": ".py",
   "mimetype": "text/x-python",
   "name": "python",
   "nbconvert_exporter": "python",
   "pygments_lexer": "ipython3",
   "version": "3.10.2"
  },
  "vscode": {
   "interpreter": {
    "hash": "2469a70536e4d2335a2ea8907942d0699c37342a371ac185bdb5b0aa6f073890"
   }
  }
 },
 "nbformat": 4,
 "nbformat_minor": 4
}
