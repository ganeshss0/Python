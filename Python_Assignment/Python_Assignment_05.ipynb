{
 "cells": [
  {
   "cell_type": "markdown",
   "metadata": {},
   "source": [
    "# Python Assignment 5"
   ]
  },
  {
   "cell_type": "markdown",
   "metadata": {},
   "source": [
    "### Answer 1"
   ]
  },
  {
   "cell_type": "markdown",
   "metadata": {},
   "source": [
    "Least Common Multiple"
   ]
  },
  {
   "cell_type": "code",
   "execution_count": 1,
   "metadata": {},
   "outputs": [],
   "source": [
    "def math_lcm(*args) -> int:\n",
    "    '''Return LCM of numbers.'''\n",
    "    import math                                    # importing math module\n",
    "    maxx = max(args)                               # biggest \n",
    "    sums, prod= 0, math.prod(args)\n",
    "\n",
    "    while sums < prod:\n",
    "        for num in args:\n",
    "            if maxx%num == 0:\n",
    "                sums += 1\n",
    "            else:\n",
    "                maxx += 1\n",
    "    return maxx"
   ]
  },
  {
   "cell_type": "code",
   "execution_count": 2,
   "metadata": {},
   "outputs": [
    {
     "data": {
      "text/plain": [
       "300"
      ]
     },
     "execution_count": 2,
     "metadata": {},
     "output_type": "execute_result"
    }
   ],
   "source": [
    "math_lcm(12, 75, 15)"
   ]
  },
  {
   "cell_type": "markdown",
   "metadata": {},
   "source": [
    "### Answer 2"
   ]
  },
  {
   "cell_type": "markdown",
   "metadata": {},
   "source": [
    "Highest Common Factor"
   ]
  },
  {
   "cell_type": "code",
   "execution_count": 3,
   "metadata": {},
   "outputs": [],
   "source": [
    "def math_hcf(*args) -> int:\n",
    "    '''Return HCF of given numbers.'''\n",
    "    minn = min(args)                               # smallest number\n",
    "    sums = 0\n",
    "\n",
    "    while sums <= minn:\n",
    "        for num in args:\n",
    "            if num%minn == 0:\n",
    "                sums += 1\n",
    "            else:\n",
    "                minn -= 1\n",
    "    return minn"
   ]
  },
  {
   "cell_type": "code",
   "execution_count": 4,
   "metadata": {},
   "outputs": [
    {
     "data": {
      "text/plain": [
       "7"
      ]
     },
     "execution_count": 4,
     "metadata": {},
     "output_type": "execute_result"
    }
   ],
   "source": [
    "math_hcf(21, 91, 49)                               # HCF of 21, 91, 49 = 7"
   ]
  },
  {
   "cell_type": "raw",
   "metadata": {},
   "source": [
    "1. Write a Python Program to Find LCM?\n",
    "2. Write a Python Program to Find HCF?\n",
    "3. Write a Python Program to Convert Decimal to Binary, Octal and Hexadecimal?\n",
    "4. Write a Python Program To Find ASCII value of a character?\n",
    "5. Write a Python Program to Make a Simple Calculator with 4 basic mathematical operations?"
   ]
  },
  {
   "cell_type": "markdown",
   "metadata": {},
   "source": [
    "### Answer 3"
   ]
  },
  {
   "cell_type": "markdown",
   "metadata": {},
   "source": [
    "Convert Decimal into Binary, Octal and Hexadecimal."
   ]
  },
  {
   "cell_type": "code",
   "execution_count": 5,
   "metadata": {},
   "outputs": [
    {
     "data": {
      "text/plain": [
       "{'bin': '0b1111011', 'oct': '0o173', 'hex': '0x7b'}"
      ]
     },
     "execution_count": 5,
     "metadata": {},
     "output_type": "execute_result"
    }
   ],
   "source": [
    "def convertor(decimal: int, binary: bool = False, octal: bool = False, hexa: bool = False, all: bool = True) -> str:\n",
    "    '''Converts decimal into binary, octal and hexadecimal.'''\n",
    "    if all:\n",
    "        return {'bin' : bin(decimal), 'oct' : oct(decimal), 'hex' : hex(decimal)}\n",
    "    elif binary: return bin(decimal)\n",
    "    elif octal: return oct(decimal)\n",
    "    elif hexa: return hex(decimal)\n",
    "\n",
    "convertor(decimal = 123, all = True)"
   ]
  },
  {
   "cell_type": "markdown",
   "metadata": {},
   "source": [
    "### Answer 4"
   ]
  },
  {
   "cell_type": "markdown",
   "metadata": {},
   "source": [
    "ASCII value of a character."
   ]
  },
  {
   "cell_type": "code",
   "execution_count": 6,
   "metadata": {},
   "outputs": [
    {
     "data": {
      "text/plain": [
       "97"
      ]
     },
     "execution_count": 6,
     "metadata": {},
     "output_type": "execute_result"
    }
   ],
   "source": [
    "# ascii value of character 'a'\n",
    "ord('a')"
   ]
  },
  {
   "cell_type": "markdown",
   "metadata": {},
   "source": [
    "### Answer 5"
   ]
  },
  {
   "cell_type": "markdown",
   "metadata": {},
   "source": [
    "Simple Calculator"
   ]
  },
  {
   "cell_type": "code",
   "execution_count": 7,
   "metadata": {},
   "outputs": [],
   "source": [
    "def simple_calc() -> None:\n",
    "    '''Prints simple arithmetic calculations'''\n",
    "    print('Press q to quit')\n",
    "    optr = {'+':(lambda x, y: x+y), '-':(lambda x, y: x-y), '*':(lambda x, y: x*y), '/': (lambda x, y: x/y)}\n",
    "    while True:\n",
    "        num_1 = input('Number: ')\n",
    "        if num_1.isnumeric():\n",
    "            num_1 = int(num_1)\n",
    "        else:\n",
    "            break\n",
    "        oper = input('+ - * / ')\n",
    "        if not oper in optr:\n",
    "            print('Not a valid operator!')\n",
    "            continue\n",
    "        num_2 = input('Number: ')\n",
    "        if num_2.isnumeric():\n",
    "            num_2 = int(num_2)\n",
    "        else:\n",
    "            break\n",
    "        print(f'{num_1} {oper} {num_2} = {optr[oper](num_1, num_2)}')"
   ]
  },
  {
   "cell_type": "code",
   "execution_count": 8,
   "metadata": {},
   "outputs": [
    {
     "name": "stdout",
     "output_type": "stream",
     "text": [
      "Press q to quit\n",
      "2 + 3 = 5\n",
      "10 - 3 = 7\n",
      "5 * 6 = 30\n",
      "14 / 7 = 2.0\n"
     ]
    }
   ],
   "source": [
    "simple_calc()"
   ]
  }
 ],
 "metadata": {
  "kernelspec": {
   "display_name": "Python 3.10.2 64-bit",
   "language": "python",
   "name": "python3"
  },
  "language_info": {
   "codemirror_mode": {
    "name": "ipython",
    "version": 3
   },
   "file_extension": ".py",
   "mimetype": "text/x-python",
   "name": "python",
   "nbconvert_exporter": "python",
   "pygments_lexer": "ipython3",
   "version": "3.10.2"
  },
  "vscode": {
   "interpreter": {
    "hash": "2469a70536e4d2335a2ea8907942d0699c37342a371ac185bdb5b0aa6f073890"
   }
  }
 },
 "nbformat": 4,
 "nbformat_minor": 4
}
