{
 "cells": [
  {
   "cell_type": "markdown",
   "metadata": {},
   "source": [
    "# Python Assignment 21"
   ]
  },
  {
   "cell_type": "markdown",
   "metadata": {},
   "source": [
    "### Answer 1"
   ]
  },
  {
   "cell_type": "markdown",
   "metadata": {},
   "source": [
    "Writing the today date into a text file."
   ]
  },
  {
   "cell_type": "code",
   "execution_count": 1,
   "metadata": {},
   "outputs": [],
   "source": [
    "from datetime import date\n",
    "with open('today.txt', 'w') as f:\n",
    "    f.write(str(date.today()))"
   ]
  },
  {
   "cell_type": "markdown",
   "metadata": {},
   "source": [
    "### Answer 2"
   ]
  },
  {
   "cell_type": "markdown",
   "metadata": {},
   "source": [
    "Reading the content of `today.txt` and storing it inside a variable."
   ]
  },
  {
   "cell_type": "code",
   "execution_count": 2,
   "metadata": {},
   "outputs": [
    {
     "data": {
      "text/plain": [
       "'2022-11-29'"
      ]
     },
     "execution_count": 2,
     "metadata": {},
     "output_type": "execute_result"
    }
   ],
   "source": [
    "with open('today.txt') as f:\n",
    "    today_string = f.read()\n",
    "today_string"
   ]
  },
  {
   "cell_type": "markdown",
   "metadata": {},
   "source": [
    "### Answer 3"
   ]
  },
  {
   "cell_type": "markdown",
   "metadata": {},
   "source": [
    "Converting a string to date object."
   ]
  },
  {
   "cell_type": "code",
   "execution_count": 3,
   "metadata": {},
   "outputs": [
    {
     "data": {
      "text/plain": [
       "datetime.date(2022, 11, 29)"
      ]
     },
     "execution_count": 3,
     "metadata": {},
     "output_type": "execute_result"
    }
   ],
   "source": [
    "# from datetime import date\n",
    "date.fromisoformat(today_string)"
   ]
  },
  {
   "cell_type": "markdown",
   "metadata": {},
   "source": [
    "### Answer 4"
   ]
  },
  {
   "cell_type": "markdown",
   "metadata": {},
   "source": [
    "Storing all the files name inside a list of current directory."
   ]
  },
  {
   "cell_type": "code",
   "execution_count": 4,
   "metadata": {},
   "outputs": [
    {
     "data": {
      "text/plain": [
       "['some_base.ipynb',\n",
       " 'README.md',\n",
       " 'sample-code.ipynb',\n",
       " 'some_python.ipynb',\n",
       " 'pswd.ipynb',\n",
       " 'Python_Assignment_21.ipynb',\n",
       " 'today.txt',\n",
       " 'newfile.log']"
      ]
     },
     "execution_count": 4,
     "metadata": {},
     "output_type": "execute_result"
    }
   ],
   "source": [
    "import os\n",
    "path = './'\n",
    "files = [file for file in os.listdir(path) if os.path.isfile(file)]\n",
    "files"
   ]
  },
  {
   "cell_type": "markdown",
   "metadata": {},
   "source": [
    "### Answer 5"
   ]
  },
  {
   "cell_type": "markdown",
   "metadata": {},
   "source": [
    "Storing all the files name inside a list of parent directory."
   ]
  },
  {
   "cell_type": "code",
   "execution_count": 5,
   "metadata": {},
   "outputs": [
    {
     "data": {
      "text/plain": [
       "['.profile', '.bash_logout', '.bashrc', '.bash_history', '.wget-hsts']"
      ]
     },
     "execution_count": 5,
     "metadata": {},
     "output_type": "execute_result"
    }
   ],
   "source": [
    "import os\n",
    "path = '../'\n",
    "files = [file for file in os.listdir(path) if os.path.isfile(f'../{file}')]\n",
    "files"
   ]
  },
  {
   "cell_type": "markdown",
   "metadata": {},
   "source": [
    "### Answer 6"
   ]
  },
  {
   "cell_type": "code",
   "execution_count": 6,
   "metadata": {},
   "outputs": [
    {
     "name": "stdout",
     "output_type": "stream",
     "text": [
      "Process start 1669707102.587666\n",
      "Function_1 sleep for 5 seconds, Time 07:31:47 1669707107\n",
      "Function_2 sleep for 3 seconds, Time 07:31:50 1669707110\n",
      "Function_3 sleep for 4 seconds, Time 07:31:54 1669707114\n",
      "Process End 1669707114.680981 Difference 12.09331488609314\n"
     ]
    }
   ],
   "source": [
    "import multiprocessing, time, random                         # modules\n",
    "\n",
    "def function_1() -> None:                                  \n",
    "    _ = random.randint(1,5)\n",
    "    time.sleep(_)\n",
    "    print(f'Function_1 sleep for {_} seconds, Time', time.strftime('%H:%M:%S %s'))\n",
    "          \n",
    "def function_2() -> None:\n",
    "    _ = random.randint(1,5)\n",
    "    time.sleep(_)\n",
    "    print(f'Function_2 sleep for {_} seconds, Time', time.strftime('%H:%M:%S %s'))\n",
    "\n",
    "def function_3() -> None:\n",
    "    _ = random.randint(1,5)\n",
    "    time.sleep(_)\n",
    "    print(f'Function_3 sleep for {_} seconds, Time', time.strftime('%H:%M:%S %s'))\n",
    "\n",
    "process_1 = multiprocessing.Process(target = function_1)                                # creating a Process of each function\n",
    "process_2 = multiprocessing.Process(target = function_2)\n",
    "process_3 = multiprocessing.Process(target = function_3)\n",
    "\n",
    "start = time.time()                                                                    # time when executing start\n",
    "print('Process start', start)\n",
    "\n",
    "# starting processes\n",
    "process_1.start()\n",
    "process_1.join()\n",
    "\n",
    "process_2.start()\n",
    "process_2.join()\n",
    "\n",
    "process_3.start()\n",
    "process_3.join()\n",
    "\n",
    "end = time.time()                                                                  # time when executing stops\n",
    "print('Process End',end,'Difference',end-start)"
   ]
  },
  {
   "cell_type": "markdown",
   "metadata": {},
   "source": [
    "### Answer 7"
   ]
  },
  {
   "cell_type": "markdown",
   "metadata": {},
   "source": [
    "Creating a date object from date of birth."
   ]
  },
  {
   "cell_type": "code",
   "execution_count": 7,
   "metadata": {},
   "outputs": [
    {
     "data": {
      "text/plain": [
       "datetime.date(2000, 1, 1)"
      ]
     },
     "execution_count": 7,
     "metadata": {},
     "output_type": "execute_result"
    }
   ],
   "source": [
    "from datetime import date\n",
    "dob = date.fromisoformat('2000-01-01')\n",
    "dob"
   ]
  },
  {
   "cell_type": "markdown",
   "metadata": {},
   "source": [
    "### Answer 8"
   ]
  },
  {
   "cell_type": "markdown",
   "metadata": {},
   "source": [
    "Weekday of `dob` date object is Friday."
   ]
  },
  {
   "cell_type": "code",
   "execution_count": 8,
   "metadata": {},
   "outputs": [
    {
     "data": {
      "text/plain": [
       "5"
      ]
     },
     "execution_count": 8,
     "metadata": {},
     "output_type": "execute_result"
    }
   ],
   "source": [
    "dob.weekday()                    # where 1 being Monday and 7 being Sunday, so 5 means Friday"
   ]
  },
  {
   "cell_type": "markdown",
   "metadata": {},
   "source": [
    "### Answer 9"
   ]
  },
  {
   "cell_type": "markdown",
   "metadata": {},
   "source": [
    "`10000 Days` from `dob` date object ends in 2027."
   ]
  },
  {
   "cell_type": "code",
   "execution_count": 9,
   "metadata": {},
   "outputs": [
    {
     "name": "stdout",
     "output_type": "stream",
     "text": [
      "2027-05-19\n"
     ]
    }
   ],
   "source": [
    "from datetime import timedelta\n",
    "when_10000 = dob + timedelta(days = 10000)\n",
    "print(when_10000)"
   ]
  }
 ],
 "metadata": {
  "kernelspec": {
   "display_name": "Python 3 (ipykernel)",
   "language": "python",
   "name": "python3"
  },
  "language_info": {
   "codemirror_mode": {
    "name": "ipython",
    "version": 3
   },
   "file_extension": ".py",
   "mimetype": "text/x-python",
   "name": "python",
   "nbconvert_exporter": "python",
   "pygments_lexer": "ipython3",
   "version": "3.10.6"
  }
 },
 "nbformat": 4,
 "nbformat_minor": 4
}
