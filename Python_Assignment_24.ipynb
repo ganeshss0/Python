{
 "cells": [
  {
   "cell_type": "markdown",
   "metadata": {},
   "source": [
    "# Python Assignment 24"
   ]
  },
  {
   "cell_type": "markdown",
   "metadata": {},
   "source": [
    "### Answer 1"
   ]
  },
  {
   "cell_type": "markdown",
   "metadata": {},
   "source": [
    "Both `def` and `lambda` create a function, while in function created from `def` keyword are more structured we can add nested function, if-else, loops recursion but on the other hand `lambda` are used for one-liner expression used in filter or map."
   ]
  },
  {
   "cell_type": "markdown",
   "metadata": {},
   "source": [
    "### Answer 2"
   ]
  },
  {
   "cell_type": "markdown",
   "metadata": {},
   "source": [
    "1. We have to write less code in lambda function.\n",
    "2. Lambda function are best for one linar function\n",
    "3. It can handle only one expression.\n"
   ]
  },
  {
   "cell_type": "code",
   "execution_count": 1,
   "metadata": {},
   "outputs": [
    {
     "data": {
      "text/plain": [
       "<function __main__.<lambda>(x)>"
      ]
     },
     "execution_count": 1,
     "metadata": {},
     "output_type": "execute_result"
    }
   ],
   "source": [
    "# Syntax of lambda function.\n",
    "lambda x: x + x"
   ]
  },
  {
   "cell_type": "markdown",
   "metadata": {},
   "source": [
    "### Answer 3"
   ]
  },
  {
   "cell_type": "markdown",
   "metadata": {},
   "source": [
    "Use case of map, filter and reduce functions."
   ]
  },
  {
   "cell_type": "code",
   "execution_count": 2,
   "metadata": {},
   "outputs": [],
   "source": [
    "numbrs = [1, 2, 3, 4, 5, 6, 7, 8, 9, 10]\n",
    "square = lambda x: x**2                          # function that return square of a integer\n",
    "even = lambda x: x%2 == 0                        # function that return if number is even else false\n",
    "sums = lambda x, y: x  + y                       # function return the sum of two integers\n",
    "\n",
    "from functools import reduce                     # importing reduce function\n",
    "squared = map(square, numbrs)                    # map the square function on numbers list\n",
    "evens = filter(even, numbrs)                     # filtering those element of number list for which evens return true\n",
    "sumed = reduce(sums, numbrs)                     # sum the all elements of list like an arithmetic summation"
   ]
  },
  {
   "cell_type": "code",
   "execution_count": 3,
   "metadata": {},
   "outputs": [
    {
     "data": {
      "text/plain": [
       "(1, 4, 9, 16, 25, 36, 49, 64, 81, 100)"
      ]
     },
     "execution_count": 3,
     "metadata": {},
     "output_type": "execute_result"
    }
   ],
   "source": [
    "tuple(squared)                                   # squared is an map itertor which contains square of number list."
   ]
  },
  {
   "cell_type": "code",
   "execution_count": 4,
   "metadata": {},
   "outputs": [
    {
     "data": {
      "text/plain": [
       "(2, 4, 6, 8, 10)"
      ]
     },
     "execution_count": 4,
     "metadata": {},
     "output_type": "execute_result"
    }
   ],
   "source": [
    "tuple(evens)                                     # even is a filter itertor which contains all even numbers."
   ]
  },
  {
   "cell_type": "code",
   "execution_count": 5,
   "metadata": {},
   "outputs": [
    {
     "data": {
      "text/plain": [
       "55"
      ]
     },
     "execution_count": 5,
     "metadata": {},
     "output_type": "execute_result"
    }
   ],
   "source": [
    "sumed                                            # sumed is integer which is sum of all elements of number list."
   ]
  },
  {
   "cell_type": "markdown",
   "metadata": {},
   "source": [
    "### Answer 4"
   ]
  },
  {
   "cell_type": "markdown",
   "metadata": {},
   "source": [
    "Function annotations are arbitary python expression that are associated with various part of functions, python does not attach any meaning to these annotations, these also does not effect the python runtime environment. These are help full in documentation or pydoc."
   ]
  },
  {
   "cell_type": "code",
   "execution_count": 6,
   "metadata": {},
   "outputs": [
    {
     "name": "stdout",
     "output_type": "stream",
     "text": [
      "The Candy had been wrapped.\n"
     ]
    }
   ],
   "source": [
    "# annotation are use full for documentations\n",
    "# A simple use of decorator and function annotations.\n",
    "\n",
    "def toffee_wrapper(a: 'function', b: dict = {}, c: list = [],  *args, **kargs) -> 'function':\n",
    "    '''Return a function.'''\n",
    "    def toffee(toffee_name = 'Toffee', size: int = 10, dimension: tuple = (0,0)) -> None:\n",
    "        '''Prints a confirmation when the size and dimension of toffee are same.'''\n",
    "        if a(toffee_name, size, dimension):\n",
    "            print(f'The {toffee_name} had been wrapped.')\n",
    "        else:\n",
    "            print(f'The {toffee_name} can\\'t be wrapped')\n",
    "    return toffee\n",
    "\n",
    "@toffee_wrapper\n",
    "def confirmation_toffee(toffee_name: str= 'Toffee', size: int = 10, dimension: tuple = (5, 5)) -> bool:\n",
    "    '''Return True if size is equal to the sum of dimension.'''\n",
    "    if size == sum(dimension):\n",
    "            return True\n",
    "    else:\n",
    "        return False\n",
    "    \n",
    "confirmation_toffee(toffee_name = 'Candy', size = 11, dimension = (6, 5))"
   ]
  },
  {
   "cell_type": "markdown",
   "metadata": {},
   "source": [
    "### Answer 5"
   ]
  },
  {
   "cell_type": "markdown",
   "metadata": {},
   "source": [
    "A function that calls itself inside it are recursive function, those comes handy when working with nested data structure."
   ]
  },
  {
   "cell_type": "code",
   "execution_count": 7,
   "metadata": {},
   "outputs": [
    {
     "data": {
      "text/plain": [
       "720"
      ]
     },
     "execution_count": 7,
     "metadata": {},
     "output_type": "execute_result"
    }
   ],
   "source": [
    "# a recursive function to find factorial of a number.\n",
    "def factorial(n:int) -> int:\n",
    "    '''Returns a factorial of a number.'''\n",
    "    if n < 2:\n",
    "        return 1\n",
    "    else:\n",
    "        return n * factorial(n - 1)                               # Recursive function calling itself\n",
    "    \n",
    "factorial(6)                                                      # factorial of 6 is 720"
   ]
  },
  {
   "cell_type": "markdown",
   "metadata": {},
   "source": [
    "### Answer 6"
   ]
  },
  {
   "cell_type": "markdown",
   "metadata": {},
   "source": [
    "1. Function must start with a `def` keyword.\n",
    "2. Function's name is not python resereved keyword or any built-in function.\n",
    "3. Function must have a well descriptive doc string.\n",
    "4. Function must have proper function anntations.\n",
    "5. Function's name shoud be given as what it is working.\n",
    "6. Function must have proper consistnet indentations."
   ]
  },
  {
   "cell_type": "markdown",
   "metadata": {},
   "source": [
    "### Answer 7"
   ]
  },
  {
   "cell_type": "markdown",
   "metadata": {},
   "source": [
    "1. Using a default calling method like `func(*args)`.\n",
    "2. Using a decorator `@func`.\n",
    "3. Using mapping functions."
   ]
  }
 ],
 "metadata": {
  "kernelspec": {
   "display_name": "Python 3 (ipykernel)",
   "language": "python",
   "name": "python3"
  },
  "language_info": {
   "codemirror_mode": {
    "name": "ipython",
    "version": 3
   },
   "file_extension": ".py",
   "mimetype": "text/x-python",
   "name": "python",
   "nbconvert_exporter": "python",
   "pygments_lexer": "ipython3",
   "version": "3.10.6"
  }
 },
 "nbformat": 4,
 "nbformat_minor": 4
}
