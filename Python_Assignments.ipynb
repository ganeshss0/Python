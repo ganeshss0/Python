{
 "cells": [
  {
   "cell_type": "markdown",
   "id": "6aacf06f-e5ec-4ae8-a51e-7c3f5fee9d62",
   "metadata": {},
   "source": [
    "## Python Assignment 1\n",
    "1. Values: `'hello', -87.8, 6` <br />\n",
    "   Expression: `*, -, /, +`\n",
    "   <br />\n",
    "   <br />\n",
    "2. Difference between String and Variable <br />\n",
    "   A. String are a sequence of character, it can be used to store text data inside Memory, Strings can contains letters, integers, symbols.<br />\n",
    "   B. Variables are like container that can hold/store data like strings, integers, bools and other objects inside Memory(RAM) in a systematic manner so that it can be retrieved by variable's name.\n",
    "   <br />\n",
    "   <br />\n",
    "3. Datatypes<br />\n",
    "   A. <class 'int'> is a integer datatype it can store integers values.<br />\n",
    "   B. <class 'list'> is a list datatype it can store any python object inside it and object are accessed by indexing.<br />\n",
    "   C. <class 'bool'> is a boolean datatype it consist only two values boolean True and boolean False,can be used as boolean zero and one in boolean algebra, or inside if-else ladder.\n",
    "   <br />\n",
    "   <br />\n",
    "4. Expression are used to evaluate some values, expression can't do any actions like `5 + 3` is an expression while `a = 5 + 3` is an action that assign a value to variable.\n",
    "   <br />\n",
    "   <br />\n",
    "5. The statement like `spam = 10` can do some action (create a variable spam and assign a value 10 to it) while expression are used to evaluate some values like `spam ** 2 - spam`.\n",
    "   <br />\n",
    "   <br />\n",
    "6. After running<br />\n",
    "   `bacon = 22`<br />\n",
    "   `bacon + 1`<br />\n",
    "   variable bacon contains an integer value of 22.\n",
    "   <br />\n",
    "   <br />\n",
    "7. `>>>'spam' + 'spamspam'`<br />\n",
    "   `'spamspamspam'`<br />\n",
    "   `>>>'spam'*3`<br />\n",
    "   `'spamspamspam'`\n",
    "   <br />\n",
    "   <br />\n",
    "8. Because python follow some naming convensions, that are a valid variable name must be start from letters or `_` , it can contains numbers but not symbols except one.\n",
    "   <br />\n",
    "   <br />\n",
    "9. Three functions can be used to get the integers, floating, string version of a value.<br />\n",
    "   `def get_integer(value):`<br />\n",
    "      `'''Return the integer version of a value if possible else ValueError.'''`<br />\n",
    "      `return int(value)`<br /><br />\n",
    "   `def get_float(value):`<br />\n",
    "      `'''Return the float version of a value if possible else ValueError.'''`<br />\n",
    "      `return float(value)`<br /><br />\n",
    "   `def get_string(value):`<br />\n",
    "      `'''Return the string version of a value.'''`<br />\n",
    "      `return str(value)`<br />\n",
    "   <br />\n",
    "   <br />\n",
    "10. `'I have eaten' + 99 + 'burritos.'` gives `TypeError` because we are trying to add a string datatype and integer datatype that is not possible in python, the correct version of this is `'I have eaten' + '99' + 'burritos.'`\n"
   ]
  },
  {
   "cell_type": "markdown",
   "id": "e1a5564d",
   "metadata": {},
   "source": []
  }
 ],
 "metadata": {
  "kernelspec": {
   "display_name": "Python 3 (ipykernel)",
   "language": "python",
   "name": "python3"
  },
  "language_info": {
   "codemirror_mode": {
    "name": "ipython",
    "version": 3
   },
   "file_extension": ".py",
   "mimetype": "text/x-python",
   "name": "python",
   "nbconvert_exporter": "python",
   "pygments_lexer": "ipython3",
   "version": "3.10.6"
  }
 },
 "nbformat": 4,
 "nbformat_minor": 5
}
