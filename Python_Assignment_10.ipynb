{
 "cells": [
  {
   "cell_type": "markdown",
   "metadata": {},
   "source": [
    "# Python Assignment 10"
   ]
  },
  {
   "cell_type": "markdown",
   "metadata": {},
   "source": [
    "### Answer 1"
   ]
  },
  {
   "cell_type": "markdown",
   "metadata": {},
   "source": [
    "`shutil.copy()` copy a file while `shutil.copytree()` copies the whole directory and sub-directories."
   ]
  },
  {
   "cell_type": "markdown",
   "metadata": {},
   "source": [
    "### Answer 2"
   ]
  },
  {
   "cell_type": "markdown",
   "metadata": {},
   "source": [
    "`os.rename(src, dst)`"
   ]
  },
  {
   "cell_type": "markdown",
   "metadata": {},
   "source": [
    "### Answer 3"
   ]
  },
  {
   "cell_type": "markdown",
   "metadata": {},
   "source": [
    "The delete function in `shutil` permanently deletes files while delete function in `Send2Trash` move files to recycle bin."
   ]
  },
  {
   "cell_type": "markdown",
   "metadata": {},
   "source": [
    "### Answer 4"
   ]
  },
  {
   "cell_type": "markdown",
   "metadata": {},
   "source": [
    "The `close` method in file object flush and close the IO object, while `close` method in zipfile close the zipfile object."
   ]
  },
  {
   "cell_type": "markdown",
   "metadata": {},
   "source": [
    "### Answer 5"
   ]
  },
  {
   "cell_type": "markdown",
   "metadata": {},
   "source": [
    "A Program that searches a folder tree for files with a certain file extension and copy these files from whatever location they are in to a new folder."
   ]
  },
  {
   "cell_type": "code",
   "execution_count": null,
   "metadata": {},
   "outputs": [],
   "source": [
    "import os, shutil\n",
    "\n",
    "def is_path_exists(path) -> None:\n",
    "\n",
    "    '''Raise FileNotFoundError if provided path does not exists, if path exists then it return None.'''\n",
    "    \n",
    "    if not os.path.exists(path):\n",
    "        raise FileNotFoundError(f\"The system cannot find the path specified: '{path}'\")\n",
    "\n",
    "\n",
    "\n",
    "def file_copier(src:str, dst:str, ext:str) -> None:\n",
    "\n",
    "    '''Copy files from source to destination (only those files having same extension).'''\n",
    "\n",
    "    is_path_exists(src), is_path_exists(dst)                      # Raise FileNotFoundError if src or dst does not exists\n",
    "\n",
    "\n",
    "    for root, dirs, files in os.walk(src):                       # walk through directory\n",
    "        for file in files:\n",
    "            if file.endswith(dst):                               # if file's extension match with provided one then copy file to destination\n",
    "                shutil.copy(os.path.join(root, file), dst)                                   \n",
    "\n",
    "# file_copier(src = 'path/of/source', dst = 'path/of/destination', ext = '.py')"
   ]
  }
 ],
 "metadata": {
  "kernelspec": {
   "display_name": "Python 3.10.2 64-bit",
   "language": "python",
   "name": "python3"
  },
  "language_info": {
   "codemirror_mode": {
    "name": "ipython",
    "version": 3
   },
   "file_extension": ".py",
   "mimetype": "text/x-python",
   "name": "python",
   "nbconvert_exporter": "python",
   "pygments_lexer": "ipython3",
   "version": "3.10.2"
  },
  "orig_nbformat": 4,
  "vscode": {
   "interpreter": {
    "hash": "2469a70536e4d2335a2ea8907942d0699c37342a371ac185bdb5b0aa6f073890"
   }
  }
 },
 "nbformat": 4,
 "nbformat_minor": 2
}
